{
 "cells": [
  {
   "cell_type": "markdown",
   "source": [
    "Berner Fachhochschule BFH - MAS Data Science - Graph Machine Learning - Master Thesis FS/2022 Thomas Iten\n",
    "\n",
    "# 17. Test Data Analysis"
   ],
   "metadata": {
    "collapsed": false
   }
  },
  {
   "cell_type": "code",
   "execution_count": 1,
   "outputs": [],
   "source": [
    "from gml.graph.data_factory import TestTrainDataFactory"
   ],
   "metadata": {
    "collapsed": false,
    "pycharm": {
     "name": "#%%\n"
    }
   }
  },
  {
   "cell_type": "markdown",
   "source": [
    "## 17.1 Setup Test Heat"
   ],
   "metadata": {
    "collapsed": false
   }
  },
  {
   "cell_type": "code",
   "execution_count": 2,
   "outputs": [],
   "source": [
    "def heat(n, verbose=True):\n",
    "\n",
    "    graph, test_graph, test_samples, test_labels, train_graph, train_samples, train_labels\\\n",
    "        = TestTrainDataFactory().create_testdata(n, add_id=False, add_predict_edges=True)\n",
    "\n",
    "    result = {\n",
    "        \"test\" : n,\n",
    "        \"avg_shortest_path\" : graph.shortest_path_average(),\n",
    "        \"global_efficiency\" : graph.efficiency(),\n",
    "        \"local_efficiency\"  : graph.efficiency(local=True),\n",
    "        \"avg_clustering\"    : graph.clustering(average=True)\n",
    "    }\n",
    "\n",
    "    if verbose:\n",
    "        print(result)\n",
    "\n",
    "    return result\n",
    "\n",
    "\n",
    "def heats(n_list, verbose=True):\n",
    "    results = []\n",
    "\n",
    "    if verbose:\n",
    "        print(\"Run heats:\", n_list)\n",
    "\n",
    "    for n in n_list:\n",
    "        result = heat(n, verbose)\n",
    "        results.append(result)\n",
    "\n",
    "    return results"
   ],
   "metadata": {
    "collapsed": false,
    "pycharm": {
     "name": "#%%\n"
    }
   }
  },
  {
   "cell_type": "markdown",
   "source": [
    "## 17.2 Vergleich Masse von Graphen mit gleicher Grösse"
   ],
   "metadata": {
    "collapsed": false
   }
  },
  {
   "cell_type": "code",
   "execution_count": 3,
   "outputs": [
    {
     "name": "stdout",
     "output_type": "stream",
     "text": [
      "Run heats: [100, 100, 100]\n",
      "{'test': 100, 'avg_shortest_path': 2.9817635060060477, 'global_efficiency': 0.361432956883482, 'local_efficiency': 0.19380770897454444, 'avg_clustering': 0.16612036430034463}\n",
      "{'test': 100, 'avg_shortest_path': 2.9817635060060477, 'global_efficiency': 0.361432956883482, 'local_efficiency': 0.19380770897454444, 'avg_clustering': 0.16612036430034463}\n",
      "{'test': 100, 'avg_shortest_path': 2.9817635060060477, 'global_efficiency': 0.361432956883482, 'local_efficiency': 0.19380770897454444, 'avg_clustering': 0.16612036430034463}\n"
     ]
    }
   ],
   "source": [
    "tests = [100,100,100]\n",
    "results = heats(tests)"
   ],
   "metadata": {
    "collapsed": false,
    "pycharm": {
     "name": "#%%\n"
    }
   }
  },
  {
   "cell_type": "markdown",
   "source": [
    "## 17.3 Vergleich Masse von Graphen mit unterschiedlichen Grössen"
   ],
   "metadata": {
    "collapsed": false
   }
  },
  {
   "cell_type": "code",
   "execution_count": 4,
   "outputs": [
    {
     "name": "stdout",
     "output_type": "stream",
     "text": [
      "Run heats: [10, 100, 1000]\n",
      "{'test': 10, 'avg_shortest_path': 2.826017979904812, 'global_efficiency': 0.40379869557552733, 'local_efficiency': 0.18909899888765294, 'avg_clustering': 0.16203188728216536}\n",
      "{'test': 100, 'avg_shortest_path': 2.9817635060060477, 'global_efficiency': 0.361432956883482, 'local_efficiency': 0.19380770897454444, 'avg_clustering': 0.16612036430034463}\n",
      "{'test': 1000, 'avg_shortest_path': 2.9981676385047678, 'global_efficiency': 0.3569789120680008, 'local_efficiency': 0.19437974381997083, 'avg_clustering': 0.16661120369753385}\n"
     ]
    }
   ],
   "source": [
    "tests = [10,100,1000]\n",
    "results = heats(tests)"
   ],
   "metadata": {
    "collapsed": false,
    "pycharm": {
     "name": "#%%\n"
    }
   }
  },
  {
   "cell_type": "markdown",
   "source": [
    "---\n",
    "_The end._"
   ],
   "metadata": {
    "collapsed": false
   }
  }
 ],
 "metadata": {
  "kernelspec": {
   "display_name": "Python 3",
   "language": "python",
   "name": "python3"
  },
  "language_info": {
   "codemirror_mode": {
    "name": "ipython",
    "version": 2
   },
   "file_extension": ".py",
   "mimetype": "text/x-python",
   "name": "python",
   "nbconvert_exporter": "python",
   "pygments_lexer": "ipython2",
   "version": "2.7.6"
  }
 },
 "nbformat": 4,
 "nbformat_minor": 0
}
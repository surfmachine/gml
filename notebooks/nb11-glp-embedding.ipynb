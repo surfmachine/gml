{
 "cells": [
  {
   "cell_type": "markdown",
   "source": [
    "Berner Fachhochschule BFH - MAS Data Science - Graph Machine Learning - Master Thesis FS/2022 Thomas Iten\n",
    "\n",
    "# 11. Embedding based Graph Link Prediction\n",
    "\n",
    "**Referenzen**<br />\n",
    "[1] https://snap.stanford.edu/node2vec<br />\n",
    "[2] https://stellargraph.readthedocs.io/en/stable/demos/link-prediction/node2vec-link-prediction.html<br />\n",
    "[3] Stamile, Marzullo, Deusebio. Graph Machine Learning. Packt Publishing 2021. ISBN 978-1-80020-449-2\n"
   ],
   "metadata": {
    "collapsed": false
   }
  },
  {
   "cell_type": "code",
   "execution_count": 2,
   "metadata": {
    "collapsed": true
   },
   "outputs": [],
   "source": [
    "import pandas as pd\n",
    "from stellargraph.data import EdgeSplitter\n",
    "from sklearn.ensemble import RandomForestClassifier, AdaBoostClassifier\n",
    "from sklearn import metrics\n",
    "from gml.graph.graph_builder import GraphBuilder\n",
    "from gml.graph.graph_embedding import EdgeEmbedding"
   ]
  },
  {
   "cell_type": "markdown",
   "source": [
    "## 11.1 Cora Daten laden\n",
    "\n",
    "Der Cora-Datensatz besteht aus 2708 wissenschaftlichen Veröffentlichungen, die einer von sieben Klassen zugeordnet sind. Das Zitationsnetzwerk besteht aus 5278 Links. Jede Veröffentlichung im Datensatz wird durch einen Wortvektor mit 0/1-Werten beschrieben, der das Fehlen/Vorhandensein des entsprechenden Wortes aus dem Wörterbuch angibt. Das Wörterbuch besteht aus 1433 eindeutigen Wörtern.\n",
    "\n",
    "Die Datei cora.cites enthält die Liste aller Verbindungen, mit jeweils einem Knotenpaar pro Zeile:\n",
    "```\n",
    "35    1033\n",
    "3229  118559\n",
    "...\n",
    "```\n",
    "Die Liste wird mit Hilfe der GraphBuilder Klasse geladen. Die Builder Klasse erstellt neben der Edge List automatisch die Liste aller Knoten. Anschliessend wird mit der create() Methode der Graph erstellt und order und size ausgegeben.\n",
    "\n"
   ],
   "metadata": {
    "collapsed": false
   }
  },
  {
   "cell_type": "code",
   "execution_count": 9,
   "outputs": [
    {
     "name": "stdout",
     "output_type": "stream",
     "text": [
      "Graph order and size:\n",
      "Order = 2708 (number of nodes)\n",
      "Size  = 5278 (number of edges)\n"
     ]
    }
   ],
   "source": [
    "cora_edges_file = \"../data/cora/cora.cites\"\n",
    "\n",
    "graph = GraphBuilder().append_edges_file(cora_edges_file, sep=\"\\t\").create(detect_multi_graph=False)\n",
    "props = graph.properties()\n",
    "\n",
    "print(\"Graph order and size:\")\n",
    "print(\"Order =\", props['order'], \"(number of nodes)\")\n",
    "print(\"Size  =\", props['size'], \"(number of edges)\")"
   ],
   "metadata": {
    "collapsed": false,
    "pycharm": {
     "name": "#%%\n"
    }
   }
  },
  {
   "cell_type": "markdown",
   "source": [
    "## 10.2 Embeddings erstellen\n",
    "Erstellung der Embeddings (Feature Vektor X) mit Node2Vec und Hadamard Embedder. Die Aufrufe sind in der Klasse Edge Embedding gekapselt. Es werden 128 Embedding Dimensionen erstellt. Für die anderen Parameter des Node2Vec Algorithmus werden die Default Werte übernommen."
   ],
   "metadata": {
    "collapsed": false
   }
  },
  {
   "cell_type": "code",
   "execution_count": 11,
   "outputs": [
    {
     "data": {
      "text/plain": "Computing transition probabilities:   0%|          | 0/2708 [00:00<?, ?it/s]",
      "application/vnd.jupyter.widget-view+json": {
       "version_major": 2,
       "version_minor": 0,
       "model_id": "aac1effab52c49ec9bdfb32c6adb04fc"
      }
     },
     "metadata": {},
     "output_type": "display_data"
    },
    {
     "name": "stderr",
     "output_type": "stream",
     "text": [
      "Generating walks (CPU: 1): 100%|██████████| 10/10 [00:09<00:00,  1.01it/s]\n"
     ]
    }
   ],
   "source": [
    "embeddings =  EdgeEmbedding(graph.graph, dimensions=128).embeddings"
   ],
   "metadata": {
    "collapsed": false,
    "pycharm": {
     "name": "#%%\n"
    }
   }
  },
  {
   "cell_type": "code",
   "execution_count": 17,
   "outputs": [
    {
     "name": "stdout",
     "output_type": "stream",
     "text": [
      "Embedding shape:\n",
      "Nodes    = 2708 (number of nodes)\n",
      "Features = 128 (number of features per node)\n"
     ]
    }
   ],
   "source": [
    "print(\"Embedding shape:\")\n",
    "print(\"Nodes    =\", str(embeddings.kv.vectors.shape[0]), \"(number of nodes)\")\n",
    "print(\"Features =\", embeddings.kv.vectors.shape[1], \"(number of features per node)\")"
   ],
   "metadata": {
    "collapsed": false,
    "pycharm": {
     "name": "#%%\n"
    }
   }
  },
  {
   "cell_type": "markdown",
   "source": [
    "## 11.3 Test- und Trainigsdaten aufbereiten\n",
    "Für die Aufteilung der Daten wird die Klasse EdgeSplitter aus dem stellargraph.data Package verwendent.\n",
    "\n",
    "**Testdaten**\n",
    "\n",
    "Als erstes werden aus dem gesammten Graphen einen Teilgraphen sowie eine Liste von Verbindungen und Labels für die Tests generiert.\n",
    "- test_graph   : Subset von original Graphen mit allen Knoten aber nur einem Teil der Verbindungen\n",
    "- test_samples : Liste mit Knotenpaaren mit realen Verbindungen (positive edges) und Knotenpaaren die keine Verbindungen haben (negative edges)\n",
    "- test_labels  : Liste mit den Labeln passend zu den Knotenpaaren der Testdaten\n",
    "- test_embeddings: Feature Vektor der Testdaten"
   ],
   "metadata": {
    "collapsed": false
   }
  },
  {
   "cell_type": "code",
   "execution_count": 23,
   "outputs": [
    {
     "name": "stdout",
     "output_type": "stream",
     "text": [
      "** Sampled 527 positive and 527 negative edges. **\n"
     ]
    }
   ],
   "source": [
    "edgeSplitter = EdgeSplitter(graph.graph)\n",
    "test_graph, test_samples, test_labels  = edgeSplitter.train_test_split(p=0.1, method=\"global\")\n",
    "test_embeddings = [embeddings[str(x[0]),str(x[1])] for x in test_samples]"
   ],
   "metadata": {
    "collapsed": false,
    "pycharm": {
     "name": "#%%\n"
    }
   }
  },
  {
   "cell_type": "markdown",
   "source": [
    "**Trainingsdaten**\n",
    "\n",
    "Das gleich wird anschliessend für die Trainingsdaten gemacht. Bei der Initialisierung der EdgeSplitter Klassen wird zusätzlich der erstellte test_graph übergeben, so dass die Trainings- und Testdaten nicht überschneiden."
   ],
   "metadata": {
    "collapsed": false
   }
  },
  {
   "cell_type": "code",
   "execution_count": 24,
   "outputs": [
    {
     "name": "stdout",
     "output_type": "stream",
     "text": [
      "** Sampled 475 positive and 475 negative edges. **\n"
     ]
    }
   ],
   "source": [
    "edgeSplitter = EdgeSplitter(test_graph, graph.graph)\n",
    "train_graph, train_samples, train_labels = edgeSplitter.train_test_split(p=0.1, method=\"global\")\n",
    "train_embeddings = [embeddings[str(x[0]),str(x[1])] for x in train_samples]"
   ],
   "metadata": {
    "collapsed": false,
    "pycharm": {
     "name": "#%%\n"
    }
   }
  },
  {
   "cell_type": "markdown",
   "source": [
    "## 11.4 Training und Test mit RandomForest- und AdaBoostClassifier\n",
    "\n",
    "**Train and Test**"
   ],
   "metadata": {
    "collapsed": false
   }
  },
  {
   "cell_type": "code",
   "execution_count": 32,
   "outputs": [
    {
     "name": "stdout",
     "output_type": "stream",
     "text": [
      "RandomForestClassifier train...\n",
      "RandomForestClassifier test...\n",
      "AdaBoostClassifier train...\n",
      "AdaBoostClassifier test...\n"
     ]
    }
   ],
   "source": [
    "classifiers = [RandomForestClassifier, AdaBoostClassifier]\n",
    "\n",
    "labels = ['Classifier', 'Precision', 'Recall', 'F1-Score']\n",
    "scores = []\n",
    "\n",
    "for classifier in classifiers:\n",
    "    name = classifier.__name__\n",
    "    print(name, \"train...\")\n",
    "    c = classifier(n_estimators=1000)\n",
    "    c.fit(train_embeddings, train_labels)\n",
    "    print(name, \"test...\")\n",
    "    y_pred = c.predict(test_embeddings)\n",
    "    score = [\n",
    "        name,\n",
    "        metrics.precision_score(test_labels, y_pred),\n",
    "        metrics.recall_score(test_labels, y_pred),\n",
    "        metrics.f1_score(test_labels, y_pred)\n",
    "    ]\n",
    "    scores.append(score)"
   ],
   "metadata": {
    "collapsed": false,
    "pycharm": {
     "name": "#%%\n"
    }
   }
  },
  {
   "cell_type": "markdown",
   "source": [
    "**Scores**\n",
    "\n",
    "Die Scores zeigen bereits gute Resultate mit den Default Werten vom Node2Vec Algorithmus und Hadamard Embedder."
   ],
   "metadata": {
    "collapsed": false
   }
  },
  {
   "cell_type": "code",
   "execution_count": 33,
   "outputs": [
    {
     "name": "stdout",
     "output_type": "stream",
     "text": [
      "               Classifier  Precision    Recall  F1-Score\n",
      "0  RandomForestClassifier   0.982422  0.954459  0.968239\n",
      "1      AdaBoostClassifier   0.961183  0.986717  0.973783\n"
     ]
    }
   ],
   "source": [
    "df = df = pd.DataFrame(scores, columns=labels)\n",
    "print(df)"
   ],
   "metadata": {
    "collapsed": false,
    "pycharm": {
     "name": "#%%\n"
    }
   }
  },
  {
   "cell_type": "markdown",
   "source": [
    "---\n",
    "_The end._"
   ],
   "metadata": {
    "collapsed": false
   }
  }
 ],
 "metadata": {
  "kernelspec": {
   "display_name": "Python 3",
   "language": "python",
   "name": "python3"
  },
  "language_info": {
   "codemirror_mode": {
    "name": "ipython",
    "version": 2
   },
   "file_extension": ".py",
   "mimetype": "text/x-python",
   "name": "python",
   "nbconvert_exporter": "python",
   "pygments_lexer": "ipython2",
   "version": "2.7.6"
  }
 },
 "nbformat": 4,
 "nbformat_minor": 0
}
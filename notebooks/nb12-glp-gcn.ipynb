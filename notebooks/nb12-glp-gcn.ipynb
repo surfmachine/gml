{
 "cells": [
  {
   "cell_type": "markdown",
   "source": [
    "Berner Fachhochschule BFH - MAS Data Science - Graph Machine Learning - Master Thesis FS/2022 Thomas Iten\n",
    "\n",
    "# 12. GCN Link Prediction\n",
    "\n",
    "**Inhalt**\n",
    "1. Cora Datenset laden inklusive Features\n",
    "2. Test- und Trainingsdaten aufbereiten\n",
    "3. Link Generator definieren\n",
    "4. GCN Model erstellen\n",
    "5. Test Performance mit untrainiertem Model\n",
    "6. Model trainieren\n",
    "7. Test Performance\n",
    "\n",
    "**Referenzen**<br />\n",
    "[1] https://stellargraph.readthedocs.io/en/stable/demos/link-prediction/gcn-link-prediction.html\n"
   ],
   "metadata": {
    "collapsed": false
   }
  },
  {
   "cell_type": "code",
   "execution_count": 1,
   "metadata": {
    "collapsed": true
   },
   "outputs": [],
   "source": [
    "import stellargraph as sg\n",
    "from stellargraph import datasets\n",
    "from stellargraph.data import EdgeSplitter\n",
    "from stellargraph.mapper import FullBatchLinkGenerator\n",
    "from stellargraph.layer import GCN, LinkEmbedding\n",
    "\n",
    "from tensorflow import keras\n",
    "\n",
    "from IPython.display import display, HTML"
   ]
  },
  {
   "cell_type": "markdown",
   "source": [
    "## 12.1 Cora Datenset laden inklusive Features\n",
    "Laden der Cora Daten direkt mit Hilfe der Datasets Klasse. Jeder Node repräsentiert ein Schreiben. Mit dem Parameter subject_as_feature True wird das Thema (Subject) direkt als Node Feature mitgeliefert."
   ],
   "metadata": {
    "collapsed": false
   }
  },
  {
   "cell_type": "code",
   "execution_count": 2,
   "outputs": [
    {
     "data": {
      "text/plain": "<IPython.core.display.HTML object>",
      "text/html": "The Cora dataset consists of 2708 scientific publications classified into one of seven classes. The citation network consists of 5429 links. Each publication in the dataset is described by a 0/1-valued word vector indicating the absence/presence of the corresponding word from the dictionary. The dictionary consists of 1433 unique words."
     },
     "metadata": {},
     "output_type": "display_data"
    },
    {
     "name": "stdout",
     "output_type": "stream",
     "text": [
      "StellarGraph: Undirected multigraph\n",
      " Nodes: 2708, Edges: 5429\n",
      "\n",
      " Node types:\n",
      "  paper: [2708]\n",
      "    Features: float32 vector, length 1440\n",
      "    Edge types: paper-cites->paper\n",
      "\n",
      " Edge types:\n",
      "    paper-cites->paper: [5429]\n",
      "        Weights: all 1 (default)\n",
      "        Features: none\n"
     ]
    }
   ],
   "source": [
    "dataset = datasets.Cora()\n",
    "display(HTML(dataset.description))\n",
    "graph, _ = dataset.load(subject_as_feature=True)\n",
    "\n",
    "print(graph.info())"
   ],
   "metadata": {
    "collapsed": false,
    "pycharm": {
     "name": "#%%\n"
    }
   }
  },
  {
   "cell_type": "markdown",
   "source": [
    "## 12.2 Test- und Trainigsdaten aufbereiten\n",
    "Für die Aufteilung der Daten wird die Klasse EdgeSplitter aus dem stellargraph.data Package verwendent.\n",
    "\n",
    "**Testdaten**\n",
    "\n",
    "Als erstes werden aus dem gesammten Graphen einen Teilgraphen sowie eine Liste von Verbindungen und Labels für die Tests generiert.\n",
    "- test_graph   : Subset von original Graphen mit allen Knoten aber nur einem Teil der Verbindungen\n",
    "- test_samples : Liste mit Knotenpaaren mit realen Verbindungen (positive edges) und Knotenpaaren die keine Verbindungen haben (negative edges)\n",
    "- test_labels  : Liste mit den Labeln passend zu den Knotenpaaren der Testdaten"
   ],
   "metadata": {
    "collapsed": false
   }
  },
  {
   "cell_type": "code",
   "execution_count": 3,
   "outputs": [
    {
     "name": "stdout",
     "output_type": "stream",
     "text": [
      "** Sampled 542 positive and 542 negative edges. **\n"
     ]
    }
   ],
   "source": [
    "edgeSplitter = EdgeSplitter(graph)\n",
    "test_graph, test_samples, test_labels  = edgeSplitter.train_test_split(p=0.1, method=\"global\", keep_connected=True)"
   ],
   "metadata": {
    "collapsed": false,
    "pycharm": {
     "name": "#%%\n"
    }
   }
  },
  {
   "cell_type": "markdown",
   "source": [
    "**Trainingsdaten**\n",
    "\n",
    "Das gleich wird anschliessend für die Trainingsdaten gemacht. Bei der Initialisierung der EdgeSplitter Klassen wird zusätzlich der erstellte test_graph übergeben, so dass die Trainings- und Testdaten nicht überschneiden."
   ],
   "metadata": {
    "collapsed": false
   }
  },
  {
   "cell_type": "code",
   "execution_count": 4,
   "outputs": [
    {
     "name": "stdout",
     "output_type": "stream",
     "text": [
      "** Sampled 488 positive and 488 negative edges. **\n"
     ]
    }
   ],
   "source": [
    "edgeSplitter = EdgeSplitter(test_graph)\n",
    "train_graph, train_samples, train_labels = edgeSplitter.train_test_split(p=0.1, method=\"global\", keep_connected=True)"
   ],
   "metadata": {
    "collapsed": false,
    "pycharm": {
     "name": "#%%\n"
    }
   }
  },
  {
   "cell_type": "markdown",
   "source": [
    "## 12.3 Link Generator definieren\n",
    "Mit Hilfe des FullBatchLinkGenerator wird für die Trainigs- und Testdaten je ein Flow Objekt erzeugt. Diese liefert die Knoten Paarweise zusammen mit dem entsprechenden Label. Mit Hilfe vom Flow Objekt wird anschliessend das Model Training durchgeführt, sowie die Performance gemessen. Mit der Angabe method=\"gcn\" wird die Adjazenzmatrix für den GCN Algorithmus normalisiert."
   ],
   "metadata": {
    "collapsed": false
   }
  },
  {
   "cell_type": "code",
   "execution_count": 5,
   "outputs": [
    {
     "name": "stdout",
     "output_type": "stream",
     "text": [
      "Using GCN (local pooling) filters...\n",
      "Using GCN (local pooling) filters...\n"
     ]
    }
   ],
   "source": [
    "train_gen  = FullBatchLinkGenerator(train_graph, method=\"gcn\")\n",
    "train_flow = train_gen.flow(train_samples, train_labels)\n",
    "\n",
    "test_gen   = FullBatchLinkGenerator(test_graph, method=\"gcn\")\n",
    "test_flow  = test_gen.flow(test_samples, test_labels)"
   ],
   "metadata": {
    "collapsed": false,
    "pycharm": {
     "name": "#%%\n"
    }
   }
  },
  {
   "cell_type": "markdown",
   "source": [
    "## 12.4 GCN Model erstellen\n",
    "Das GCN Modell wird wie folgt aufgebaut:\n",
    "- layer_sizes: Anzahl \"hidden features\" pro Layer. Hier werden zwei 16-dimensionale GCN Layer definiert.\n",
    "- activations: Definition der Aktivierungen pro Layer. Hier werden zwei Relu für die beiden Layer definiert.\n",
    "- dropout: Mit der Angabe dropout=0.3 werden 30% dropout für jeden Layer spezifiziert.\n",
    "\n",
    "Die Knoten Embeddings des GCN Modell werden nun mit einer Link Klassifizierungschicht verknüpft. Die Edge Embedding Methode 'ip' steht für Inner Product (es sind auch noch andere wie Hadamard, L1, L2 oder Avg möglich). Damit wird schliesslich ein vollständiges Keras Model mit einen Adam Optimierer erzeugt. Als Loss Funktion wird binäre Kreuzentropi (binary crossentropy) eingesetzt."
   ],
   "metadata": {
    "collapsed": false
   }
  },
  {
   "cell_type": "code",
   "execution_count": 6,
   "outputs": [],
   "source": [
    "gcn = GCN(\n",
    "    layer_sizes=[16, 16],\n",
    "    activations=[\"relu\", \"relu\"],\n",
    "    generator=train_gen,\n",
    "    dropout=0.3\n",
    ")\n",
    "\n",
    "x_inp, x_out = gcn.in_out_tensors()\n",
    "prediction = LinkEmbedding(activation=\"relu\", method=\"ip\")(x_out)\n",
    "prediction = keras.layers.Reshape((-1,))(prediction)\n",
    "\n",
    "model = keras.Model(inputs=x_inp, outputs=prediction)\n",
    "model.compile(\n",
    "    optimizer=keras.optimizers.Adam(learning_rate=1e-3),\n",
    "    loss=keras.losses.binary_crossentropy,\n",
    "    metrics=[keras.metrics.binary_accuracy],\n",
    ")"
   ],
   "metadata": {
    "collapsed": false,
    "pycharm": {
     "name": "#%%\n"
    }
   }
  },
  {
   "cell_type": "markdown",
   "source": [
    "# 12.5 Test Performance mit untrainiertem Model"
   ],
   "metadata": {
    "collapsed": false
   }
  },
  {
   "cell_type": "code",
   "execution_count": 11,
   "outputs": [
    {
     "name": "stdout",
     "output_type": "stream",
     "text": [
      "1/1 [==============================] - 0s 123ms/step - loss: 0.5199 - binary_accuracy: 0.7654\n",
      "1/1 [==============================] - 0s 79ms/step - loss: 0.6091 - binary_accuracy: 0.7011\n",
      "\n",
      "Untrained Performance Training Set:\n",
      "- loss: 0.5199\n",
      "- binary_accuracy: 0.7654\n",
      "\n",
      "Untrained Performance Test Set:\n",
      "- loss: 0.6091\n",
      "- binary_accuracy: 0.7011\n"
     ]
    }
   ],
   "source": [
    "def evaluate_metrics(title, metric_names, metrics):\n",
    "    print()\n",
    "    print(title)\n",
    "    for name, val in zip(metric_names, metrics):\n",
    "        print(\"- {}: {:0.4f}\".format(name, val))\n",
    "\n",
    "train_metrics = model.evaluate(train_flow)\n",
    "test_metrics = model.evaluate(test_flow)\n",
    "\n",
    "evaluate_metrics(\"Untrained Performance Training Set:\", model.metrics_names, train_metrics)\n",
    "evaluate_metrics(\"Untrained Performance Test Set:\", model.metrics_names, test_metrics)"
   ],
   "metadata": {
    "collapsed": false,
    "pycharm": {
     "name": "#%%\n"
    }
   }
  },
  {
   "cell_type": "markdown",
   "source": [],
   "metadata": {
    "collapsed": false
   }
  },
  {
   "cell_type": "markdown",
   "source": [
    "## 12.6 Model trainieren"
   ],
   "metadata": {
    "collapsed": false
   }
  },
  {
   "cell_type": "code",
   "execution_count": 8,
   "outputs": [
    {
     "name": "stdout",
     "output_type": "stream",
     "text": [
      "Epoch 1/60\n",
      "1/1 [==============================] - 1s 980ms/step - loss: 1.7964 - binary_accuracy: 0.5000 - val_loss: 1.6103 - val_binary_accuracy: 0.5000\n",
      "Epoch 2/60\n",
      "1/1 [==============================] - 0s 136ms/step - loss: 1.5826 - binary_accuracy: 0.5010 - val_loss: 1.3831 - val_binary_accuracy: 0.5000\n",
      "Epoch 3/60\n",
      "1/1 [==============================] - 0s 195ms/step - loss: 1.3678 - binary_accuracy: 0.5051 - val_loss: 1.1836 - val_binary_accuracy: 0.5018\n",
      "Epoch 4/60\n",
      "1/1 [==============================] - 0s 196ms/step - loss: 1.1882 - binary_accuracy: 0.5061 - val_loss: 1.0129 - val_binary_accuracy: 0.5120\n",
      "Epoch 5/60\n",
      "1/1 [==============================] - 0s 181ms/step - loss: 1.0024 - binary_accuracy: 0.5123 - val_loss: 0.8713 - val_binary_accuracy: 0.5314\n",
      "Epoch 6/60\n",
      "1/1 [==============================] - 0s 140ms/step - loss: 0.9181 - binary_accuracy: 0.5297 - val_loss: 0.7596 - val_binary_accuracy: 0.5821\n",
      "Epoch 7/60\n",
      "1/1 [==============================] - 0s 161ms/step - loss: 0.8033 - binary_accuracy: 0.5553 - val_loss: 0.6900 - val_binary_accuracy: 0.6301\n",
      "Epoch 8/60\n",
      "1/1 [==============================] - 0s 192ms/step - loss: 0.7501 - binary_accuracy: 0.5830 - val_loss: 0.6456 - val_binary_accuracy: 0.6513\n",
      "Epoch 9/60\n",
      "1/1 [==============================] - 0s 180ms/step - loss: 0.7530 - binary_accuracy: 0.5963 - val_loss: 0.6814 - val_binary_accuracy: 0.6504\n",
      "Epoch 10/60\n",
      "1/1 [==============================] - 0s 204ms/step - loss: 0.8682 - binary_accuracy: 0.6045 - val_loss: 0.7311 - val_binary_accuracy: 0.6273\n",
      "Epoch 11/60\n",
      "1/1 [==============================] - 0s 168ms/step - loss: 0.9189 - binary_accuracy: 0.5932 - val_loss: 0.8181 - val_binary_accuracy: 0.6116\n",
      "Epoch 12/60\n",
      "1/1 [==============================] - 0s 148ms/step - loss: 1.0237 - binary_accuracy: 0.5830 - val_loss: 0.8384 - val_binary_accuracy: 0.6042\n",
      "Epoch 13/60\n",
      "1/1 [==============================] - 0s 192ms/step - loss: 1.1582 - binary_accuracy: 0.5789 - val_loss: 0.8165 - val_binary_accuracy: 0.6125\n",
      "Epoch 14/60\n",
      "1/1 [==============================] - 0s 204ms/step - loss: 1.0024 - binary_accuracy: 0.6076 - val_loss: 0.7358 - val_binary_accuracy: 0.6292\n",
      "Epoch 15/60\n",
      "1/1 [==============================] - 0s 188ms/step - loss: 0.9983 - binary_accuracy: 0.6178 - val_loss: 0.7180 - val_binary_accuracy: 0.6439\n",
      "Epoch 16/60\n",
      "1/1 [==============================] - 0s 152ms/step - loss: 0.8001 - binary_accuracy: 0.6178 - val_loss: 0.6894 - val_binary_accuracy: 0.6494\n",
      "Epoch 17/60\n",
      "1/1 [==============================] - 0s 152ms/step - loss: 0.8568 - binary_accuracy: 0.6117 - val_loss: 0.6506 - val_binary_accuracy: 0.6439\n",
      "Epoch 18/60\n",
      "1/1 [==============================] - 0s 192ms/step - loss: 0.7736 - binary_accuracy: 0.6209 - val_loss: 0.6415 - val_binary_accuracy: 0.6587\n",
      "Epoch 19/60\n",
      "1/1 [==============================] - 0s 192ms/step - loss: 0.6779 - binary_accuracy: 0.6301 - val_loss: 0.6366 - val_binary_accuracy: 0.6605\n",
      "Epoch 20/60\n",
      "1/1 [==============================] - 0s 192ms/step - loss: 0.6978 - binary_accuracy: 0.6230 - val_loss: 0.6447 - val_binary_accuracy: 0.6541\n",
      "Epoch 21/60\n",
      "1/1 [==============================] - 0s 152ms/step - loss: 0.6870 - binary_accuracy: 0.6076 - val_loss: 0.6531 - val_binary_accuracy: 0.6421\n",
      "Epoch 22/60\n",
      "1/1 [==============================] - 0s 152ms/step - loss: 0.6782 - binary_accuracy: 0.5994 - val_loss: 0.6610 - val_binary_accuracy: 0.6347\n",
      "Epoch 23/60\n",
      "1/1 [==============================] - 0s 180ms/step - loss: 0.6722 - binary_accuracy: 0.6045 - val_loss: 0.6667 - val_binary_accuracy: 0.6375\n",
      "Epoch 24/60\n",
      "1/1 [==============================] - 0s 171ms/step - loss: 0.6960 - binary_accuracy: 0.6189 - val_loss: 0.6694 - val_binary_accuracy: 0.6328\n",
      "Epoch 25/60\n",
      "1/1 [==============================] - 0s 188ms/step - loss: 0.6765 - binary_accuracy: 0.5973 - val_loss: 0.6594 - val_binary_accuracy: 0.6301\n",
      "Epoch 26/60\n",
      "1/1 [==============================] - 0s 152ms/step - loss: 0.6892 - binary_accuracy: 0.6178 - val_loss: 0.6567 - val_binary_accuracy: 0.6328\n",
      "Epoch 27/60\n",
      "1/1 [==============================] - 0s 152ms/step - loss: 0.6992 - binary_accuracy: 0.6066 - val_loss: 0.6528 - val_binary_accuracy: 0.6393\n",
      "Epoch 28/60\n",
      "1/1 [==============================] - 0s 196ms/step - loss: 0.6408 - binary_accuracy: 0.6383 - val_loss: 0.6555 - val_binary_accuracy: 0.6375\n",
      "Epoch 29/60\n",
      "1/1 [==============================] - 0s 192ms/step - loss: 0.6534 - binary_accuracy: 0.6322 - val_loss: 0.6478 - val_binary_accuracy: 0.6421\n",
      "Epoch 30/60\n",
      "1/1 [==============================] - 0s 200ms/step - loss: 0.6663 - binary_accuracy: 0.6455 - val_loss: 0.6400 - val_binary_accuracy: 0.6439\n",
      "Epoch 31/60\n",
      "1/1 [==============================] - 0s 148ms/step - loss: 0.6413 - binary_accuracy: 0.6598 - val_loss: 0.6326 - val_binary_accuracy: 0.6587\n",
      "Epoch 32/60\n",
      "1/1 [==============================] - 0s 140ms/step - loss: 0.6500 - binary_accuracy: 0.6434 - val_loss: 0.6285 - val_binary_accuracy: 0.6679\n",
      "Epoch 33/60\n",
      "1/1 [==============================] - 0s 160ms/step - loss: 0.6237 - binary_accuracy: 0.6527 - val_loss: 0.6247 - val_binary_accuracy: 0.6679\n",
      "Epoch 34/60\n",
      "1/1 [==============================] - 0s 165ms/step - loss: 0.6544 - binary_accuracy: 0.6516 - val_loss: 0.6216 - val_binary_accuracy: 0.6762\n",
      "Epoch 35/60\n",
      "1/1 [==============================] - 0s 176ms/step - loss: 0.6391 - binary_accuracy: 0.6629 - val_loss: 0.6211 - val_binary_accuracy: 0.6799\n",
      "Epoch 36/60\n",
      "1/1 [==============================] - 0s 163ms/step - loss: 0.6554 - binary_accuracy: 0.6527 - val_loss: 0.6291 - val_binary_accuracy: 0.6873\n",
      "Epoch 37/60\n",
      "1/1 [==============================] - 0s 132ms/step - loss: 0.6619 - binary_accuracy: 0.6578 - val_loss: 0.6377 - val_binary_accuracy: 0.6836\n",
      "Epoch 38/60\n",
      "1/1 [==============================] - 0s 120ms/step - loss: 0.6255 - binary_accuracy: 0.6732 - val_loss: 0.6381 - val_binary_accuracy: 0.6817\n",
      "Epoch 39/60\n",
      "1/1 [==============================] - 0s 148ms/step - loss: 0.6813 - binary_accuracy: 0.6711 - val_loss: 0.6475 - val_binary_accuracy: 0.6771\n",
      "Epoch 40/60\n",
      "1/1 [==============================] - 0s 180ms/step - loss: 0.6336 - binary_accuracy: 0.6742 - val_loss: 0.6570 - val_binary_accuracy: 0.6790\n",
      "Epoch 41/60\n",
      "1/1 [==============================] - 0s 181ms/step - loss: 0.6390 - binary_accuracy: 0.6721 - val_loss: 0.6563 - val_binary_accuracy: 0.6744\n",
      "Epoch 42/60\n",
      "1/1 [==============================] - 0s 164ms/step - loss: 0.6449 - binary_accuracy: 0.6906 - val_loss: 0.6558 - val_binary_accuracy: 0.6762\n",
      "Epoch 43/60\n",
      "1/1 [==============================] - 0s 143ms/step - loss: 0.6300 - binary_accuracy: 0.6947 - val_loss: 0.6549 - val_binary_accuracy: 0.6762\n",
      "Epoch 44/60\n",
      "1/1 [==============================] - 0s 186ms/step - loss: 0.6060 - binary_accuracy: 0.6742 - val_loss: 0.6539 - val_binary_accuracy: 0.6780\n",
      "Epoch 45/60\n",
      "1/1 [==============================] - 0s 197ms/step - loss: 0.6199 - binary_accuracy: 0.6957 - val_loss: 0.6528 - val_binary_accuracy: 0.6827\n",
      "Epoch 46/60\n",
      "1/1 [==============================] - 0s 211ms/step - loss: 0.5908 - binary_accuracy: 0.6834 - val_loss: 0.6518 - val_binary_accuracy: 0.6845\n",
      "Epoch 47/60\n",
      "1/1 [==============================] - 0s 144ms/step - loss: 0.6097 - binary_accuracy: 0.6977 - val_loss: 0.6310 - val_binary_accuracy: 0.6910\n",
      "Epoch 48/60\n",
      "1/1 [==============================] - 0s 136ms/step - loss: 0.6246 - binary_accuracy: 0.7070 - val_loss: 0.6297 - val_binary_accuracy: 0.6891\n",
      "Epoch 49/60\n",
      "1/1 [==============================] - 0s 144ms/step - loss: 0.5845 - binary_accuracy: 0.7039 - val_loss: 0.6297 - val_binary_accuracy: 0.6928\n",
      "Epoch 50/60\n",
      "1/1 [==============================] - 0s 192ms/step - loss: 0.5867 - binary_accuracy: 0.7029 - val_loss: 0.6300 - val_binary_accuracy: 0.6900\n",
      "Epoch 51/60\n",
      "1/1 [==============================] - 0s 168ms/step - loss: 0.5797 - binary_accuracy: 0.7039 - val_loss: 0.6199 - val_binary_accuracy: 0.6891\n",
      "Epoch 52/60\n",
      "1/1 [==============================] - 0s 164ms/step - loss: 0.5791 - binary_accuracy: 0.7018 - val_loss: 0.6120 - val_binary_accuracy: 0.6863\n",
      "Epoch 53/60\n",
      "1/1 [==============================] - 0s 140ms/step - loss: 0.5889 - binary_accuracy: 0.7059 - val_loss: 0.6185 - val_binary_accuracy: 0.6845\n",
      "Epoch 54/60\n",
      "1/1 [==============================] - 0s 140ms/step - loss: 0.5713 - binary_accuracy: 0.7080 - val_loss: 0.6175 - val_binary_accuracy: 0.6854\n",
      "Epoch 55/60\n",
      "1/1 [==============================] - 0s 164ms/step - loss: 0.5776 - binary_accuracy: 0.7090 - val_loss: 0.6161 - val_binary_accuracy: 0.6863\n",
      "Epoch 56/60\n",
      "1/1 [==============================] - 0s 187ms/step - loss: 0.5939 - binary_accuracy: 0.7018 - val_loss: 0.6143 - val_binary_accuracy: 0.6873\n",
      "Epoch 57/60\n",
      "1/1 [==============================] - 0s 168ms/step - loss: 0.5688 - binary_accuracy: 0.7193 - val_loss: 0.6122 - val_binary_accuracy: 0.6919\n",
      "Epoch 58/60\n",
      "1/1 [==============================] - 0s 165ms/step - loss: 0.5466 - binary_accuracy: 0.7223 - val_loss: 0.6103 - val_binary_accuracy: 0.6928\n",
      "Epoch 59/60\n",
      "1/1 [==============================] - 0s 140ms/step - loss: 0.5556 - binary_accuracy: 0.7162 - val_loss: 0.6090 - val_binary_accuracy: 0.6965\n",
      "Epoch 60/60\n",
      "1/1 [==============================] - 0s 144ms/step - loss: 0.5511 - binary_accuracy: 0.7326 - val_loss: 0.6091 - val_binary_accuracy: 0.7011\n"
     ]
    }
   ],
   "source": [
    "epochs = 60\n",
    "history = model.fit(train_flow, epochs=epochs, validation_data=test_flow, shuffle=False)"
   ],
   "metadata": {
    "collapsed": false,
    "pycharm": {
     "name": "#%%\n"
    }
   }
  },
  {
   "cell_type": "code",
   "execution_count": 9,
   "outputs": [
    {
     "data": {
      "text/plain": "<Figure size 504x576 with 2 Axes>",
      "image/png": "[encoded data removed]"
     },
     "metadata": {
      "needs_background": "light"
     },
     "output_type": "display_data"
    }
   ],
   "source": [
    "sg.utils.plot_history(history)"
   ],
   "metadata": {
    "collapsed": false,
    "pycharm": {
     "name": "#%%\n"
    }
   }
  },
  {
   "cell_type": "markdown",
   "source": [
    "## 12.7 Test Performance\n",
    "Nun kann das trainierte Modell für die Vorhersagen genutzt werden. Dazu messen wir die Performance der Trainings- und Testdaten."
   ],
   "metadata": {
    "collapsed": false
   }
  },
  {
   "cell_type": "code",
   "execution_count": 10,
   "outputs": [
    {
     "name": "stdout",
     "output_type": "stream",
     "text": [
      "1/1 [==============================] - 0s 88ms/step - loss: 0.5199 - binary_accuracy: 0.7654\n",
      "1/1 [==============================] - 0s 80ms/step - loss: 0.6091 - binary_accuracy: 0.7011\n",
      "\n",
      "Performance Training Set:\n",
      "- loss: 0.5199\n",
      "- binary_accuracy: 0.7654\n",
      "\n",
      "Performance Test Set:\n",
      "- loss: 0.6091\n",
      "- binary_accuracy: 0.7011\n"
     ]
    }
   ],
   "source": [
    "train_metrics = model.evaluate(train_flow)\n",
    "test_metrics = model.evaluate(test_flow)\n",
    "\n",
    "evaluate_metrics(\"Performance Training Set:\", model.metrics_names, train_metrics)\n",
    "evaluate_metrics(\"Performance Test Set:\", model.metrics_names, test_metrics)"
   ],
   "metadata": {
    "collapsed": false,
    "pycharm": {
     "name": "#%%\n"
    }
   }
  },
  {
   "cell_type": "markdown",
   "source": [
    "---\n",
    "_The end._"
   ],
   "metadata": {
    "collapsed": false
   }
  }
 ],
 "metadata": {
  "kernelspec": {
   "display_name": "Python 3",
   "language": "python",
   "name": "python3"
  },
  "language_info": {
   "codemirror_mode": {
    "name": "ipython",
    "version": 2
   },
   "file_extension": ".py",
   "mimetype": "text/x-python",
   "name": "python",
   "nbconvert_exporter": "python",
   "pygments_lexer": "ipython2",
   "version": "2.7.6"
  }
 },
 "nbformat": 4,
 "nbformat_minor": 0
}
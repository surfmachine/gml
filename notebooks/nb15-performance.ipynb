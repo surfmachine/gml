{
 "cells": [
  {
   "cell_type": "markdown",
   "source": [
    "Berner Fachhochschule BFH - MAS Data Science - Graph Machine Learning - Master Thesis FS/2022 Thomas Iten\n",
    "\n",
    "# 15. Performance Messung"
   ],
   "metadata": {
    "collapsed": false
   }
  },
  {
   "cell_type": "code",
   "execution_count": 1,
   "metadata": {
    "collapsed": true
   },
   "outputs": [],
   "source": [
    "from gml.graph.data_factory import DataFactory, MatchingCluster, Employee, DataCollection\n",
    "from gml.graph.graph_link import GraphLink, Algorithm\n",
    "from gml.measure.system_meter import SystemMeter, CpuSystemMeter, MemorySystemMeter, TimeSystemMeter"
   ]
  },
  {
   "cell_type": "markdown",
   "source": [
    "## 15.1 Messung Graph Erstellung und Link Prediction"
   ],
   "metadata": {
    "collapsed": false
   }
  },
  {
   "cell_type": "code",
   "execution_count": 4,
   "outputs": [
    {
     "name": "stdout",
     "output_type": "stream",
     "text": [
      "Start performance measures:\n",
      "{'graphs': 1000, 'nodes': 6003, 'edges': 9002, 'possible edges': 2000, 'Time [min]': 0.07, 'Memory [MB]': 7.59, 'CPU [%]': 8.28}\n",
      "{'graphs': 2000, 'nodes': 12003, 'edges': 18002, 'possible edges': 4000, 'Time [min]': 0.27, 'Memory [MB]': 14.92, 'CPU [%]': 8.33}\n",
      "{'graphs': 3000, 'nodes': 18003, 'edges': 27002, 'possible edges': 6000, 'Time [min]': 0.58, 'Memory [MB]': 21.87, 'CPU [%]': 8.33}\n",
      "{'graphs': 6000, 'nodes': 36003, 'edges': 54002, 'possible edges': 12000, 'Time [min]': 2.42, 'Memory [MB]': 44.06, 'CPU [%]': 8.33}\n",
      "{'graphs': 12000, 'nodes': 72003, 'edges': 108002, 'possible edges': 24000, 'Time [min]': 10.39, 'Memory [MB]': 88.08, 'CPU [%]': 8.33}\n",
      "{'graphs': 24000, 'nodes': 144003, 'edges': 216002, 'possible edges': 48000, 'Time [min]': 48.87, 'Memory [MB]': 176.37, 'CPU [%]': 8.33}\n"
     ]
    }
   ],
   "source": [
    "# init system meters\n",
    "meters = [TimeSystemMeter(), MemorySystemMeter(), CpuSystemMeter()]\n",
    "\n",
    "# init data\n",
    "labels   = [\"Measure A\", \"Measure B\", \"Measure C\", \"Measure D\", \"Measure E\", \"Measure F\"]\n",
    "n_graphs = [1000, 2000, 3000, 6000, 12000, 24000]\n",
    "measures = []\n",
    "\n",
    "print(\"Start performance measures:\")\n",
    "for n_graph in n_graphs:\n",
    "\n",
    "    # start meters\n",
    "    for meter in meters:\n",
    "        meter.start()\n",
    "\n",
    "    # create test graph with n_graph sub graphs\n",
    "    graph = DataFactory().create_graph(n=n_graph, add_dc=True, connected=True)\n",
    "\n",
    "    # create possible edges between employee - matching cluster and employee - data cluster\n",
    "    possible_edges = []\n",
    "    for i in range(n_graph):\n",
    "        dc = DataCollection.create_name(i)\n",
    "        mc = MatchingCluster.create_name(i)\n",
    "        em = Employee.create_name(i)\n",
    "        possible_edges.append((em, dc))\n",
    "        possible_edges.append((em, mc))\n",
    "\n",
    "    # run link predictions\n",
    "    GraphLink(graph, possible_edges) \\\n",
    "        .predict(Algorithm.RESOURCE_ALLOCATION_INDEX) \\\n",
    "        .predict(Algorithm.JACCARD_COEFFICIENT) \\\n",
    "        .predict(Algorithm.ADAMIC_ADAR_INDEX) \\\n",
    "        .predict(Algorithm.PREFERENTIAL_ATTACHMENT)\n",
    "\n",
    "    # summarize measure results\n",
    "    measure = {\n",
    "        \"graphs\": n_graph,\n",
    "        \"nodes\": graph.number_of_nodes(),\n",
    "        \"edges\": graph.number_of_edges(),\n",
    "        \"possible edges\": len(possible_edges)\n",
    "    }\n",
    "\n",
    "    # stop system meters and add them to the measure\n",
    "    for meter in meters:\n",
    "        meter.stop()\n",
    "        measure[meter.name] = meter.result()\n",
    "\n",
    "    # save measure\n",
    "    measures.append(measure)\n",
    "    print(measure)"
   ],
   "metadata": {
    "collapsed": false,
    "pycharm": {
     "name": "#%%\n"
    }
   }
  },
  {
   "cell_type": "markdown",
   "source": [
    "## 15.2 Anzeige Resultate"
   ],
   "metadata": {
    "collapsed": false
   }
  },
  {
   "cell_type": "code",
   "execution_count": 5,
   "outputs": [
    {
     "name": "stdout",
     "output_type": "stream",
     "text": [
      "                Measure A  Measure B  Measure C  Measure D  Measure E  \\\n",
      "Graphs            1000.00    2000.00    3000.00    6000.00   12000.00   \n",
      "Nodes             6003.00   12003.00   18003.00   36003.00   72003.00   \n",
      "Edges             9002.00   18002.00   27002.00   54002.00  108002.00   \n",
      "Possible edges    2000.00    4000.00    6000.00   12000.00   24000.00   \n",
      "Time [min]           0.07       0.27       0.58       2.42      10.39   \n",
      "Memory [mb]          7.59      14.92      21.87      44.06      88.08   \n",
      "Cpu [%]              8.28       8.33       8.33       8.33       8.33   \n",
      "\n",
      "                Measure F  \n",
      "Graphs           24000.00  \n",
      "Nodes           144003.00  \n",
      "Edges           216002.00  \n",
      "Possible edges   48000.00  \n",
      "Time [min]          48.87  \n",
      "Memory [mb]        176.37  \n",
      "Cpu [%]              8.33  \n"
     ]
    }
   ],
   "source": [
    "df = SystemMeter.create_df(measures, labels)\n",
    "print(df)"
   ],
   "metadata": {
    "collapsed": false,
    "pycharm": {
     "name": "#%%\n"
    }
   }
  },
  {
   "cell_type": "markdown",
   "source": [
    "---\n",
    "_The end._"
   ],
   "metadata": {
    "collapsed": false
   }
  }
 ],
 "metadata": {
  "kernelspec": {
   "display_name": "Python 3",
   "language": "python",
   "name": "python3"
  },
  "language_info": {
   "codemirror_mode": {
    "name": "ipython",
    "version": 2
   },
   "file_extension": ".py",
   "mimetype": "text/x-python",
   "name": "python",
   "nbconvert_exporter": "python",
   "pygments_lexer": "ipython2",
   "version": "2.7.6"
  }
 },
 "nbformat": 4,
 "nbformat_minor": 0
}
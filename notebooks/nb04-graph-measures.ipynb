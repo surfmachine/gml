{
 "cells": [
  {
   "cell_type": "markdown",
   "source": [
    "Berner Fachhochschule BFH - MAS Data Science - Graph Machine Learning - Master Thesis FS/2022 Thomas Iten\n",
    "\n",
    "# 4. Graph Measures\n",
    "Ein Graph ist ein mathematisches Modell, zur Beschreibung von Beziehungen und Entitäten (Knoten). Jeder Graph hat dabei unterschiedliche Eigenschaften. Mit Hilfe von verschiedenen Massen können diese Eigenschaften gemessen werden. Jede Messung kann einen oder mehrere lokale und globale Aspekte des Graphen charakterisieren."
   ],
   "metadata": {
    "collapsed": false
   }
  },
  {
   "cell_type": "code",
   "execution_count": 26,
   "metadata": {
    "collapsed": true
   },
   "outputs": [],
   "source": [
    "from gml.graph.graph_builder import GraphBuilder"
   ]
  },
  {
   "cell_type": "markdown",
   "source": [
    "## 4.1 Integration\n",
    "Mit Hilfe von Integrationsmetriken wird gemessen, wie sehr die Knoten miteinander verbunden sind."
   ],
   "metadata": {
    "collapsed": false
   }
  },
  {
   "cell_type": "markdown",
   "source": [
    "### Distance, path, shortest path\n",
    "\n",
    "Das Konzept der Entfernung in einem Graphen bezieht sich auf die Anzahl Verbindungen zwischen einem Quell- und Zielknoten. Der kürzeste Pfad (**shortest path**) zwischen zwei Knoten ist der Pfad mit der kleinsten Anzahl Verbindungen im Vergleich zu allen anderen möglichen Verbindungen."
   ],
   "metadata": {
    "collapsed": false
   }
  },
  {
   "cell_type": "code",
   "execution_count": 27,
   "outputs": [
    {
     "data": {
      "text/plain": "<Figure size 432x432 with 1 Axes>",
      "image/png": "[encoded data removed]"
     },
     "metadata": {},
     "output_type": "display_data"
    }
   ],
   "source": [
    "edges = [('Genf', 'Lausanne'), ('Lausanne', 'Montreux'), ('Montreux', 'Bern'), ('Lausanne', 'Bern'), ('Bern', 'Zürich'), ('Bern', 'Basel'), ('Basel', 'Zürich')]\n",
    "graph = GraphBuilder().append_edges(edges).create()\n",
    "\n",
    "shortest_path = graph.shortest_path('Genf', 'Zürich')\n",
    "graph.draw(path=shortest_path)"
   ],
   "metadata": {
    "collapsed": false,
    "pycharm": {
     "name": "#%%\n"
    }
   }
  },
  {
   "cell_type": "code",
   "execution_count": 28,
   "outputs": [
    {
     "name": "stdout",
     "output_type": "stream",
     "text": [
      "['Genf', 'Lausanne', 'Bern', 'Zürich']\n"
     ]
    }
   ],
   "source": [
    "print(shortest_path)"
   ],
   "metadata": {
    "collapsed": false,
    "pycharm": {
     "name": "#%%\n"
    }
   }
  },
  {
   "cell_type": "markdown",
   "source": [
    "### Average shortest path\n",
    "Die charakteristische Pfadlänge ist der Durchschnitt aller kürzesten Pfadlängen (**shortest path average**) zwischen allen möglichen Knotenpaaren."
   ],
   "metadata": {
    "collapsed": false
   }
  },
  {
   "cell_type": "code",
   "execution_count": 29,
   "outputs": [
    {
     "name": "stdout",
     "output_type": "stream",
     "text": [
      "      Source    Target                   Shortest path  Number of edges\n",
      "0       Genf  Lausanne                [Genf, Lausanne]                1\n",
      "1       Genf  Montreux      [Genf, Lausanne, Montreux]                2\n",
      "2       Genf      Bern          [Genf, Lausanne, Bern]                2\n",
      "3       Genf    Zürich  [Genf, Lausanne, Bern, Zürich]                3\n",
      "4       Genf     Basel   [Genf, Lausanne, Bern, Basel]                3\n",
      "5   Lausanne  Montreux            [Lausanne, Montreux]                1\n",
      "6   Lausanne      Bern                [Lausanne, Bern]                1\n",
      "7   Lausanne    Zürich        [Lausanne, Bern, Zürich]                2\n",
      "8   Lausanne     Basel         [Lausanne, Bern, Basel]                2\n",
      "9   Montreux      Bern                [Montreux, Bern]                1\n",
      "10  Montreux    Zürich        [Montreux, Bern, Zürich]                2\n",
      "11  Montreux     Basel         [Montreux, Bern, Basel]                2\n",
      "12      Bern    Zürich                  [Bern, Zürich]                1\n",
      "13      Bern     Basel                   [Bern, Basel]                1\n",
      "14    Zürich     Basel                 [Zürich, Basel]                1\n"
     ]
    }
   ],
   "source": [
    "combinations = graph.shortest_path_combinations()\n",
    "print(combinations)"
   ],
   "metadata": {
    "collapsed": false,
    "pycharm": {
     "name": "#%%\n"
    }
   }
  },
  {
   "cell_type": "code",
   "execution_count": 30,
   "outputs": [
    {
     "name": "stdout",
     "output_type": "stream",
     "text": [
      "Total edges           :  25\n",
      "Total combinations    :  15\n",
      "Average shortest path :  1.6666666666666667\n"
     ]
    }
   ],
   "source": [
    "total_edges = sum(combinations['Number of edges'])\n",
    "total_combi = len(combinations)\n",
    "\n",
    "print(\"Total edges           : \", total_edges)\n",
    "print(\"Total combinations    : \", total_combi)\n",
    "print(\"Average shortest path : \", total_edges / total_combi)"
   ],
   "metadata": {
    "collapsed": false,
    "pycharm": {
     "name": "#%%\n"
    }
   }
  },
  {
   "cell_type": "markdown",
   "source": [
    "**Verification**"
   ],
   "metadata": {
    "collapsed": false
   }
  },
  {
   "cell_type": "code",
   "execution_count": 31,
   "outputs": [
    {
     "name": "stdout",
     "output_type": "stream",
     "text": [
      "Average shortest path :  1.6666666666666667\n"
     ]
    }
   ],
   "source": [
    "print(\"Average shortest path : \", graph.shortest_path_average())"
   ],
   "metadata": {
    "collapsed": false,
    "pycharm": {
     "name": "#%%\n"
    }
   }
  },
  {
   "cell_type": "markdown",
   "source": [
    "### Global and local efficiency\n",
    "Die **globale Effizienz** ist der Durchschnitt der inversen kürzesten Pfadlängen aller Knotenpaare. Es ist ein Mass für die **Effizienz des Informationsaustauschs** innerhalb des Graphen. Bei der **lokalen Effizienz** Berechnung wird nur die Nachbarschaft des Knotens berücksichtigt ohne den Knoten selbst.\n"
   ],
   "metadata": {
    "collapsed": false
   }
  },
  {
   "cell_type": "code",
   "execution_count": 32,
   "outputs": [
    {
     "name": "stdout",
     "output_type": "stream",
     "text": [
      "Global efficiency : 0.711111111111111\n",
      "Local efficiency  : 0.611111111111111\n"
     ]
    }
   ],
   "source": [
    "print(\"Global efficiency :\", graph.efficiency())\n",
    "print(\"Local efficiency  :\", graph.efficiency(local=True))"
   ],
   "metadata": {
    "collapsed": false,
    "pycharm": {
     "name": "#%%\n"
    }
   }
  },
  {
   "cell_type": "markdown",
   "source": [
    "**Comparsion to fully connected graph**\n",
    "\n",
    "Der höchste Effizienzwert 1 wird erreicht, wenn ein Graph vollständig zusammenhängend ist."
   ],
   "metadata": {
    "collapsed": false
   }
  },
  {
   "cell_type": "code",
   "execution_count": 33,
   "outputs": [
    {
     "data": {
      "text/plain": "<Figure size 432x432 with 1 Axes>",
      "image/png": "[encoded data removed]"
     },
     "metadata": {},
     "output_type": "display_data"
    }
   ],
   "source": [
    "fully_connected_graph = GraphBuilder().append_nodes(graph.nodes, fully_connected=True).create()\n",
    "fully_connected_graph.draw()"
   ],
   "metadata": {
    "collapsed": false,
    "pycharm": {
     "name": "#%%\n"
    }
   }
  },
  {
   "cell_type": "code",
   "execution_count": 34,
   "outputs": [
    {
     "name": "stdout",
     "output_type": "stream",
     "text": [
      "Global efficiency : 1.0\n",
      "Local efficiency  : 1.0\n"
     ]
    }
   ],
   "source": [
    "print(\"Global efficiency :\", fully_connected_graph.efficiency())\n",
    "print(\"Local efficiency  :\", fully_connected_graph.efficiency(local=True))"
   ],
   "metadata": {
    "collapsed": false,
    "pycharm": {
     "name": "#%%\n"
    }
   }
  },
  {
   "cell_type": "markdown",
   "source": [
    "## 4.2 Segregation\n",
    "Mit den Segregationsmetriken werden zusammenhängende Gruppen eines Graphen quantifiziert. Diese bezeichnet man auch als Gemeinschaften (communities) oder Module innerhalb eines Graphen."
   ],
   "metadata": {
    "collapsed": false
   }
  },
  {
   "cell_type": "markdown",
   "source": [
    "### Clustering coefficient\n",
    "\n",
    "Der Clustering Koeffizient misst den **Anteil von Teilgraphen** innerhalb eines Graphen. Ein vollständiger Teilgraph besteht aus **3 Knoten und 3 Verbindungen**.  Der Wert wird pro Knoten berechnet.\n",
    "\n",
    "Im folgenden Beispiel haben Basel, Zürich und Montreux einen Koeffizienten von 1 während der Wert für Bern und Lausanne kleiner ist, da sie noch weitere Verbindungen haben. Genf hat den Wert 0, da es nicht Bestandteil eines Teilgraphen ist."
   ],
   "metadata": {
    "collapsed": false
   }
  },
  {
   "cell_type": "code",
   "execution_count": 35,
   "outputs": [
    {
     "data": {
      "text/plain": "<Figure size 432x432 with 1 Axes>",
      "image/png": "[encoded data removed]"
     },
     "metadata": {},
     "output_type": "display_data"
    }
   ],
   "source": [
    "graph.draw()"
   ],
   "metadata": {
    "collapsed": false,
    "pycharm": {
     "name": "#%%\n"
    }
   }
  },
  {
   "cell_type": "code",
   "execution_count": 36,
   "outputs": [
    {
     "name": "stdout",
     "output_type": "stream",
     "text": [
      "  Clustering  Coefficient\n",
      "0       Genf     0.000000\n",
      "1   Lausanne     0.333333\n",
      "2   Montreux     1.000000\n",
      "3       Bern     0.333333\n",
      "4     Zürich     1.000000\n",
      "5      Basel     1.000000 \n",
      "\n",
      "Average : 0.611111111111111\n"
     ]
    }
   ],
   "source": [
    "print(graph.clustering(), \"\\n\")\n",
    "print(\"Average :\", graph.clustering(average=True))"
   ],
   "metadata": {
    "collapsed": false,
    "pycharm": {
     "name": "#%%\n"
    }
   }
  },
  {
   "cell_type": "markdown",
   "source": [
    "**Transitivity**\n",
    "\n",
    "Eine Variante des Clustering Koeffizienten ist die Transitivität. Diese gibt das Verhältnis zwischen der Anzahl geschlossener Teilgraphen (Triple) und der maximal möglichen Anzahl Triple an."
   ],
   "metadata": {
    "collapsed": false
   }
  },
  {
   "cell_type": "code",
   "execution_count": 37,
   "outputs": [
    {
     "name": "stdout",
     "output_type": "stream",
     "text": [
      "Transitivity :  0.5\n"
     ]
    }
   ],
   "source": [
    "print(\"Transitivity : \", graph.transitivity())"
   ],
   "metadata": {
    "collapsed": false,
    "pycharm": {
     "name": "#%%\n"
    }
   }
  },
  {
   "cell_type": "markdown",
   "source": [
    "### Modularity\n",
    "Die Modularität ist ein **Mass für die Gruppierungen** innerhalb eines Graphen. Bei Netzwerken mit hoher Modularität sind die **Knoten einer  Gruppierungen dicht miteingander verbunden**, während dem die **Gruppierungen untereinander nur wenige Vebindungen** aufweisen. Zur Berechnung der Modularität müssen entsprechende Gemeinschaften (communities) gebildet werden."
   ],
   "metadata": {
    "collapsed": false
   }
  },
  {
   "cell_type": "code",
   "execution_count": 38,
   "outputs": [
    {
     "name": "stdout",
     "output_type": "stream",
     "text": [
      "Communities :  [('Genf', 'Lausanne', 'Montreux'), ('Bern', 'Basel', 'Zürich')]\n",
      "Modularity  :  0.20408163265306123\n"
     ]
    }
   ],
   "source": [
    "communities = [('Genf', 'Lausanne', 'Montreux'), ('Bern', 'Basel', 'Zürich')]\n",
    "print(\"Communities : \", communities)\n",
    "print(\"Modularity  : \", graph.modularity(communities))"
   ],
   "metadata": {
    "collapsed": false,
    "pycharm": {
     "name": "#%%\n"
    }
   }
  },
  {
   "cell_type": "markdown",
   "source": [
    "## 4.3 Centrality\n",
    "Die Zentralitätsmetriken bewerten die Bedeutung einzelner Knoten innerhalb des Netzwerkes.\n",
    "- Der Grad (**centrality degree**) gibt an mit wie vielen möglichen Knoten vom Graphen ein entsprechender Knoten verbunden ist. Je mehr Verbindungen bestehen umso höher der Wert, d.h. umso zentraler ist der entsprechende Knoten.\n",
    "- Die Nähe (**centrality closeness**) eines Knoten gibt an inwieweit ein Knoten mit anderen Knoten eng (gut) verbunden ist. Dabei wird die durchschnittliche Entfernung eines Knotens zu allen anderen Knoten im Netzwerk berechnet.\n",
    "- Die Verflechtung (**centrality betweenness**) bewertet inwieweit ein Knoten als Brückenfunktion zwischen anderen Knoten fungiert. Selbst wenn ein Knoten insgesammt schlecht verbunden ist, kann er für den gesammten Graphen strategisch wichtig sein, da er z.B. sicherstellt, dass das gesamte Netzwerk verbunden bleibt."
   ],
   "metadata": {
    "collapsed": false
   }
  },
  {
   "cell_type": "code",
   "execution_count": 39,
   "outputs": [
    {
     "data": {
      "text/plain": "<Figure size 432x432 with 1 Axes>",
      "image/png": "[encoded data removed]"
     },
     "metadata": {},
     "output_type": "display_data"
    }
   ],
   "source": [
    "graph.draw()"
   ],
   "metadata": {
    "collapsed": false,
    "pycharm": {
     "name": "#%%\n"
    }
   }
  },
  {
   "cell_type": "code",
   "execution_count": 40,
   "outputs": [
    {
     "name": "stdout",
     "output_type": "stream",
     "text": [
      "  Centrality  Degreee  Closeness  Betweenness\n",
      "0       Genf      0.2   0.454545          0.0\n",
      "1   Lausanne      0.6   0.714286          0.4\n",
      "2   Montreux      0.4   0.625000          0.0\n",
      "3       Bern      0.8   0.833333          0.6\n",
      "4     Zürich      0.4   0.555556          0.0\n",
      "5      Basel      0.4   0.555556          0.0\n"
     ]
    }
   ],
   "source": [
    "print(graph.centrality())"
   ],
   "metadata": {
    "collapsed": false,
    "pycharm": {
     "name": "#%%\n"
    }
   }
  },
  {
   "cell_type": "markdown",
   "source": [
    "**Degree vs. Betweenness**\n",
    "\n",
    "Das folgende Beispiel zeigt gut dass die beiden Knoten D und E zwar insgesammt wenige Verkünfungen haben (**centrality degree**) aber als Brückenfunktion für den Graphen sehr wichtig sind (**centrality betweenness**)."
   ],
   "metadata": {
    "collapsed": false
   }
  },
  {
   "cell_type": "code",
   "execution_count": 41,
   "outputs": [
    {
     "data": {
      "text/plain": "<Figure size 432x432 with 1 Axes>",
      "image/png": "[encoded data removed]"
     },
     "metadata": {},
     "output_type": "display_data"
    },
    {
     "name": "stdout",
     "output_type": "stream",
     "text": [
      "  Centrality   Degreee  Closeness  Betweenness\n",
      "0          A  0.285714   0.333333     0.000000\n",
      "1          B  0.285714   0.333333     0.000000\n",
      "2          C  0.428571   0.437500     0.476190\n",
      "3          D  0.285714   0.500000     0.571429\n",
      "4          E  0.285714   0.500000     0.571429\n",
      "5          F  0.428571   0.437500     0.476190\n",
      "6          G  0.285714   0.333333     0.000000\n",
      "7          H  0.285714   0.333333     0.000000\n"
     ]
    }
   ],
   "source": [
    "centrality_edges = [('A', 'B'), ('A', 'C'), ('B', 'C'), ('C', 'D'), ('D','E'), ('E', 'F'), ('F', 'G'), ('F', 'H'), ('H', 'G')]\n",
    "centrality_graph = GraphBuilder().append_edges(centrality_edges).create()\n",
    "centrality_graph.draw()\n",
    "print(centrality_graph.centrality())"
   ],
   "metadata": {
    "collapsed": false,
    "pycharm": {
     "name": "#%%\n"
    }
   }
  },
  {
   "cell_type": "markdown",
   "source": [
    "## 4.4 Resilence\n",
    "Mit den Wiederstandsfähigkeitsmetriken erhält man ein Mass dafür, wie sehr eine Netzwerk seine \"Betriebsfähigkeit\" oder Leistung aufrechterhalten kann wenn es zu Ausfällen oder anderen Ereignissen kommt. In einem Verkehrsnetz können so zum Beispiel Schlüsselverbindungen oder Punkte detektiert werden, die für den ganzen Betrieb zentral sind."
   ],
   "metadata": {
    "collapsed": false
   }
  },
  {
   "cell_type": "markdown",
   "source": [
    "### Assortativity coefficient\n",
    "\n",
    "Mit der Assortativität wird die Tendenz von Konten gemessen wie stark sie mit ähnlichen Knoten verbunden sind. Eine häufige Methode zur Messung ist der Pearson Korrelationskoeffizient.\n",
    "\n",
    "Der Koeffizient nimmt positive Werte an wenn es eine Korrelation zwischen Knoten mit ähnlichem Grad gibt, während er negative Werte annimmt, wenn es eine Korrelation zwischen Knoten unterschiedlichen Grades gibt.\n",
    "\n",
    "Das folgende Beispiel zeigt die Werte der beiden obigen Graphen:"
   ],
   "metadata": {
    "collapsed": false
   }
  },
  {
   "cell_type": "code",
   "execution_count": 42,
   "outputs": [
    {
     "name": "stdout",
     "output_type": "stream",
     "text": [
      "-0.39999999999999986\n",
      "-0.5\n"
     ]
    }
   ],
   "source": [
    "print(graph.assortativity(pearson=True))\n",
    "print(centrality_graph.assortativity(pearson=True))"
   ],
   "metadata": {
    "collapsed": false,
    "pycharm": {
     "name": "#%%\n"
    }
   }
  },
  {
   "cell_type": "markdown",
   "source": [
    "---\n",
    "_The end._"
   ],
   "metadata": {
    "collapsed": false
   }
  }
 ],
 "metadata": {
  "kernelspec": {
   "display_name": "Python 3",
   "language": "python",
   "name": "python3"
  },
  "language_info": {
   "codemirror_mode": {
    "name": "ipython",
    "version": 2
   },
   "file_extension": ".py",
   "mimetype": "text/x-python",
   "name": "python",
   "nbconvert_exporter": "python",
   "pygments_lexer": "ipython2",
   "version": "2.7.6"
  }
 },
 "nbformat": 4,
 "nbformat_minor": 0
}
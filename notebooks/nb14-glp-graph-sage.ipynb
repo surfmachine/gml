{
 "cells": [
  {
   "cell_type": "markdown",
   "source": [
    "Berner Fachhochschule BFH - MAS Data Science - Graph Machine Learning - Master Thesis FS/2022 Thomas Iten\n",
    "\n",
    "# 14. Graph SAGE Link Prediction\n",
    "\n",
    "**Inhalt**\n",
    "1. Cora Daten laden\n",
    "2. Test- und Trainingsdaten aufbereiten\n",
    "3. Node Features hinzufügen\n",
    "4. Link Generator definieren\n",
    "5. Model erstellen\n",
    "6. Model trainieren\n",
    "7. Test Performance\n",
    "\n",
    "**Referenzen**<br />\n",
    "[1] http://snap.stanford.edu/graphsage/<br />\n",
    "[2] https://stellargraph.readthedocs.io/en/stable/demos/link-prediction/graphsage-link-prediction.html<br />\n",
    "[3] Stamile, Marzullo, Deusebio. Graph Machine Learning. Packt Publishing 2021. ISBN 978-1-80020-449-2\n"
   ],
   "metadata": {
    "collapsed": false
   }
  },
  {
   "cell_type": "code",
   "execution_count": 1,
   "metadata": {
    "collapsed": true
   },
   "outputs": [],
   "source": [
    "import numpy as np\n",
    "\n",
    "from tensorflow import keras\n",
    "from sklearn import metrics\n",
    "\n",
    "import networkx as nx\n",
    "import stellargraph as sg\n",
    "from stellargraph import StellarGraph\n",
    "from stellargraph.data import EdgeSplitter\n",
    "from stellargraph.mapper import GraphSAGELinkGenerator\n",
    "from stellargraph.layer import GraphSAGE, link_classification\n",
    "\n",
    "from gml.graph.graph_builder import GraphBuilder"
   ]
  },
  {
   "cell_type": "markdown",
   "source": [
    "## 14.1 Cora Daten laden\n",
    "\n",
    "Der Cora-Datensatz besteht aus 2708 wissenschaftlichen Veröffentlichungen, die einer von sieben Klassen zugeordnet sind. Das Zitationsnetzwerk besteht aus 5278 Links. Jede Veröffentlichung im Datensatz wird durch einen Wortvektor mit 0/1-Werten beschrieben, der das Fehlen/Vorhandensein des entsprechenden Wortes aus dem Wörterbuch angibt. Das Wörterbuch besteht aus 1433 eindeutigen Wörtern.\n",
    "\n",
    "Die Datei cora.cites enthält die Liste aller Verbindungen, mit jeweils einem Knotenpaar pro Zeile:\n",
    "```\n",
    "35    1033\n",
    "3229  118559\n",
    "...\n",
    "```\n",
    "Die Liste wird mit Hilfe der GraphBuilder Klasse geladen. Die Builder Klasse erstellt neben der Edge List automatisch die Liste aller Knoten. Anschliessend wird mit der create() Methode der Graph erstellt und order und size ausgegeben.\n",
    "\n"
   ],
   "metadata": {
    "collapsed": false
   }
  },
  {
   "cell_type": "code",
   "execution_count": 2,
   "outputs": [
    {
     "name": "stdout",
     "output_type": "stream",
     "text": [
      "Graph order and size:\n",
      "Order = 2708 (number of nodes)\n",
      "Size  = 5278 (number of edges)\n"
     ]
    }
   ],
   "source": [
    "cora_edges_file = \"../data/cora/cora.cites\"\n",
    "\n",
    "graph = GraphBuilder().append_edges_file(cora_edges_file, sep=\"\\t\").create(detect_multi_graph=False)\n",
    "props = graph.properties()\n",
    "\n",
    "print(\"Graph order and size:\")\n",
    "print(\"Order =\", props['order'], \"(number of nodes)\")\n",
    "print(\"Size  =\", props['size'], \"(number of edges)\")"
   ],
   "metadata": {
    "collapsed": false,
    "pycharm": {
     "name": "#%%\n"
    }
   }
  },
  {
   "cell_type": "markdown",
   "source": [
    "## 14.2 Test- und Trainigsdaten aufbereiten\n",
    "Für die Aufteilung der Daten wird die Klasse EdgeSplitter aus dem stellargraph.data Package verwendent. Für die Node Features wird eine Identity Matrix erstellt und pro Node wird der korrespondierende Vektor zugewiesen.\n",
    "\n",
    "**Testdaten**\n",
    "\n",
    "Als erstes werden aus dem gesammten Graphen einen Teilgraphen sowie eine Liste von Verbindungen und Labels für die Tests generiert.\n",
    "- test_graph   : Subset von original Graphen mit allen Knoten aber nur einem Teil der Verbindungen\n",
    "- test_samples : Liste mit Knotenpaaren mit realen Verbindungen (positive edges) und Knotenpaaren die keine Verbindungen haben (negative edges)\n",
    "- test_labels  : Liste mit den Labeln passend zu den Knotenpaaren der Testdaten"
   ],
   "metadata": {
    "collapsed": false
   }
  },
  {
   "cell_type": "code",
   "execution_count": 3,
   "outputs": [
    {
     "name": "stdout",
     "output_type": "stream",
     "text": [
      "** Sampled 527 positive and 527 negative edges. **\n"
     ]
    }
   ],
   "source": [
    "edgeSplitter = EdgeSplitter(graph.graph)\n",
    "test_graph, test_samples, test_labels  = edgeSplitter.train_test_split(p=0.1, method=\"global\", keep_connected=True)"
   ],
   "metadata": {
    "collapsed": false,
    "pycharm": {
     "name": "#%%\n"
    }
   }
  },
  {
   "cell_type": "markdown",
   "source": [
    "**Trainingsdaten**\n",
    "\n",
    "Das gleich wird anschliessend für die Trainingsdaten gemacht. Bei der Initialisierung der EdgeSplitter Klassen wird zusätzlich der erstellte test_graph übergeben, so dass die Trainings- und Testdaten nicht überschneiden."
   ],
   "metadata": {
    "collapsed": false
   }
  },
  {
   "cell_type": "code",
   "execution_count": 4,
   "outputs": [
    {
     "name": "stdout",
     "output_type": "stream",
     "text": [
      "** Sampled 475 positive and 475 negative edges. **\n"
     ]
    }
   ],
   "source": [
    "edgeSplitter = EdgeSplitter(test_graph, graph.graph)\n",
    "train_graph, train_samples, train_labels = edgeSplitter.train_test_split(p=0.1, method=\"global\", keep_connected=True)"
   ],
   "metadata": {
    "collapsed": false,
    "pycharm": {
     "name": "#%%\n"
    }
   }
  },
  {
   "cell_type": "markdown",
   "source": [
    "## 14.3 Node Features hinzufügen\n",
    "Graph SAGE verwendet Node Features für das Lernen. In diesem Beispiel verwenden wir dazu eine Identity Matrix in der Grösse der Anzahl Nodes pro Datenset. Jedem Node wird anschliessend der korrespondierende Vektor zugewiesen. Dieser hat in der Zelle des entsprechenden Nodes den Wert 1, alle anderen Zellen haben den Wert 0."
   ],
   "metadata": {
    "collapsed": false
   }
  },
  {
   "cell_type": "code",
   "execution_count": 5,
   "outputs": [],
   "source": [
    "node_features=\"idm\"\n",
    "eye = np.eye(test_graph.number_of_nodes())                      # Identiy matrix (idm) with size = number of nodes\n",
    "idm = {n:eye[i] for i,n in enumerate(test_graph.nodes())}       # Dictionary with node number as key and corresponding idm row as value\n",
    "nx.set_node_attributes(test_graph, idm, node_features)          # Assign node features (with name 'idm') to the test_graph nodes"
   ],
   "metadata": {
    "collapsed": false,
    "pycharm": {
     "name": "#%%\n"
    }
   }
  },
  {
   "cell_type": "code",
   "execution_count": 6,
   "outputs": [],
   "source": [
    "eye = np.eye(train_graph.number_of_nodes())\n",
    "idm = {n:eye[i] for i,n in enumerate(train_graph.nodes())}\n",
    "nx.set_node_attributes(train_graph, idm, node_features)"
   ],
   "metadata": {
    "collapsed": false,
    "pycharm": {
     "name": "#%%\n"
    }
   }
  },
  {
   "cell_type": "markdown",
   "source": [
    "## 14.4 Link Generator definieren\n",
    "Mit Hilfe des GraphSageLinkGenerator wird für die Trainigs- und Testdaten je ein Flow Objekt erzeugt. Diese liefert die Knoten Paarweise und wird  für das Model Training und die Vorhersagen verwendet.\n",
    "\n",
    "Die num_samples Liste gibt die Anzahl der zu entnehmenden Nachbarknotenproben pro GraphSAGE-Schicht (hop) an. Wir haben zwei Schichten à jeweils 4 Proben. Die batch_size definiert die Anzahl Links welche pro Batch verarbeitet werden sollen."
   ],
   "metadata": {
    "collapsed": false
   }
  },
  {
   "cell_type": "code",
   "execution_count": 7,
   "outputs": [],
   "source": [
    "batch_size = 64\n",
    "num_samples = [4, 4]\n",
    "\n",
    "train_sg   = StellarGraph.from_networkx(train_graph, node_features=node_features)\n",
    "train_gen  = GraphSAGELinkGenerator(train_sg, batch_size, num_samples)\n",
    "train_flow = train_gen.flow(train_samples, train_labels, shuffle=True, seed=24)\n",
    "\n",
    "test_sg    = StellarGraph.from_networkx(test_graph, node_features=node_features)\n",
    "test_gen   = GraphSAGELinkGenerator(test_sg, batch_size, num_samples)\n",
    "test_flow  = test_gen.flow(test_samples, test_labels, seed=24)"
   ],
   "metadata": {
    "collapsed": false,
    "pycharm": {
     "name": "#%%\n"
    }
   }
  },
  {
   "cell_type": "markdown",
   "source": [
    "## 14.5 Model erstellen\n",
    "\n",
    "Nun erstellen wir ein GraphSAGE Modell mit zwei versteckten Schichten der Größe 20, einem Bias-Term und einer Dropout-Schicht zur Reduzierung von Overfitting. Diese wird mit einer Link Klassifizierungschicht verknüpft. Die Edge Embedding Methode 'ip' steht für Inner Product (es sind auch noch andere wie Hadamard, L1, L2 oder Avg möglich). Damit wird schliesslich ein vollständiges Keras Model mit einen Adam Optimierer erzeugt. Als Loss Funktion wird MSE (mean squared error) eingesetzt."
   ],
   "metadata": {
    "collapsed": false
   }
  },
  {
   "cell_type": "code",
   "execution_count": 8,
   "outputs": [
    {
     "name": "stdout",
     "output_type": "stream",
     "text": [
      "link_classification: using 'ip' method to combine node embeddings into edge embeddings\n"
     ]
    }
   ],
   "source": [
    "layer_sizes = [20, 20]\n",
    "graphsage = GraphSAGE(\n",
    "    layer_sizes=layer_sizes,\n",
    "    generator=train_gen,\n",
    "    bias=True,\n",
    "    dropout=0.3)\n",
    "\n",
    "x_inp, x_out = graphsage.in_out_tensors()\n",
    "prediction   = link_classification(output_dim=1, output_act=\"sigmoid\", edge_embedding_method=\"ip\")(x_out)\n",
    "\n",
    "model = keras.Model(inputs=x_inp, outputs=prediction)\n",
    "model.compile(\n",
    "    optimizer=keras.optimizers.Adam(learning_rate=1e-3),\n",
    "    loss=keras.losses.mse,\n",
    "    metrics=[\"acc\"],\n",
    ")"
   ],
   "metadata": {
    "collapsed": false,
    "pycharm": {
     "name": "#%%\n"
    }
   }
  },
  {
   "cell_type": "markdown",
   "source": [
    "## 14.6 Model trainieren\n",
    "\n",
    "Nun wird das Modell mit den Testdaten (test_flow) mit der angegebenen Anzahl Epochen trainiert."
   ],
   "metadata": {
    "collapsed": false
   }
  },
  {
   "cell_type": "code",
   "execution_count": null,
   "outputs": [],
   "source": [],
   "metadata": {
    "collapsed": false,
    "pycharm": {
     "name": "#%%\n"
    }
   }
  },
  {
   "cell_type": "code",
   "execution_count": 9,
   "outputs": [
    {
     "name": "stdout",
     "output_type": "stream",
     "text": [
      "Epoch 1/24\n",
      "15/15 [==============================] - 3s 134ms/step - loss: 0.2514 - acc: 0.5326 - val_loss: 0.2477 - val_acc: 0.5522\n",
      "Epoch 2/24\n",
      "15/15 [==============================] - 2s 112ms/step - loss: 0.2419 - acc: 0.5547 - val_loss: 0.2463 - val_acc: 0.5446\n",
      "Epoch 3/24\n",
      "15/15 [==============================] - 2s 110ms/step - loss: 0.2334 - acc: 0.6084 - val_loss: 0.2424 - val_acc: 0.5569\n",
      "Epoch 4/24\n",
      "15/15 [==============================] - 2s 112ms/step - loss: 0.2221 - acc: 0.6716 - val_loss: 0.2411 - val_acc: 0.5664\n",
      "Epoch 5/24\n",
      "15/15 [==============================] - 2s 114ms/step - loss: 0.2164 - acc: 0.6958 - val_loss: 0.2375 - val_acc: 0.5712\n",
      "Epoch 6/24\n",
      "15/15 [==============================] - 2s 113ms/step - loss: 0.2048 - acc: 0.7695 - val_loss: 0.2358 - val_acc: 0.5892\n",
      "Epoch 7/24\n",
      "15/15 [==============================] - 2s 111ms/step - loss: 0.1976 - acc: 0.7937 - val_loss: 0.2381 - val_acc: 0.5569\n",
      "Epoch 8/24\n",
      "15/15 [==============================] - 2s 108ms/step - loss: 0.1936 - acc: 0.8084 - val_loss: 0.2348 - val_acc: 0.5882\n",
      "Epoch 9/24\n",
      "15/15 [==============================] - 2s 108ms/step - loss: 0.1861 - acc: 0.8326 - val_loss: 0.2342 - val_acc: 0.5825\n",
      "Epoch 10/24\n",
      "15/15 [==============================] - 2s 111ms/step - loss: 0.1802 - acc: 0.8558 - val_loss: 0.2344 - val_acc: 0.5901\n",
      "Epoch 11/24\n",
      "15/15 [==============================] - 2s 104ms/step - loss: 0.1772 - acc: 0.8684 - val_loss: 0.2343 - val_acc: 0.5731\n",
      "Epoch 12/24\n",
      "15/15 [==============================] - 2s 112ms/step - loss: 0.1700 - acc: 0.8821 - val_loss: 0.2312 - val_acc: 0.5939\n",
      "Epoch 13/24\n",
      "15/15 [==============================] - 2s 113ms/step - loss: 0.1684 - acc: 0.8821 - val_loss: 0.2300 - val_acc: 0.5968\n",
      "Epoch 14/24\n",
      "15/15 [==============================] - 2s 107ms/step - loss: 0.1603 - acc: 0.9042 - val_loss: 0.2291 - val_acc: 0.6091\n",
      "Epoch 15/24\n",
      "15/15 [==============================] - 2s 110ms/step - loss: 0.1598 - acc: 0.9105 - val_loss: 0.2324 - val_acc: 0.5901\n",
      "Epoch 16/24\n",
      "15/15 [==============================] - 2s 113ms/step - loss: 0.1586 - acc: 0.9063 - val_loss: 0.2285 - val_acc: 0.6044\n",
      "Epoch 17/24\n",
      "15/15 [==============================] - 2s 108ms/step - loss: 0.1551 - acc: 0.9105 - val_loss: 0.2308 - val_acc: 0.5920\n",
      "Epoch 18/24\n",
      "15/15 [==============================] - 2s 113ms/step - loss: 0.1494 - acc: 0.9263 - val_loss: 0.2295 - val_acc: 0.6091\n",
      "Epoch 19/24\n",
      "15/15 [==============================] - 2s 118ms/step - loss: 0.1490 - acc: 0.9221 - val_loss: 0.2307 - val_acc: 0.6015\n",
      "Epoch 20/24\n",
      "15/15 [==============================] - 2s 110ms/step - loss: 0.1443 - acc: 0.9274 - val_loss: 0.2281 - val_acc: 0.6139\n",
      "Epoch 21/24\n",
      "15/15 [==============================] - 2s 108ms/step - loss: 0.1428 - acc: 0.9284 - val_loss: 0.2275 - val_acc: 0.6281\n",
      "Epoch 22/24\n",
      "15/15 [==============================] - 2s 108ms/step - loss: 0.1417 - acc: 0.9316 - val_loss: 0.2292 - val_acc: 0.6063\n",
      "Epoch 23/24\n",
      "15/15 [==============================] - 2s 108ms/step - loss: 0.1419 - acc: 0.9295 - val_loss: 0.2284 - val_acc: 0.6243\n",
      "Epoch 24/24\n",
      "15/15 [==============================] - 2s 110ms/step - loss: 0.1388 - acc: 0.9316 - val_loss: 0.2278 - val_acc: 0.6300\n"
     ]
    }
   ],
   "source": [
    "epochs = 24\n",
    "history = model.fit(train_flow, epochs=epochs, validation_data=test_flow)"
   ],
   "metadata": {
    "collapsed": false,
    "pycharm": {
     "name": "#%%\n"
    }
   }
  },
  {
   "cell_type": "code",
   "execution_count": 10,
   "outputs": [
    {
     "data": {
      "text/plain": "<Figure size 504x576 with 2 Axes>",
      "image/png": "[encoded data removed]"
     },
     "metadata": {
      "needs_background": "light"
     },
     "output_type": "display_data"
    }
   ],
   "source": [
    "sg.utils.plot_history(history)"
   ],
   "metadata": {
    "collapsed": false,
    "pycharm": {
     "name": "#%%\n"
    }
   }
  },
  {
   "cell_type": "markdown",
   "source": [
    "## 14.7 Test Performance\n",
    "Nun kann das trainierte Modell für die Vorhersagen genutzt werden. Dazu messen wir die Performance der Trainings- und Testdaten."
   ],
   "metadata": {
    "collapsed": false
   }
  },
  {
   "cell_type": "code",
   "execution_count": 11,
   "outputs": [
    {
     "name": "stdout",
     "output_type": "stream",
     "text": [
      "Performance Training Set:\n",
      "- Precision = 0.5191146881287726\n",
      "- Recall    = 0.5431578947368421\n",
      "- F1-Score  = 0.5308641975308642\n",
      "\n",
      "Performance Test Set:\n",
      "- Precision = 0.5905006418485238\n",
      "- Recall    = 0.872865275142315\n",
      "- F1-Score  = 0.7044410413476264\n",
      "\n"
     ]
    }
   ],
   "source": [
    "def evaluate_metrics(title, labels, y_pred):\n",
    "    print(title)\n",
    "    print(\"- Precision =\", metrics.precision_score(labels, y_pred))\n",
    "    print(\"- Recall    =\", metrics.recall_score(labels, y_pred))\n",
    "    print(\"- F1-Score  =\", metrics.f1_score(labels, y_pred))\n",
    "    print()\n",
    "\n",
    "y_pred = np.round(model.predict(train_flow)).flatten()\n",
    "evaluate_metrics(\"Performance Training Set:\", train_labels, y_pred)\n",
    "\n",
    "y_pred = np.round(model.predict(test_flow)).flatten()\n",
    "evaluate_metrics(\"Performance Test Set:\", test_labels, y_pred)"
   ],
   "metadata": {
    "collapsed": false,
    "pycharm": {
     "name": "#%%\n"
    }
   }
  },
  {
   "cell_type": "markdown",
   "source": [
    "---\n",
    "_The end._"
   ],
   "metadata": {
    "collapsed": false
   }
  }
 ],
 "metadata": {
  "kernelspec": {
   "display_name": "Python 3",
   "language": "python",
   "name": "python3"
  },
  "language_info": {
   "codemirror_mode": {
    "name": "ipython",
    "version": 2
   },
   "file_extension": ".py",
   "mimetype": "text/x-python",
   "name": "python",
   "nbconvert_exporter": "python",
   "pygments_lexer": "ipython2",
   "version": "2.7.6"
  }
 },
 "nbformat": 4,
 "nbformat_minor": 0
}
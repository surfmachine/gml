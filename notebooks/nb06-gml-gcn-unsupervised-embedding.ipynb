{
 "cells": [
  {
   "cell_type": "markdown",
   "source": [
    "Berner Fachhochschule BFH - MAS Data Science - Graph Machine Learning - Master Thesis FS/2022 Thomas Iten\n",
    "\n",
    "# 6. Graph Machine Learning GCN\n",
    "Das folgende Beispiel zeigt ein GCN (Graph Convolutional Network) gemäß der Definition von Kipf und Welling. Der Graph wird dabei in einen 2-dimensionalen Vektor transformiert mit Hilfe des GCN Modells. Obschon das Modell untrainiert ist, kann man schon erste Gruppierungen erkennen.\n",
    "\n",
    "Quellen\n",
    "[1] Kipf, Welling. [Semi-Supervised Classification with Graph Convolutional Networks](https://arxiv.org/abs/1609.02907).\n",
    "[2] Stamile, Marzullo, Deusebio. Graph Machine Learning. Packt Publishing 2021. ISBN 978-1-80020-449-2\n",
    "\n"
   ],
   "metadata": {
    "collapsed": false
   }
  },
  {
   "cell_type": "code",
   "execution_count": 32,
   "metadata": {
    "collapsed": true
   },
   "outputs": [],
   "source": [
    "from gml.graph.graph_builder import GraphBuilder\n",
    "import numpy as np\n",
    "import networkx as nx\n",
    "from scipy.linalg import sqrtm\n",
    "import matplotlib.pyplot as plt\n",
    "\n",
    "np.random.seed(7)"
   ]
  },
  {
   "cell_type": "markdown",
   "source": [
    "## 6.1 Graph"
   ],
   "metadata": {
    "collapsed": false
   }
  },
  {
   "cell_type": "code",
   "execution_count": 39,
   "outputs": [
    {
     "data": {
      "text/plain": "<Figure size 432x432 with 1 Axes>",
      "image/png": "[encoded data removed]"
     },
     "metadata": {},
     "output_type": "display_data"
    }
   ],
   "source": [
    "edges = [(1,2),(1,3),(1,4),(2,3),(2,4),(3,4),(4,5),(5,6),(6,7),(6,8),(7,8),(8,9),(9,10),(10,11),(10,12), (11,12)]\n",
    "graph = GraphBuilder().append_edges(edges).create()\n",
    "graph.draw()"
   ],
   "metadata": {
    "collapsed": false,
    "pycharm": {
     "name": "#%%\n"
    }
   }
  },
  {
   "cell_type": "markdown",
   "source": [
    "## 6.2 GCN Layer and Model"
   ],
   "metadata": {
    "collapsed": false
   }
  },
  {
   "cell_type": "code",
   "execution_count": 34,
   "outputs": [],
   "source": [
    "class GCNLayer():\n",
    "    \"\"\"Graph convolutional network layer with weights and activation function.\n",
    "\n",
    "    The weights are initialized with glorot initialization (alternatively sampling gaussian or uniform distribution would also work).\n",
    "    \"\"\"\n",
    "\n",
    "    def __init__(self, n_inputs, n_outputs):\n",
    "        self.W = self.glorot_uniform(n_inputs, n_outputs)\n",
    "        self.activation = np.tanh\n",
    "\n",
    "    def glorot_uniform(self, n_inputs, n_outputs):\n",
    "        \"\"\"Glorot uniform initializer.\"\"\"\n",
    "        sd = np.sqrt(6.0 / (n_inputs + n_outputs))\n",
    "        return np.random.uniform(-sd, sd, size=(n_outputs, n_inputs))\n",
    "\n",
    "    def forward(self, A, X):\n",
    "        self._X = (A @ X).T  # (N,N)*(N,n_outputs) ==> (n_outputs,N)\n",
    "        H = self.W @ self._X  # (N, D)*(D, n_outputs) => (N, n_outputs)\n",
    "        H = self.activation(H)\n",
    "        return H.T  # (n_outputs, N)\n",
    "\n",
    "\n",
    "class GCNModel():\n",
    "    \"\"\"Graph convolutional network model with 3 layers\"\"\"\n",
    "\n",
    "    def __init__(self, n_nodes):\n",
    "        self.gcn1 = GCNLayer(n_nodes, 8)\n",
    "        self.gcn2 = GCNLayer(8, 4)\n",
    "        self.gcn3 = GCNLayer(4, 2)\n",
    "\n",
    "    def forward(self, A, X):\n",
    "        H1 = self.gcn1.forward(A_hat, X)\n",
    "        H2 = self.gcn2.forward(A_hat, H1)\n",
    "        H3 = self.gcn3.forward(A_hat, H2)\n",
    "        return H3\n"
   ],
   "metadata": {
    "collapsed": false,
    "pycharm": {
     "name": "#%%\n"
    }
   }
  },
  {
   "cell_type": "markdown",
   "source": [
    "## 6.3 Embedding"
   ],
   "metadata": {
    "collapsed": false
   }
  },
  {
   "cell_type": "code",
   "execution_count": 35,
   "outputs": [
    {
     "name": "stdout",
     "output_type": "stream",
     "text": [
      "[[1. 1. 1. 1. 0. 0. 0. 0.]\n",
      " [1. 1. 1. 1. 0. 0. 0. 0.]\n",
      " [1. 1. 1. 1. 0. 0. 0. 0.]\n",
      " [1. 1. 1. 1. 1. 0. 0. 0.]\n",
      " [0. 0. 0. 1. 1. 1. 0. 0.]\n",
      " [0. 0. 0. 0. 1. 1. 1. 0.]\n",
      " [0. 0. 0. 0. 0. 1. 1. 1.]\n",
      " [0. 0. 0. 0. 0. 0. 1. 1.]]\n"
     ]
    }
   ],
   "source": [
    "A = nx.to_numpy_matrix(graph.graph)         # Adjacency matrix\n",
    "I = np.eye(graph.number_of_nodes())         # Identity matrix, used as node descriptor\n",
    "A_hat = A + I                               # Adjacency matrix with self-loops\n",
    "\n",
    "print(A_hat)"
   ],
   "metadata": {
    "collapsed": false,
    "pycharm": {
     "name": "#%%\n"
    }
   }
  },
  {
   "cell_type": "code",
   "execution_count": 36,
   "outputs": [
    {
     "name": "stdout",
     "output_type": "stream",
     "text": [
      "Embeddings:\n",
      "[[-0.99957383  0.99973981]\n",
      " [-0.99957383  0.99973981]\n",
      " [-0.99957383  0.99973981]\n",
      " [-0.99970185  0.99968229]\n",
      " [-0.662662    0.40764221]\n",
      " [ 0.62850729 -0.66329906]\n",
      " [ 0.84139358 -0.55083821]\n",
      " [ 0.6802787  -0.13775808]]\n"
     ]
    }
   ],
   "source": [
    "D_hat = np.array(np.sum(A_hat, axis=0))[0]  # Degree matrix\n",
    "D_hat = np.array(np.diag(D_hat))\n",
    "D_hat = np.linalg.inv(sqrtm(D_hat))\n",
    "\n",
    "A_norm = D_hat @ A_hat @ D_hat               #\n",
    "\n",
    "model = GCNModel(graph.number_of_nodes())\n",
    "embeddings = model.forward(A_norm, I)\n",
    "\n",
    "print(\"Embeddings:\")\n",
    "print(embeddings)"
   ],
   "metadata": {
    "collapsed": false,
    "pycharm": {
     "name": "#%%\n"
    }
   }
  },
  {
   "cell_type": "code",
   "execution_count": 37,
   "outputs": [
    {
     "data": {
      "text/plain": "<Figure size 432x288 with 1 Axes>",
      "image/png": "[encoded data removed]"
     },
     "metadata": {
      "needs_background": "light"
     },
     "output_type": "display_data"
    }
   ],
   "source": [
    "embeddings = np.array(embeddings)\n",
    "\n",
    "plt.title(\"Node embeddings\", fontsize=15)\n",
    "plt.scatter(embeddings[:, 0], embeddings[:, 1])\n",
    "plt.show()"
   ],
   "metadata": {
    "collapsed": false,
    "pycharm": {
     "name": "#%%\n"
    }
   }
  },
  {
   "cell_type": "markdown",
   "source": [
    "---\n",
    "_The end._"
   ],
   "metadata": {
    "collapsed": false
   }
  }
 ],
 "metadata": {
  "kernelspec": {
   "display_name": "Python 3",
   "language": "python",
   "name": "python3"
  },
  "language_info": {
   "codemirror_mode": {
    "name": "ipython",
    "version": 2
   },
   "file_extension": ".py",
   "mimetype": "text/x-python",
   "name": "python",
   "nbconvert_exporter": "python",
   "pygments_lexer": "ipython2",
   "version": "2.7.6"
  }
 },
 "nbformat": 4,
 "nbformat_minor": 0
}
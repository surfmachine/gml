{
 "cells": [
  {
   "cell_type": "markdown",
   "source": [
    "Berner Fachhochschule BFH - MAS Data Science - Graph Machine Learning - Master Thesis FS/2022 Thomas Iten\n",
    "\n",
    "# 13. Graph SAGE Link Prediction mit Subject als Features\n",
    "\n",
    "**Inhalt**\n",
    "1. Cora Datenset laden inklusive Features\n",
    "2. Test- und Trainingsdaten aufbereiten\n",
    "3. Link Generator definieren\n",
    "4. Model erstellen\n",
    "5. Model trainieren\n",
    "6. Test Performance\n",
    "\n",
    "**Referenzen**<br />\n",
    "[1] http://snap.stanford.edu/graphsage/<br />\n",
    "[2] https://stellargraph.readthedocs.io/en/stable/demos/link-prediction/graphsage-link-prediction.html<br />\n",
    "[3] Stamile, Marzullo, Deusebio. Graph Machine Learning. Packt Publishing 2021. ISBN 978-1-80020-449-2\n"
   ],
   "metadata": {
    "collapsed": false
   }
  },
  {
   "cell_type": "code",
   "execution_count": 1,
   "metadata": {
    "collapsed": true
   },
   "outputs": [],
   "source": [
    "import numpy as np\n",
    "\n",
    "from tensorflow import keras\n",
    "from sklearn import metrics\n",
    "\n",
    "import stellargraph as sg\n",
    "from stellargraph import datasets\n",
    "from stellargraph.data import EdgeSplitter\n",
    "from stellargraph.mapper import GraphSAGELinkGenerator\n",
    "from stellargraph.layer import GraphSAGE, link_classification\n",
    "\n",
    "from IPython.display import display, HTML"
   ]
  },
  {
   "cell_type": "markdown",
   "source": [
    "## 13.1 Cora Datenset laden inklusive Features\n",
    "Laden der Cora Daten direkt mit Hilfe der Datasets Klasse. Jeder Node repräsentiert ein Schreiben. Mit dem Parameter subject_as_feature True wird das Thema (Subject) direkt als Node Feature mitgeliefert."
   ],
   "metadata": {
    "collapsed": false
   }
  },
  {
   "cell_type": "code",
   "execution_count": 2,
   "outputs": [
    {
     "data": {
      "text/plain": "<IPython.core.display.HTML object>",
      "text/html": "The Cora dataset consists of 2708 scientific publications classified into one of seven classes. The citation network consists of 5429 links. Each publication in the dataset is described by a 0/1-valued word vector indicating the absence/presence of the corresponding word from the dictionary. The dictionary consists of 1433 unique words."
     },
     "metadata": {},
     "output_type": "display_data"
    },
    {
     "name": "stdout",
     "output_type": "stream",
     "text": [
      "StellarGraph: Undirected multigraph\n",
      " Nodes: 2708, Edges: 5429\n",
      "\n",
      " Node types:\n",
      "  paper: [2708]\n",
      "    Features: float32 vector, length 1440\n",
      "    Edge types: paper-cites->paper\n",
      "\n",
      " Edge types:\n",
      "    paper-cites->paper: [5429]\n",
      "        Weights: all 1 (default)\n",
      "        Features: none\n"
     ]
    }
   ],
   "source": [
    "dataset = datasets.Cora()\n",
    "display(HTML(dataset.description))\n",
    "graph, _ = dataset.load(subject_as_feature=True)\n",
    "\n",
    "print(graph.info())"
   ],
   "metadata": {
    "collapsed": false,
    "pycharm": {
     "name": "#%%\n"
    }
   }
  },
  {
   "cell_type": "markdown",
   "source": [
    "## 13.2 Test- und Trainigsdaten aufbereiten\n",
    "Für die Aufteilung der Daten wird die Klasse EdgeSplitter aus dem stellargraph.data Package verwendent.\n",
    "\n",
    "**Testdaten**\n",
    "\n",
    "Als erstes werden aus dem gesammten Graphen einen Teilgraphen sowie eine Liste von Verbindungen und Labels für die Tests generiert.\n",
    "- test_graph   : Subset von original Graphen mit allen Knoten aber nur einem Teil der Verbindungen\n",
    "- test_samples : Liste mit Knotenpaaren mit realen Verbindungen (positive edges) und Knotenpaaren die keine Verbindungen haben (negative edges)\n",
    "- test_labels  : Liste mit den Labeln passend zu den Knotenpaaren der Testdaten"
   ],
   "metadata": {
    "collapsed": false
   }
  },
  {
   "cell_type": "code",
   "execution_count": 3,
   "outputs": [
    {
     "name": "stdout",
     "output_type": "stream",
     "text": [
      "** Sampled 542 positive and 542 negative edges. **\n"
     ]
    }
   ],
   "source": [
    "edgeSplitter = EdgeSplitter(graph)\n",
    "test_graph, test_samples, test_labels  = edgeSplitter.train_test_split(p=0.1, method=\"global\", keep_connected=True)"
   ],
   "metadata": {
    "collapsed": false,
    "pycharm": {
     "name": "#%%\n"
    }
   }
  },
  {
   "cell_type": "markdown",
   "source": [
    "**Trainingsdaten**\n",
    "\n",
    "Das gleich wird anschliessend für die Trainingsdaten gemacht. Bei der Initialisierung der EdgeSplitter Klassen wird zusätzlich der erstellte test_graph übergeben, so dass die Trainings- und Testdaten nicht überschneiden."
   ],
   "metadata": {
    "collapsed": false
   }
  },
  {
   "cell_type": "code",
   "execution_count": 4,
   "outputs": [
    {
     "name": "stdout",
     "output_type": "stream",
     "text": [
      "** Sampled 488 positive and 488 negative edges. **\n"
     ]
    }
   ],
   "source": [
    "edgeSplitter = EdgeSplitter(test_graph, graph)\n",
    "train_graph, train_samples, train_labels = edgeSplitter.train_test_split(p=0.1, method=\"global\", keep_connected=True)"
   ],
   "metadata": {
    "collapsed": false,
    "pycharm": {
     "name": "#%%\n"
    }
   }
  },
  {
   "cell_type": "markdown",
   "source": [
    "## 13.3 Link Generator definieren\n",
    "Mit Hilfe des GraphSageLinkGenerator wird für die Trainigs- und Testdaten je ein Flow Objekt erzeugt. Diese liefert die Knoten Paarweise und wird  für das Model Training und die Vorhersagen verwendet.\n",
    "\n",
    "Die num_samples Liste gibt die Anzahl der zu entnehmenden Nachbarknotenproben pro GraphSAGE-Schicht (hop) an. Wir haben zwei Schichten à jeweils 4 Proben. Die batch_size definiert die Anzahl Links welche pro Batch verarbeitet werden sollen."
   ],
   "metadata": {
    "collapsed": false
   }
  },
  {
   "cell_type": "code",
   "execution_count": 5,
   "outputs": [],
   "source": [
    "batch_size = 64\n",
    "num_samples = [4, 4]\n",
    "\n",
    "train_gen  = GraphSAGELinkGenerator(train_graph, batch_size, num_samples)\n",
    "train_flow = train_gen.flow(train_samples, train_labels, shuffle=True, seed=24)\n",
    "\n",
    "test_gen   = GraphSAGELinkGenerator(test_graph, batch_size, num_samples)\n",
    "test_flow  = test_gen.flow(test_samples, test_labels, seed=24)"
   ],
   "metadata": {
    "collapsed": false,
    "pycharm": {
     "name": "#%%\n"
    }
   }
  },
  {
   "cell_type": "markdown",
   "source": [
    "## 13.4 Model erstellen\n",
    "\n",
    "Nun erstellen wir ein GraphSAGE Modell mit zwei versteckten Schichten der Größe 20, einem Bias-Term und einer Dropout-Schicht zur Reduzierung von Overfitting. Diese wird mit einer Link Klassifizierungschicht verknüpft. Die Edge Embedding Methode 'ip' steht für Inner Product (es sind auch noch andere wie Hadamard, L1, L2 oder Avg möglich). Damit wird schliesslich ein vollständiges Keras Model mit einen Adam Optimierer erzeugt. Als Loss Funktion wird MSE (mean squared error) eingesetzt."
   ],
   "metadata": {
    "collapsed": false
   }
  },
  {
   "cell_type": "code",
   "execution_count": 6,
   "outputs": [
    {
     "name": "stdout",
     "output_type": "stream",
     "text": [
      "link_classification: using 'ip' method to combine node embeddings into edge embeddings\n"
     ]
    }
   ],
   "source": [
    "layer_sizes = [20, 20]\n",
    "graphsage = GraphSAGE(\n",
    "    layer_sizes=layer_sizes,\n",
    "    generator=train_gen,\n",
    "    bias=True,\n",
    "    dropout=0.3)\n",
    "\n",
    "x_inp, x_out = graphsage.in_out_tensors()\n",
    "prediction   = link_classification(output_dim=1, output_act=\"sigmoid\", edge_embedding_method=\"ip\")(x_out)\n",
    "\n",
    "model = keras.Model(inputs=x_inp, outputs=prediction)\n",
    "model.compile(\n",
    "    optimizer=keras.optimizers.Adam(learning_rate=1e-3),\n",
    "    loss=keras.losses.mse,\n",
    "    metrics=[\"acc\"],\n",
    ")"
   ],
   "metadata": {
    "collapsed": false,
    "pycharm": {
     "name": "#%%\n"
    }
   }
  },
  {
   "cell_type": "markdown",
   "source": [
    "## 13.5 Model trainieren\n",
    "\n",
    "Nun wird das Modell mit den Testdaten (test_flow) mit der angegebenen Anzahl Epochen trainiert."
   ],
   "metadata": {
    "collapsed": false
   }
  },
  {
   "cell_type": "code",
   "execution_count": 7,
   "outputs": [
    {
     "name": "stdout",
     "output_type": "stream",
     "text": [
      "Epoch 1/24\n",
      "16/16 [==============================] - 3s 94ms/step - loss: 0.2436 - acc: 0.5615 - val_loss: 0.2318 - val_acc: 0.5950\n",
      "Epoch 2/24\n",
      "16/16 [==============================] - 1s 73ms/step - loss: 0.2343 - acc: 0.6148 - val_loss: 0.2234 - val_acc: 0.6365\n",
      "Epoch 3/24\n",
      "16/16 [==============================] - 1s 75ms/step - loss: 0.2244 - acc: 0.6803 - val_loss: 0.2165 - val_acc: 0.6771\n",
      "Epoch 4/24\n",
      "16/16 [==============================] - 1s 74ms/step - loss: 0.2156 - acc: 0.6988 - val_loss: 0.2141 - val_acc: 0.6642\n",
      "Epoch 5/24\n",
      "16/16 [==============================] - 1s 75ms/step - loss: 0.2088 - acc: 0.7398 - val_loss: 0.2079 - val_acc: 0.6808\n",
      "Epoch 6/24\n",
      "16/16 [==============================] - 1s 75ms/step - loss: 0.2021 - acc: 0.7643 - val_loss: 0.2041 - val_acc: 0.7002\n",
      "Epoch 7/24\n",
      "16/16 [==============================] - 1s 82ms/step - loss: 0.1936 - acc: 0.7807 - val_loss: 0.2018 - val_acc: 0.7066\n",
      "Epoch 8/24\n",
      "16/16 [==============================] - 1s 79ms/step - loss: 0.1881 - acc: 0.8125 - val_loss: 0.2016 - val_acc: 0.7085\n",
      "Epoch 9/24\n",
      "16/16 [==============================] - 1s 78ms/step - loss: 0.1842 - acc: 0.8115 - val_loss: 0.1995 - val_acc: 0.7066\n",
      "Epoch 10/24\n",
      "16/16 [==============================] - 1s 79ms/step - loss: 0.1797 - acc: 0.8238 - val_loss: 0.1993 - val_acc: 0.7103\n",
      "Epoch 11/24\n",
      "16/16 [==============================] - 1s 83ms/step - loss: 0.1788 - acc: 0.8361 - val_loss: 0.1982 - val_acc: 0.7066\n",
      "Epoch 12/24\n",
      "16/16 [==============================] - 1s 78ms/step - loss: 0.1743 - acc: 0.8391 - val_loss: 0.1963 - val_acc: 0.7122\n",
      "Epoch 13/24\n",
      "16/16 [==============================] - 1s 78ms/step - loss: 0.1723 - acc: 0.8371 - val_loss: 0.1967 - val_acc: 0.7113\n",
      "Epoch 14/24\n",
      "16/16 [==============================] - 1s 82ms/step - loss: 0.1684 - acc: 0.8504 - val_loss: 0.1962 - val_acc: 0.7214\n",
      "Epoch 15/24\n",
      "16/16 [==============================] - 1s 82ms/step - loss: 0.1653 - acc: 0.8586 - val_loss: 0.1960 - val_acc: 0.7103\n",
      "Epoch 16/24\n",
      "16/16 [==============================] - 2s 101ms/step - loss: 0.1623 - acc: 0.8832 - val_loss: 0.1968 - val_acc: 0.7048\n",
      "Epoch 17/24\n",
      "16/16 [==============================] - 1s 93ms/step - loss: 0.1579 - acc: 0.8852 - val_loss: 0.1983 - val_acc: 0.7002\n",
      "Epoch 18/24\n",
      "16/16 [==============================] - 1s 85ms/step - loss: 0.1588 - acc: 0.8832 - val_loss: 0.1989 - val_acc: 0.7085\n",
      "Epoch 19/24\n",
      "16/16 [==============================] - 1s 93ms/step - loss: 0.1572 - acc: 0.8904 - val_loss: 0.1987 - val_acc: 0.6993\n",
      "Epoch 20/24\n",
      "16/16 [==============================] - 1s 94ms/step - loss: 0.1556 - acc: 0.8863 - val_loss: 0.1964 - val_acc: 0.7030\n",
      "Epoch 21/24\n",
      "16/16 [==============================] - 1s 85ms/step - loss: 0.1528 - acc: 0.8975 - val_loss: 0.1958 - val_acc: 0.7168\n",
      "Epoch 22/24\n",
      "16/16 [==============================] - 1s 86ms/step - loss: 0.1520 - acc: 0.8945 - val_loss: 0.1974 - val_acc: 0.7057\n",
      "Epoch 23/24\n",
      "16/16 [==============================] - 1s 81ms/step - loss: 0.1495 - acc: 0.9047 - val_loss: 0.1966 - val_acc: 0.7057\n",
      "Epoch 24/24\n",
      "16/16 [==============================] - 1s 82ms/step - loss: 0.1481 - acc: 0.9098 - val_loss: 0.1969 - val_acc: 0.7066\n"
     ]
    }
   ],
   "source": [
    "epochs = 24\n",
    "history = model.fit(train_flow, epochs=epochs, validation_data=test_flow)"
   ],
   "metadata": {
    "collapsed": false,
    "pycharm": {
     "name": "#%%\n"
    }
   }
  },
  {
   "cell_type": "code",
   "execution_count": 8,
   "outputs": [
    {
     "data": {
      "text/plain": "<Figure size 504x576 with 2 Axes>",
      "image/png": "[encoded data removed]"
     },
     "metadata": {
      "needs_background": "light"
     },
     "output_type": "display_data"
    }
   ],
   "source": [
    "sg.utils.plot_history(history)"
   ],
   "metadata": {
    "collapsed": false,
    "pycharm": {
     "name": "#%%\n"
    }
   }
  },
  {
   "cell_type": "markdown",
   "source": [
    "## 13.6 Test Performance\n",
    "Nun kann das trainierte Modell für die Vorhersagen genutzt werden. Dazu messen wir die Performance der Trainings- und Testdaten."
   ],
   "metadata": {
    "collapsed": false
   }
  },
  {
   "cell_type": "code",
   "execution_count": 9,
   "outputs": [
    {
     "name": "stdout",
     "output_type": "stream",
     "text": [
      "Performance Training Set:\n",
      "- Precision = 0.4888888888888889\n",
      "- Recall    = 0.5409836065573771\n",
      "- F1-Score  = 0.5136186770428016\n",
      "\n",
      "Performance Test Set:\n",
      "- Precision = 0.6465295629820051\n",
      "- Recall    = 0.9280442804428044\n",
      "- F1-Score  = 0.7621212121212121\n",
      "\n"
     ]
    }
   ],
   "source": [
    "def evaluate_metrics(title, labels, y_pred):\n",
    "    print(title)\n",
    "    print(\"- Precision =\", metrics.precision_score(labels, y_pred))\n",
    "    print(\"- Recall    =\", metrics.recall_score(labels, y_pred))\n",
    "    print(\"- F1-Score  =\", metrics.f1_score(labels, y_pred))\n",
    "    print()\n",
    "\n",
    "y_pred = np.round(model.predict(train_flow)).flatten()\n",
    "evaluate_metrics(\"Performance Training Set:\", train_labels, y_pred)\n",
    "\n",
    "y_pred = np.round(model.predict(test_flow)).flatten()\n",
    "evaluate_metrics(\"Performance Test Set:\", test_labels, y_pred)"
   ],
   "metadata": {
    "collapsed": false,
    "pycharm": {
     "name": "#%%\n"
    }
   }
  },
  {
   "cell_type": "markdown",
   "source": [
    "---\n",
    "_The end._"
   ],
   "metadata": {
    "collapsed": false
   }
  }
 ],
 "metadata": {
  "kernelspec": {
   "display_name": "Python 3",
   "language": "python",
   "name": "python3"
  },
  "language_info": {
   "codemirror_mode": {
    "name": "ipython",
    "version": 2
   },
   "file_extension": ".py",
   "mimetype": "text/x-python",
   "name": "python",
   "nbconvert_exporter": "python",
   "pygments_lexer": "ipython2",
   "version": "2.7.6"
  }
 },
 "nbformat": 4,
 "nbformat_minor": 0
}
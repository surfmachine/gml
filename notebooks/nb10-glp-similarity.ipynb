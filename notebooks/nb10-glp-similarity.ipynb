{
 "cells": [
  {
   "cell_type": "markdown",
   "source": [
    "Berner Fachhochschule BFH - MAS Data Science - Graph Machine Learning - Master Thesis FS/2022 Thomas Iten\n",
    "\n",
    "# 10. Similarity based Graph Link Prediction\n",
    "\n",
    "**Referenzen**<br />\n",
    "[1] https://networkx.org/documentation/stable/reference/algorithms/link_prediction.html<br />\n",
    "[2] Stamile, Marzullo, Deusebio. Graph Machine Learning. Packt Publishing 2021. ISBN 978-1-80020-449-2\n",
    "\n"
   ],
   "metadata": {
    "collapsed": false
   }
  },
  {
   "cell_type": "code",
   "execution_count": 1,
   "metadata": {
    "collapsed": true
   },
   "outputs": [],
   "source": [
    "from gml.graph.graph_builder import GraphBuilder\n",
    "from gml.graph.graph_link import GraphLink, Algorithm"
   ]
  },
  {
   "cell_type": "markdown",
   "source": [],
   "metadata": {
    "collapsed": false
   }
  },
  {
   "cell_type": "markdown",
   "source": [
    "## 10.1 Similarity based"
   ],
   "metadata": {
    "collapsed": false
   }
  },
  {
   "cell_type": "code",
   "execution_count": 2,
   "outputs": [
    {
     "data": {
      "text/plain": "<Figure size 432x432 with 1 Axes>",
      "image/png": "[encoded data removed]"
     },
     "metadata": {},
     "output_type": "display_data"
    },
    {
     "name": "stdout",
     "output_type": "stream",
     "text": [
      "Results:\n",
      "     Edge        RA        JC        AA  PA\n",
      "0  (1, 2)  0.500000  0.500000  1.442695   2\n",
      "1  (2, 5)  0.500000  0.250000  1.442695   6\n",
      "2  (3, 4)  0.500000  0.333333  1.442695   4\n",
      "3  (6, 7)  0.333333  1.000000  0.910239   1\n",
      "4  (1, 4)  0.000000  0.000000  0.000000   2\n",
      "5  (1, 7)  0.000000  0.000000  0.000000   1\n",
      "\n",
      "Legend:\n",
      "  RA  = Resource Allocation Index\n",
      "  JC  = Jaccard Coefficient\n",
      "  AA  = Adamic Adar Index\n",
      "  PA  = Preferential Attachment\n"
     ]
    }
   ],
   "source": [
    "edges = [(1,3),(2,3),(2,4),(4,5),(5,6),(5,7)]\n",
    "graph = GraphBuilder().append_edges(edges).create()\n",
    "graph.draw()\n",
    "\n",
    "possible_edges = [(1,2),(2,5),(3,4),(6,7),(1,4),(1,7)]\n",
    "# possible_edges = graph.missing_edges()\n",
    "\n",
    "GraphLink(graph, possible_edges)\\\n",
    "    .predict(Algorithm.RESOURCE_ALLOCATION_INDEX)\\\n",
    "    .predict(Algorithm.JACCARD_COEFFICIENT)\\\n",
    "    .predict(Algorithm.ADAMIC_ADAR_INDEX)\\\n",
    "    .predict(Algorithm.PREFERENTIAL_ATTACHMENT)\\\n",
    "    .print_results()"
   ],
   "metadata": {
    "collapsed": false,
    "pycharm": {
     "name": "#%%\n"
    }
   }
  },
  {
   "cell_type": "markdown",
   "source": [
    "## 10.2 Community based"
   ],
   "metadata": {
    "collapsed": false
   }
  },
  {
   "cell_type": "code",
   "execution_count": 9,
   "outputs": [
    {
     "data": {
      "text/plain": "<Figure size 432x432 with 1 Axes>",
      "image/png": "[encoded data removed]"
     },
     "metadata": {},
     "output_type": "display_data"
    },
    {
     "name": "stdout",
     "output_type": "stream",
     "text": [
      "Results:\n",
      "     Edge  SH        SI      IC        CN\n",
      "0  (1, 2)   2  0.500000  1000.0  1.500000\n",
      "1  (2, 5)   1  0.000000     0.0  1.500000\n",
      "2  (3, 4)   1  0.000000     0.0  1.500000\n",
      "3  (6, 7)   2  0.333333  1000.0  1.500000\n",
      "4  (1, 4)   0  0.000000     0.0  0.466667\n",
      "5  (1, 7)   0  0.000000     0.0  0.280000\n",
      "\n",
      "Legend:\n",
      "  SH  = Soundarajan Hopcroft\n",
      "  SI  = Index Soundarajan Hopcroft\n",
      "  IC  = Within Inter Cluster\n",
      "  CN  = Common Neighbor Centrality\n"
     ]
    }
   ],
   "source": [
    "edges = [(1,3),(2,3),(2,4),(4,5),(5,6),(5,7)]   # edges\n",
    "community_0 = (0, [1,2,3])                      # community 0 with list of nodes (belonging to this community)\n",
    "community_1 = (1, [4,5,6,7])                    # community 1 with list of nodes (belonging to this community)\n",
    "graph = GraphBuilder()\\\n",
    "    .append_edges(edges)\\\n",
    "    .append_communities([community_0, community_1])\\\n",
    "    .create()\n",
    "graph.draw()\n",
    "\n",
    "possible_edges = [(1,2),(2,5),(3,4),(6,7),(1,4),(1,7)]\n",
    "# possible_edges = graph.missing_edges()\n",
    "\n",
    "GraphLink(graph, possible_edges)\\\n",
    "    .predict(Algorithm.SOUNDARAJAN_HOPCROFT)\\\n",
    "    .predict(Algorithm.SOUNDARAJAN_HOPCROFT_INDEX)\\\n",
    "    .predict(Algorithm.WITHIN_INTER_CLUSTER)\\\n",
    "    .predict(Algorithm.COMMON_NEIGHBOR_CENTRALITY)\\\n",
    "    .print_results()"
   ],
   "metadata": {
    "collapsed": false,
    "pycharm": {
     "name": "#%%\n"
    }
   }
  },
  {
   "cell_type": "markdown",
   "source": [
    "---\n",
    "_The end._"
   ],
   "metadata": {
    "collapsed": false
   }
  }
 ],
 "metadata": {
  "kernelspec": {
   "display_name": "Python 3",
   "language": "python",
   "name": "python3"
  },
  "language_info": {
   "codemirror_mode": {
    "name": "ipython",
    "version": 2
   },
   "file_extension": ".py",
   "mimetype": "text/x-python",
   "name": "python",
   "nbconvert_exporter": "python",
   "pygments_lexer": "ipython2",
   "version": "2.7.6"
  }
 },
 "nbformat": 4,
 "nbformat_minor": 0
}
{
 "cells": [
  {
   "cell_type": "markdown",
   "source": [
    "Berner Fachhochschule BFH - MAS Data Science - Graph Machine Learning - Master Thesis FS/2022 Thomas Iten\n",
    "\n",
    "# 16. Performance Messung GNN"
   ],
   "metadata": {
    "collapsed": false
   }
  },
  {
   "cell_type": "code",
   "execution_count": 5,
   "metadata": {
    "collapsed": true
   },
   "outputs": [],
   "source": [
    "import numpy as np\n",
    "import networkx as nx\n",
    "from tensorflow import keras\n",
    "from stellargraph import StellarGraph\n",
    "from stellargraph.data import EdgeSplitter\n",
    "from stellargraph.mapper import GraphSAGELinkGenerator\n",
    "from stellargraph.layer import GraphSAGE, link_classification\n",
    "from gml.graph.data_factory import DataFactory\n",
    "from gml.measure.system_meter import SystemMeter, CpuSystemMeter, MemorySystemMeter, TimeSystemMeter"
   ]
  },
  {
   "cell_type": "markdown",
   "source": [
    "## 16.1 Messung Graph Erstellung, Training und Link Prediction"
   ],
   "metadata": {
    "collapsed": false
   }
  },
  {
   "cell_type": "code",
   "execution_count": 6,
   "outputs": [
    {
     "name": "stdout",
     "output_type": "stream",
     "text": [
      "Start performance measures:\n",
      "** Sampled 90 positive and 90 negative edges. **\n",
      "** Sampled 81 positive and 81 negative edges. **\n",
      "link_classification: using 'ip' method to combine node embeddings into edge embeddings\n",
      "Epoch 1/12\n",
      "3/3 [==============================] - 3s 369ms/step - loss: 0.2609 - acc: 0.4753 - val_loss: 0.2549 - val_acc: 0.5000\n",
      "Epoch 2/12\n",
      "3/3 [==============================] - 0s 128ms/step - loss: 0.2570 - acc: 0.5123 - val_loss: 0.2515 - val_acc: 0.4778\n",
      "Epoch 3/12\n",
      "3/3 [==============================] - 0s 138ms/step - loss: 0.2531 - acc: 0.4815 - val_loss: 0.2520 - val_acc: 0.4722\n",
      "Epoch 4/12\n",
      "3/3 [==============================] - 0s 139ms/step - loss: 0.2426 - acc: 0.5370 - val_loss: 0.2540 - val_acc: 0.5000\n",
      "Epoch 5/12\n",
      "3/3 [==============================] - 0s 139ms/step - loss: 0.2462 - acc: 0.5926 - val_loss: 0.2501 - val_acc: 0.5222\n",
      "Epoch 6/12\n",
      "3/3 [==============================] - 0s 139ms/step - loss: 0.2345 - acc: 0.5926 - val_loss: 0.2548 - val_acc: 0.4778\n",
      "Epoch 7/12\n",
      "3/3 [==============================] - 0s 124ms/step - loss: 0.2417 - acc: 0.5988 - val_loss: 0.2515 - val_acc: 0.5056\n",
      "Epoch 8/12\n",
      "3/3 [==============================] - 0s 126ms/step - loss: 0.2321 - acc: 0.5802 - val_loss: 0.2475 - val_acc: 0.5167\n",
      "Epoch 9/12\n",
      "3/3 [==============================] - 0s 133ms/step - loss: 0.2235 - acc: 0.6420 - val_loss: 0.2487 - val_acc: 0.5056\n",
      "Epoch 10/12\n",
      "3/3 [==============================] - 0s 125ms/step - loss: 0.2299 - acc: 0.6605 - val_loss: 0.2482 - val_acc: 0.5222\n",
      "Epoch 11/12\n",
      "3/3 [==============================] - 0s 125ms/step - loss: 0.2255 - acc: 0.6543 - val_loss: 0.2467 - val_acc: 0.5278\n",
      "Epoch 12/12\n",
      "3/3 [==============================] - 0s 126ms/step - loss: 0.2261 - acc: 0.6667 - val_loss: 0.2476 - val_acc: 0.5333\n",
      "{'graphs': 100, 'nodes': 603, 'edges': 902, 'Time [min]': 0.13, 'Memory [MB]': 30.03, 'CPU [%]': 12.88}\n",
      "** Sampled 180 positive and 180 negative edges. **\n",
      "** Sampled 162 positive and 162 negative edges. **\n",
      "link_classification: using 'ip' method to combine node embeddings into edge embeddings\n",
      "Epoch 1/12\n",
      "6/6 [==============================] - 3s 207ms/step - loss: 0.2616 - acc: 0.4599 - val_loss: 0.2618 - val_acc: 0.5028\n",
      "Epoch 2/12\n",
      "6/6 [==============================] - 1s 116ms/step - loss: 0.2539 - acc: 0.5278 - val_loss: 0.2590 - val_acc: 0.5028\n",
      "Epoch 3/12\n",
      "6/6 [==============================] - 1s 115ms/step - loss: 0.2397 - acc: 0.5741 - val_loss: 0.2586 - val_acc: 0.4750\n",
      "Epoch 4/12\n",
      "6/6 [==============================] - 1s 110ms/step - loss: 0.2311 - acc: 0.6605 - val_loss: 0.2552 - val_acc: 0.5111\n",
      "Epoch 5/12\n",
      "6/6 [==============================] - 1s 115ms/step - loss: 0.2349 - acc: 0.6235 - val_loss: 0.2536 - val_acc: 0.5222\n",
      "Epoch 6/12\n",
      "6/6 [==============================] - 1s 116ms/step - loss: 0.2207 - acc: 0.7222 - val_loss: 0.2512 - val_acc: 0.5167\n",
      "Epoch 7/12\n",
      "6/6 [==============================] - 1s 113ms/step - loss: 0.2185 - acc: 0.7037 - val_loss: 0.2497 - val_acc: 0.5333\n",
      "Epoch 8/12\n",
      "6/6 [==============================] - 1s 113ms/step - loss: 0.2107 - acc: 0.7191 - val_loss: 0.2469 - val_acc: 0.5361\n",
      "Epoch 9/12\n",
      "6/6 [==============================] - 1s 116ms/step - loss: 0.2035 - acc: 0.7716 - val_loss: 0.2495 - val_acc: 0.5389\n",
      "Epoch 10/12\n",
      "6/6 [==============================] - 1s 112ms/step - loss: 0.1951 - acc: 0.8148 - val_loss: 0.2509 - val_acc: 0.5556\n",
      "Epoch 11/12\n",
      "6/6 [==============================] - 1s 116ms/step - loss: 0.1923 - acc: 0.8241 - val_loss: 0.2483 - val_acc: 0.5500\n",
      "Epoch 12/12\n",
      "6/6 [==============================] - 1s 116ms/step - loss: 0.1884 - acc: 0.8302 - val_loss: 0.2517 - val_acc: 0.5389\n",
      "{'graphs': 200, 'nodes': 1203, 'edges': 1802, 'Time [min]': 0.2, 'Memory [MB]': 71.96, 'CPU [%]': 18.84}\n",
      "** Sampled 2700 positive and 2700 negative edges. **\n",
      "** Sampled 2430 positive and 2430 negative edges. **\n",
      "link_classification: using 'ip' method to combine node embeddings into edge embeddings\n",
      "Epoch 1/12\n",
      "76/76 [==============================] - 44s 554ms/step - loss: 0.2550 - acc: 0.5107 - val_loss: 0.2465 - val_acc: 0.5531\n",
      "Epoch 2/12\n",
      "76/76 [==============================] - 43s 562ms/step - loss: 0.2123 - acc: 0.7237 - val_loss: 0.2464 - val_acc: 0.5422\n",
      "Epoch 3/12\n",
      "76/76 [==============================] - 42s 560ms/step - loss: 0.1812 - acc: 0.8461 - val_loss: 0.2477 - val_acc: 0.5478\n",
      "Epoch 4/12\n",
      "76/76 [==============================] - 42s 556ms/step - loss: 0.1622 - acc: 0.8922 - val_loss: 0.2508 - val_acc: 0.5446\n",
      "Epoch 5/12\n",
      "76/76 [==============================] - 43s 565ms/step - loss: 0.1485 - acc: 0.9142 - val_loss: 0.2513 - val_acc: 0.5435\n",
      "Epoch 6/12\n",
      "76/76 [==============================] - 43s 563ms/step - loss: 0.1364 - acc: 0.9298 - val_loss: 0.2552 - val_acc: 0.5391\n",
      "Epoch 7/12\n",
      "76/76 [==============================] - 43s 564ms/step - loss: 0.1281 - acc: 0.9418 - val_loss: 0.2578 - val_acc: 0.5365\n",
      "Epoch 8/12\n",
      "76/76 [==============================] - 43s 562ms/step - loss: 0.1213 - acc: 0.9459 - val_loss: 0.2588 - val_acc: 0.5259\n",
      "Epoch 9/12\n",
      "76/76 [==============================] - 43s 565ms/step - loss: 0.1175 - acc: 0.9492 - val_loss: 0.2607 - val_acc: 0.5291\n",
      "Epoch 10/12\n",
      "76/76 [==============================] - 43s 564ms/step - loss: 0.1138 - acc: 0.9539 - val_loss: 0.2626 - val_acc: 0.5322\n",
      "Epoch 11/12\n",
      "76/76 [==============================] - 43s 566ms/step - loss: 0.1109 - acc: 0.9529 - val_loss: 0.2653 - val_acc: 0.5254\n",
      "Epoch 12/12\n",
      "76/76 [==============================] - 43s 566ms/step - loss: 0.1078 - acc: 0.9566 - val_loss: 0.2671 - val_acc: 0.5180\n",
      "{'graphs': 3000, 'nodes': 18003, 'edges': 27002, 'Time [min]': 9.76, 'Memory [MB]': 10450.18, 'CPU [%]': 54.77}\n",
      "** Sampled 5400 positive and 5400 negative edges. **\n",
      "** Sampled 4860 positive and 4860 negative edges. **\n",
      "link_classification: using 'ip' method to combine node embeddings into edge embeddings\n",
      "Epoch 1/12\n",
      "152/152 [==============================] - 156s 1s/step - loss: 0.2504 - acc: 0.5392 - val_loss: 0.2435 - val_acc: 0.5731\n",
      "Epoch 2/12\n",
      "152/152 [==============================] - 157s 1s/step - loss: 0.2088 - acc: 0.7261 - val_loss: 0.2428 - val_acc: 0.5657\n",
      "Epoch 3/12\n",
      "152/152 [==============================] - 157s 1s/step - loss: 0.1750 - acc: 0.8462 - val_loss: 0.2455 - val_acc: 0.5601\n",
      "Epoch 4/12\n",
      "152/152 [==============================] - 159s 1s/step - loss: 0.1536 - acc: 0.8901 - val_loss: 0.2484 - val_acc: 0.5568\n",
      "Epoch 5/12\n",
      "152/152 [==============================] - 158s 1s/step - loss: 0.1380 - acc: 0.9109 - val_loss: 0.2519 - val_acc: 0.5466\n",
      "Epoch 6/12\n",
      "152/152 [==============================] - 158s 1s/step - loss: 0.1271 - acc: 0.9272 - val_loss: 0.2569 - val_acc: 0.5397\n",
      "Epoch 7/12\n",
      "152/152 [==============================] - 157s 1s/step - loss: 0.1202 - acc: 0.9367 - val_loss: 0.2564 - val_acc: 0.5411\n",
      "Epoch 8/12\n",
      "152/152 [==============================] - 158s 1s/step - loss: 0.1141 - acc: 0.9449 - val_loss: 0.2595 - val_acc: 0.5357\n",
      "Epoch 9/12\n",
      "152/152 [==============================] - 159s 1s/step - loss: 0.1108 - acc: 0.9509 - val_loss: 0.2617 - val_acc: 0.5321\n",
      "Epoch 10/12\n",
      "152/152 [==============================] - 158s 1s/step - loss: 0.1078 - acc: 0.9515 - val_loss: 0.2637 - val_acc: 0.5270\n",
      "Epoch 11/12\n",
      "152/152 [==============================] - 159s 1s/step - loss: 0.1055 - acc: 0.9563 - val_loss: 0.2635 - val_acc: 0.5308\n",
      "Epoch 12/12\n",
      "152/152 [==============================] - 159s 1s/step - loss: 0.1034 - acc: 0.9584 - val_loss: 0.2636 - val_acc: 0.5331\n",
      "{'graphs': 6000, 'nodes': 36003, 'edges': 54002, 'Time [min]': 36.21, 'Memory [MB]': 41634.49, 'CPU [%]': 58.43}\n"
     ]
    }
   ],
   "source": [
    "# init system meters\n",
    "meters = [TimeSystemMeter(), MemorySystemMeter(), CpuSystemMeter()]\n",
    "\n",
    "# init data\n",
    "labels   = [\"Measure A\", \"Measure B\", \"Measure C\", \"Measure D\"]\n",
    "n_graphs = [100, 200, 3000, 6000]\n",
    "measures = []\n",
    "\n",
    "print(\"Start performance measures:\")\n",
    "for n_graph in n_graphs:\n",
    "\n",
    "    # create graph\n",
    "    for meter in meters:\n",
    "        meter.start()\n",
    "\n",
    "    graph = DataFactory().create_graph(n=n_graph, add_dc=True, connected=True)\n",
    "\n",
    "    # Testdaten\n",
    "    edgeSplitter = EdgeSplitter(graph.graph)\n",
    "    test_graph, test_samples, test_labels  = edgeSplitter.train_test_split(p=0.1, method=\"global\", keep_connected=True)\n",
    "\n",
    "    # Trainingsdaten\n",
    "    edgeSplitter = EdgeSplitter(test_graph, graph.graph)\n",
    "    train_graph, train_samples, train_labels = edgeSplitter.train_test_split(p=0.1, method=\"global\", keep_connected=True)\n",
    "\n",
    "    # Node Features hinzufügen\n",
    "    node_features=\"idm\"\n",
    "    eye = np.eye(test_graph.number_of_nodes())                      # Identiy matrix (idm) with size = number of nodes\n",
    "    idm = {n:eye[i] for i,n in enumerate(test_graph.nodes())}       # Dictionary with node number as key and corresponding idm row as value\n",
    "    nx.set_node_attributes(test_graph, idm, node_features)          # Assign node features (with name 'idm') to the test_graph nodes\n",
    "\n",
    "    eye = np.eye(train_graph.number_of_nodes())\n",
    "    idm = {n:eye[i] for i,n in enumerate(train_graph.nodes())}\n",
    "    nx.set_node_attributes(train_graph, idm, node_features)\n",
    "\n",
    "    # Link Generator definieren\n",
    "    batch_size = 64\n",
    "    num_samples = [4, 4]\n",
    "\n",
    "    train_sg   = StellarGraph.from_networkx(train_graph, node_features=node_features)\n",
    "    train_gen  = GraphSAGELinkGenerator(train_sg, batch_size, num_samples)\n",
    "    train_flow = train_gen.flow(train_samples, train_labels, shuffle=True, seed=24)\n",
    "\n",
    "    test_sg    = StellarGraph.from_networkx(test_graph, node_features=node_features)\n",
    "    test_gen   = GraphSAGELinkGenerator(test_sg, batch_size, num_samples)\n",
    "    test_flow  = test_gen.flow(test_samples, test_labels, seed=24)\n",
    "\n",
    "    # Model training\n",
    "    layer_sizes = [20, 20]\n",
    "    graphsage = GraphSAGE(\n",
    "        layer_sizes=layer_sizes,\n",
    "        generator=train_gen,\n",
    "        bias=True,\n",
    "        dropout=0.3)\n",
    "\n",
    "    x_inp, x_out = graphsage.in_out_tensors()\n",
    "    prediction   = link_classification(output_dim=1, output_act=\"sigmoid\", edge_embedding_method=\"ip\")(x_out)\n",
    "\n",
    "    model = keras.Model(inputs=x_inp, outputs=prediction)\n",
    "    model.compile(\n",
    "        optimizer=keras.optimizers.Adam(learning_rate=1e-3),\n",
    "        loss=keras.losses.mse,\n",
    "        metrics=[\"acc\"],\n",
    "    )\n",
    "\n",
    "    # Model trainieren\n",
    "    epochs = 12\n",
    "    history = model.fit(train_flow, epochs=epochs, validation_data=test_flow)\n",
    "\n",
    "\n",
    "    # Prediction\n",
    "    y_pred = np.round(model.predict(test_flow)).flatten()\n",
    "\n",
    "    # summarize measure results\n",
    "    measure = {\n",
    "        \"graphs\": n_graph,\n",
    "        \"nodes\": graph.number_of_nodes(),\n",
    "        \"edges\": graph.number_of_edges()\n",
    "    }\n",
    "\n",
    "    # stop system meters and add them to the measure\n",
    "    for meter in meters:\n",
    "        meter.stop()\n",
    "        measure[meter.name] = meter.result()\n",
    "\n",
    "    # save measure\n",
    "    measures.append(measure)\n",
    "    print(measure)"
   ],
   "metadata": {
    "collapsed": false,
    "pycharm": {
     "name": "#%%\n"
    }
   }
  },
  {
   "cell_type": "markdown",
   "source": [
    "## 16.2 Anzeige Resultate"
   ],
   "metadata": {
    "collapsed": false
   }
  },
  {
   "cell_type": "code",
   "execution_count": 7,
   "outputs": [
    {
     "name": "stdout",
     "output_type": "stream",
     "text": [
      "             Measure A  Measure B  Measure C  Measure D\n",
      "Graphs          100.00     200.00    3000.00    6000.00\n",
      "Nodes           603.00    1203.00   18003.00   36003.00\n",
      "Edges           902.00    1802.00   27002.00   54002.00\n",
      "Time [min]        0.13       0.20       9.76      36.21\n",
      "Memory [mb]      30.03      71.96   10450.18   41634.49\n",
      "Cpu [%]          12.88      18.84      54.77      58.43\n"
     ]
    }
   ],
   "source": [
    "df = SystemMeter.create_df(measures, labels)\n",
    "print(df)"
   ],
   "metadata": {
    "collapsed": false,
    "pycharm": {
     "name": "#%%\n"
    }
   }
  },
  {
   "cell_type": "markdown",
   "source": [
    "---\n",
    "_The end._"
   ],
   "metadata": {
    "collapsed": false
   }
  }
 ],
 "metadata": {
  "kernelspec": {
   "display_name": "Python 3",
   "language": "python",
   "name": "python3"
  },
  "language_info": {
   "codemirror_mode": {
    "name": "ipython",
    "version": 2
   },
   "file_extension": ".py",
   "mimetype": "text/x-python",
   "name": "python",
   "nbconvert_exporter": "python",
   "pygments_lexer": "ipython2",
   "version": "2.7.6"
  }
 },
 "nbformat": 4,
 "nbformat_minor": 0
}
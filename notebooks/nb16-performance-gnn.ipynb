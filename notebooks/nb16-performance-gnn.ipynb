{
 "cells": [
  {
   "cell_type": "markdown",
   "source": [
    "Berner Fachhochschule BFH - MAS Data Science - Graph Machine Learning - Master Thesis FS/2022 Thomas Iten\n",
    "\n",
    "# 16. Performance Messung GNN"
   ],
   "metadata": {
    "collapsed": false
   }
  },
  {
   "cell_type": "code",
   "execution_count": 1,
   "metadata": {
    "collapsed": true
   },
   "outputs": [],
   "source": [
    "import numpy as np\n",
    "import networkx as nx\n",
    "from tensorflow import keras\n",
    "from stellargraph import StellarGraph\n",
    "from stellargraph.data import EdgeSplitter\n",
    "from stellargraph.mapper import GraphSAGELinkGenerator\n",
    "from stellargraph.layer import GraphSAGE, link_classification\n",
    "from gml.graph.data_factory import DataFactory\n",
    "from gml.measure.system_meter import SystemMeter, CpuSystemMeter, MemorySystemMeter, TimeSystemMeter"
   ]
  },
  {
   "cell_type": "markdown",
   "source": [
    "## 16.1 Messung Graph Erstellung, Training und Link Prediction"
   ],
   "metadata": {
    "collapsed": false
   }
  },
  {
   "cell_type": "code",
   "execution_count": 3,
   "outputs": [
    {
     "name": "stdout",
     "output_type": "stream",
     "text": [
      "Start performance measures:\n",
      "** Sampled 900 positive and 900 negative edges. **\n",
      "** Sampled 810 positive and 810 negative edges. **\n",
      "link_classification: using 'ip' method to combine node embeddings into edge embeddings\n",
      "Epoch 1/12\n",
      "26/26 [==============================] - 9s 267ms/step - loss: 0.2573 - acc: 0.4957 - val_loss: 0.2550 - val_acc: 0.5128\n",
      "Epoch 2/12\n",
      "26/26 [==============================] - 6s 242ms/step - loss: 0.2344 - acc: 0.6265 - val_loss: 0.2466 - val_acc: 0.5428\n",
      "Epoch 3/12\n",
      "26/26 [==============================] - 6s 243ms/step - loss: 0.2153 - acc: 0.7056 - val_loss: 0.2468 - val_acc: 0.5550\n",
      "Epoch 4/12\n",
      "26/26 [==============================] - 6s 245ms/step - loss: 0.1984 - acc: 0.7944 - val_loss: 0.2455 - val_acc: 0.5656\n",
      "Epoch 5/12\n",
      "26/26 [==============================] - 6s 238ms/step - loss: 0.1808 - acc: 0.8630 - val_loss: 0.2454 - val_acc: 0.5533\n",
      "Epoch 6/12\n",
      "26/26 [==============================] - 7s 255ms/step - loss: 0.1714 - acc: 0.8932 - val_loss: 0.2442 - val_acc: 0.5639\n",
      "Epoch 7/12\n",
      "26/26 [==============================] - 7s 253ms/step - loss: 0.1655 - acc: 0.8981 - val_loss: 0.2474 - val_acc: 0.5622\n",
      "Epoch 8/12\n",
      "26/26 [==============================] - 6s 247ms/step - loss: 0.1572 - acc: 0.9210 - val_loss: 0.2482 - val_acc: 0.5439\n",
      "Epoch 9/12\n",
      "26/26 [==============================] - 6s 252ms/step - loss: 0.1516 - acc: 0.9265 - val_loss: 0.2472 - val_acc: 0.5511\n",
      "Epoch 10/12\n",
      "26/26 [==============================] - 6s 246ms/step - loss: 0.1456 - acc: 0.9296 - val_loss: 0.2523 - val_acc: 0.5356\n",
      "Epoch 11/12\n",
      "26/26 [==============================] - 6s 247ms/step - loss: 0.1412 - acc: 0.9340 - val_loss: 0.2519 - val_acc: 0.5417\n",
      "Epoch 12/12\n",
      "26/26 [==============================] - 7s 257ms/step - loss: 0.1357 - acc: 0.9500 - val_loss: 0.2534 - val_acc: 0.5339\n",
      "{'graphs': 1000, 'nodes': 6003, 'edges': 9002, 'Time [min]': 1.55, 'Memory [MB]': 104018.25, 'CPU [%]': 36.88}\n",
      "** Sampled 1800 positive and 1800 negative edges. **\n",
      "** Sampled 1620 positive and 1620 negative edges. **\n",
      "link_classification: using 'ip' method to combine node embeddings into edge embeddings\n",
      "Epoch 1/12\n",
      "51/51 [==============================] - 22s 410ms/step - loss: 0.2526 - acc: 0.5241 - val_loss: 0.2493 - val_acc: 0.5492\n",
      "Epoch 2/12\n",
      "51/51 [==============================] - 21s 422ms/step - loss: 0.2159 - acc: 0.7062 - val_loss: 0.2473 - val_acc: 0.5453\n",
      "Epoch 3/12\n",
      "51/51 [==============================] - 21s 408ms/step - loss: 0.1892 - acc: 0.8210 - val_loss: 0.2468 - val_acc: 0.5486\n",
      "Epoch 4/12\n",
      "51/51 [==============================] - 20s 389ms/step - loss: 0.1668 - acc: 0.8892 - val_loss: 0.2494 - val_acc: 0.5367\n",
      "Epoch 5/12\n",
      "51/51 [==============================] - 20s 395ms/step - loss: 0.1570 - acc: 0.8969 - val_loss: 0.2504 - val_acc: 0.5425\n",
      "Epoch 6/12\n",
      "51/51 [==============================] - 21s 406ms/step - loss: 0.1434 - acc: 0.9265 - val_loss: 0.2533 - val_acc: 0.5378\n",
      "Epoch 7/12\n",
      "51/51 [==============================] - 20s 402ms/step - loss: 0.1351 - acc: 0.9309 - val_loss: 0.2576 - val_acc: 0.5281\n",
      "Epoch 8/12\n",
      "51/51 [==============================] - 20s 394ms/step - loss: 0.1267 - acc: 0.9404 - val_loss: 0.2569 - val_acc: 0.5350\n",
      "Epoch 9/12\n",
      "51/51 [==============================] - 20s 391ms/step - loss: 0.1217 - acc: 0.9472 - val_loss: 0.2621 - val_acc: 0.5225\n",
      "Epoch 10/12\n",
      "51/51 [==============================] - 19s 382ms/step - loss: 0.1186 - acc: 0.9469 - val_loss: 0.2646 - val_acc: 0.5228\n",
      "Epoch 11/12\n",
      "51/51 [==============================] - 19s 384ms/step - loss: 0.1143 - acc: 0.9534 - val_loss: 0.2654 - val_acc: 0.5206\n",
      "Epoch 12/12\n",
      "51/51 [==============================] - 20s 386ms/step - loss: 0.1092 - acc: 0.9552 - val_loss: 0.2669 - val_acc: 0.5136\n",
      "{'graphs': 2000, 'nodes': 12003, 'edges': 18002, 'Time [min]': 4.66, 'Memory [MB]': 4664.26, 'CPU [%]': 49.07}\n",
      "** Sampled 2700 positive and 2700 negative edges. **\n",
      "** Sampled 2430 positive and 2430 negative edges. **\n",
      "link_classification: using 'ip' method to combine node embeddings into edge embeddings\n",
      "Epoch 1/12\n",
      "76/76 [==============================] - 43s 544ms/step - loss: 0.2538 - acc: 0.5123 - val_loss: 0.2498 - val_acc: 0.5394\n",
      "Epoch 2/12\n",
      "76/76 [==============================] - 41s 542ms/step - loss: 0.2178 - acc: 0.7053 - val_loss: 0.2437 - val_acc: 0.5600\n",
      "Epoch 3/12\n",
      "76/76 [==============================] - 42s 551ms/step - loss: 0.1872 - acc: 0.8337 - val_loss: 0.2459 - val_acc: 0.5517\n",
      "Epoch 4/12\n",
      "76/76 [==============================] - 42s 549ms/step - loss: 0.1680 - acc: 0.8759 - val_loss: 0.2472 - val_acc: 0.5454\n",
      "Epoch 5/12\n",
      "76/76 [==============================] - 43s 561ms/step - loss: 0.1511 - acc: 0.9105 - val_loss: 0.2518 - val_acc: 0.5393\n",
      "Epoch 6/12\n",
      "76/76 [==============================] - 42s 550ms/step - loss: 0.1409 - acc: 0.9270 - val_loss: 0.2533 - val_acc: 0.5430\n",
      "Epoch 7/12\n",
      "76/76 [==============================] - 42s 552ms/step - loss: 0.1321 - acc: 0.9259 - val_loss: 0.2570 - val_acc: 0.5344\n",
      "Epoch 8/12\n",
      "76/76 [==============================] - 43s 565ms/step - loss: 0.1241 - acc: 0.9370 - val_loss: 0.2600 - val_acc: 0.5315\n",
      "Epoch 9/12\n",
      "76/76 [==============================] - 42s 558ms/step - loss: 0.1186 - acc: 0.9418 - val_loss: 0.2641 - val_acc: 0.5307\n",
      "Epoch 10/12\n",
      "76/76 [==============================] - 41s 541ms/step - loss: 0.1133 - acc: 0.9492 - val_loss: 0.2640 - val_acc: 0.5376\n",
      "Epoch 11/12\n",
      "76/76 [==============================] - 41s 544ms/step - loss: 0.1113 - acc: 0.9459 - val_loss: 0.2626 - val_acc: 0.5400\n",
      "Epoch 12/12\n",
      "76/76 [==============================] - 43s 562ms/step - loss: 0.1088 - acc: 0.9467 - val_loss: 0.2655 - val_acc: 0.5370\n",
      "{'graphs': 3000, 'nodes': 18003, 'edges': 27002, 'Time [min]': 9.64, 'Memory [MB]': 10450.1, 'CPU [%]': 53.12}\n",
      "** Sampled 5400 positive and 5400 negative edges. **\n",
      "** Sampled 4860 positive and 4860 negative edges. **\n",
      "link_classification: using 'ip' method to combine node embeddings into edge embeddings\n",
      "Epoch 1/12\n",
      "152/152 [==============================] - 156s 1s/step - loss: 0.2513 - acc: 0.5314 - val_loss: 0.2434 - val_acc: 0.5756\n",
      "Epoch 2/12\n",
      "152/152 [==============================] - 156s 1s/step - loss: 0.2089 - acc: 0.7318 - val_loss: 0.2413 - val_acc: 0.5731\n",
      "Epoch 3/12\n",
      "152/152 [==============================] - 153s 1s/step - loss: 0.1768 - acc: 0.8488 - val_loss: 0.2435 - val_acc: 0.5703\n",
      "Epoch 4/12\n",
      "152/152 [==============================] - 154s 1s/step - loss: 0.1555 - acc: 0.8915 - val_loss: 0.2477 - val_acc: 0.5545\n",
      "Epoch 5/12\n",
      "152/152 [==============================] - 159s 1s/step - loss: 0.1404 - acc: 0.9119 - val_loss: 0.2534 - val_acc: 0.5457\n",
      "Epoch 6/12\n",
      "152/152 [==============================] - 161s 1s/step - loss: 0.1291 - acc: 0.9266 - val_loss: 0.2557 - val_acc: 0.5420\n",
      "Epoch 7/12\n",
      "152/152 [==============================] - 148s 975ms/step - loss: 0.1223 - acc: 0.9297 - val_loss: 0.2598 - val_acc: 0.5322\n",
      "Epoch 8/12\n",
      "152/152 [==============================] - 155s 1s/step - loss: 0.1168 - acc: 0.9371 - val_loss: 0.2632 - val_acc: 0.5315\n",
      "Epoch 9/12\n",
      "152/152 [==============================] - 150s 989ms/step - loss: 0.1125 - acc: 0.9393 - val_loss: 0.2636 - val_acc: 0.5317\n",
      "Epoch 10/12\n",
      "152/152 [==============================] - 147s 966ms/step - loss: 0.1101 - acc: 0.9439 - val_loss: 0.2654 - val_acc: 0.5307\n",
      "Epoch 11/12\n",
      "152/152 [==============================] - 156s 1s/step - loss: 0.1075 - acc: 0.9489 - val_loss: 0.2658 - val_acc: 0.5307\n",
      "Epoch 12/12\n",
      "152/152 [==============================] - 152s 1s/step - loss: 0.1061 - acc: 0.9477 - val_loss: 0.2652 - val_acc: 0.5319\n",
      "{'graphs': 6000, 'nodes': 36003, 'edges': 54002, 'Time [min]': 35.4, 'Memory [MB]': 41634.55, 'CPU [%]': 57.68}\n"
     ]
    }
   ],
   "source": [
    "# init system meters\n",
    "meters = [TimeSystemMeter(), MemorySystemMeter(), CpuSystemMeter()]\n",
    "\n",
    "# init data\n",
    "labels   = [\"Measure A\", \"Measure B\", \"Measure C\", \"Measure D\"]\n",
    "n_graphs = [1000, 2000, 3000, 6000]\n",
    "measures = []\n",
    "\n",
    "print(\"Start performance measures:\")\n",
    "for n_graph in n_graphs:\n",
    "\n",
    "    # create graph\n",
    "    for meter in meters:\n",
    "        meter.start()\n",
    "\n",
    "    graph = DataFactory().create_graph(n=n_graph, add_dc=True, connected=True)\n",
    "\n",
    "    # Testdaten\n",
    "    edgeSplitter = EdgeSplitter(graph.graph)\n",
    "    test_graph, test_samples, test_labels  = edgeSplitter.train_test_split(p=0.1, method=\"global\", keep_connected=True)\n",
    "\n",
    "    # Trainingsdaten\n",
    "    edgeSplitter = EdgeSplitter(test_graph, graph.graph)\n",
    "    train_graph, train_samples, train_labels = edgeSplitter.train_test_split(p=0.1, method=\"global\", keep_connected=True)\n",
    "\n",
    "    # Node Features hinzufügen\n",
    "    node_features=\"idm\"\n",
    "    eye = np.eye(test_graph.number_of_nodes())                      # Identiy matrix (idm) with size = number of nodes\n",
    "    idm = {n:eye[i] for i,n in enumerate(test_graph.nodes())}       # Dictionary with node number as key and corresponding idm row as value\n",
    "    nx.set_node_attributes(test_graph, idm, node_features)          # Assign node features (with name 'idm') to the test_graph nodes\n",
    "\n",
    "    eye = np.eye(train_graph.number_of_nodes())\n",
    "    idm = {n:eye[i] for i,n in enumerate(train_graph.nodes())}\n",
    "    nx.set_node_attributes(train_graph, idm, node_features)\n",
    "\n",
    "    # Link Generator definieren\n",
    "    batch_size = 64\n",
    "    num_samples = [4, 4]\n",
    "\n",
    "    train_sg   = StellarGraph.from_networkx(train_graph, node_features=node_features)\n",
    "    train_gen  = GraphSAGELinkGenerator(train_sg, batch_size, num_samples)\n",
    "    train_flow = train_gen.flow(train_samples, train_labels, shuffle=True, seed=24)\n",
    "\n",
    "    test_sg    = StellarGraph.from_networkx(test_graph, node_features=node_features)\n",
    "    test_gen   = GraphSAGELinkGenerator(test_sg, batch_size, num_samples)\n",
    "    test_flow  = test_gen.flow(test_samples, test_labels, seed=24)\n",
    "\n",
    "    # Model erstellen\n",
    "    layer_sizes = [20, 20]\n",
    "    graphsage = GraphSAGE(\n",
    "        layer_sizes=layer_sizes,\n",
    "        generator=train_gen,\n",
    "        bias=True,\n",
    "        dropout=0.3)\n",
    "\n",
    "    x_inp, x_out = graphsage.in_out_tensors()\n",
    "    prediction   = link_classification(output_dim=1, output_act=\"sigmoid\", edge_embedding_method=\"ip\")(x_out)\n",
    "\n",
    "    model = keras.Model(inputs=x_inp, outputs=prediction)\n",
    "    model.compile(\n",
    "        optimizer=keras.optimizers.Adam(learning_rate=1e-3),\n",
    "        loss=keras.losses.mse,\n",
    "        metrics=[\"acc\"],\n",
    "    )\n",
    "\n",
    "    # Model trainieren\n",
    "    epochs = 12\n",
    "    history = model.fit(train_flow, epochs=epochs, validation_data=test_flow)\n",
    "\n",
    "\n",
    "    # Prediction\n",
    "    y_pred = np.round(model.predict(test_flow)).flatten()\n",
    "\n",
    "    # summarize measure results\n",
    "    measure = {\n",
    "        \"graphs\": n_graph,\n",
    "        \"nodes\": graph.number_of_nodes(),\n",
    "        \"edges\": graph.number_of_edges()\n",
    "    }\n",
    "\n",
    "    # stop system meters and add them to the measure\n",
    "    for meter in meters:\n",
    "        meter.stop()\n",
    "        measure[meter.name] = meter.result()\n",
    "\n",
    "    # save measure\n",
    "    measures.append(measure)\n",
    "    print(measure)"
   ],
   "metadata": {
    "collapsed": false,
    "pycharm": {
     "name": "#%%\n"
    }
   }
  },
  {
   "cell_type": "markdown",
   "source": [
    "## 16.2 Anzeige Resultate"
   ],
   "metadata": {
    "collapsed": false
   }
  },
  {
   "cell_type": "code",
   "execution_count": 4,
   "outputs": [
    {
     "name": "stdout",
     "output_type": "stream",
     "text": [
      "             Measure A  Measure B  Measure C  Measure D\n",
      "Graphs         1000.00    2000.00    3000.00    6000.00\n",
      "Nodes          6003.00   12003.00   18003.00   36003.00\n",
      "Edges          9002.00   18002.00   27002.00   54002.00\n",
      "Time [min]        1.55       4.66       9.64      35.40\n",
      "Memory [mb]  104018.25    4664.26   10450.10   41634.55\n",
      "Cpu [%]          36.88      49.07      53.12      57.68\n"
     ]
    }
   ],
   "source": [
    "df = SystemMeter.create_df(measures, labels)\n",
    "print(df)"
   ],
   "metadata": {
    "collapsed": false,
    "pycharm": {
     "name": "#%%\n"
    }
   }
  },
  {
   "cell_type": "markdown",
   "source": [
    "---\n",
    "_The end._"
   ],
   "metadata": {
    "collapsed": false
   }
  }
 ],
 "metadata": {
  "kernelspec": {
   "display_name": "Python 3",
   "language": "python",
   "name": "python3"
  },
  "language_info": {
   "codemirror_mode": {
    "name": "ipython",
    "version": 2
   },
   "file_extension": ".py",
   "mimetype": "text/x-python",
   "name": "python",
   "nbconvert_exporter": "python",
   "pygments_lexer": "ipython2",
   "version": "2.7.6"
  }
 },
 "nbformat": 4,
 "nbformat_minor": 0
}
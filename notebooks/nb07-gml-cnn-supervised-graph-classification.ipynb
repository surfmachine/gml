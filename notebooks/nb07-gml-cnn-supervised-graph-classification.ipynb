{
 "cells": [
  {
   "cell_type": "markdown",
   "metadata": {},
   "source": [
    "# 7. Graph Machine Learning CNN\n",
    "\n",
    "**Source Code:**\n",
    "[DQCNN Graph Classification](https://stellargraph.readthedocs.io/en/stable/demos/graph-classification/dgcnn-graph-classification.html) Deep Graph Library,  2018, DGL Team."
   ]
  },
  {
   "cell_type": "markdown",
   "metadata": {},
   "source": [
    "# Supervised graph classification with Deep Graph CNN\n",
    "\n",
    "This notebook demonstrates how to train a graph classification model in a supervised setting using the Deep Graph Convolutional Neural Network (DGCNN) [1] algorithm.\n",
    "\n",
    "In supervised graph classification, we are given a collection of graphs each with an attached categorical label. For example, the PROTEINS dataset we use for this demo is a collection of graphs each representing a chemical compound and labelled as either an enzyme or not. Our goal is to train a machine learning model that uses the graph structure of the data together with any information available for the graph's nodes, e.g., chemical properties for the compounds in PROTEINS, to predict the correct label for a previously unseen graph; a previously unseen graph is one that was not used for training and validating the model.\n",
    "\n",
    "The DGCNN architecture was proposed in [1] (see Figure 5 in [1]) using the graph convolutional layers from [2] but with a modified propagation rule (see [1] for details). DGCNN introduces a new `SortPooling` layer to generate a representation (also know as embedding) for each given graph using as input the representations learned for each node via a stack of graph convolutional layers. The output of the `SortPooling` layer is then used as input to one-dimensional convolutional, max pooling, and dense layers that learn graph-level features suitable for predicting graph labels.\n",
    "\n",
    "**References**\n",
    "\n",
    "[1] [An End-to-End Deep Learning Architecture for Graph Classification](https://www.aaai.org/ocs/index.php/AAAI/AAAI18/paper/viewPaper/17146), M. Zhang, Z. Cui, M. Neumann, Y. Chen, AAAI-18.\n",
    "\n",
    "[2] [Semi-supervised Classification with Graph Convolutional Networks](https://arxiv.org/abs/1609.02907)), T. N. Kipf and M. Welling, ICLR 2017.\n"
   ]
  },
  {
   "cell_type": "code",
   "execution_count": 1,
   "metadata": {
    "nbsphinx": "hidden",
    "tags": [
     "CloudRunner"
    ]
   },
   "outputs": [],
   "source": [
    "# install StellarGraph if running on Google Colab\n",
    "import sys\n",
    "if 'google.colab' in sys.modules:\n",
    "  %pip install -q stellargraph[demos]==1.2.1"
   ]
  },
  {
   "cell_type": "code",
   "execution_count": 2,
   "metadata": {
    "nbsphinx": "hidden",
    "tags": [
     "VersionCheck"
    ]
   },
   "outputs": [],
   "source": [
    "# verify that we're using the correct version of StellarGraph for this notebook\n",
    "import stellargraph as sg\n",
    "\n",
    "try:\n",
    "    sg.utils.validate_notebook_version(\"1.2.1\")\n",
    "except AttributeError:\n",
    "    raise ValueError(\n",
    "        f\"This notebook requires StellarGraph version 1.2.1, but a different version {sg.__version__} is installed.  Please see <https://github.com/stellargraph/stellargraph/issues/1172>.\"\n",
    "    ) from None"
   ]
  },
  {
   "cell_type": "code",
   "execution_count": 3,
   "metadata": {},
   "outputs": [],
   "source": [
    "import pandas as pd\n",
    "import numpy as np\n",
    "\n",
    "import stellargraph as sg\n",
    "from stellargraph.mapper import PaddedGraphGenerator\n",
    "from stellargraph.layer import DeepGraphCNN\n",
    "from stellargraph import StellarGraph\n",
    "\n",
    "from stellargraph import datasets\n",
    "\n",
    "from sklearn import model_selection\n",
    "from IPython.display import display, HTML\n",
    "\n",
    "from tensorflow.keras import Model\n",
    "from tensorflow.keras.optimizers import Adam\n",
    "from tensorflow.keras.layers import Dense, Conv1D, MaxPool1D, Dropout, Flatten\n",
    "from tensorflow.keras.losses import binary_crossentropy\n",
    "import tensorflow as tf"
   ]
  },
  {
   "cell_type": "markdown",
   "metadata": {},
   "source": [
    "## Import the data"
   ]
  },
  {
   "cell_type": "markdown",
   "metadata": {
    "tags": [
     "DataLoadingLinks"
    ]
   },
   "source": [
    "(See [the \"Loading from Pandas\" demo](../basics/loading-pandas.ipynb) for details on how data can be loaded.)"
   ]
  },
  {
   "cell_type": "code",
   "execution_count": 4,
   "metadata": {
    "tags": [
     "DataLoading"
    ]
   },
   "outputs": [
    {
     "data": {
      "text/plain": "<IPython.core.display.HTML object>",
      "text/html": "Each graph represents a protein and graph labels represent whether they are are enzymes or non-enzymes. The dataset includes 1113 graphs with 39 nodes and 73 edges on average for each graph. Graph nodes have 4 attributes (including a one-hot encoding of their label), and each graph is labelled as belonging to 1 of 2 classes."
     },
     "metadata": {},
     "output_type": "display_data"
    }
   ],
   "source": [
    "dataset = datasets.PROTEINS()\n",
    "display(HTML(dataset.description))\n",
    "graphs, graph_labels = dataset.load()"
   ]
  },
  {
   "cell_type": "markdown",
   "metadata": {},
   "source": [
    "The `graphs` value is a list of many `StellarGraph` instances, each of which has a few node features:"
   ]
  },
  {
   "cell_type": "code",
   "execution_count": 5,
   "metadata": {},
   "outputs": [
    {
     "name": "stdout",
     "output_type": "stream",
     "text": [
      "StellarGraph: Undirected multigraph\n",
      " Nodes: 42, Edges: 162\n",
      "\n",
      " Node types:\n",
      "  default: [42]\n",
      "    Features: float32 vector, length 4\n",
      "    Edge types: default-default->default\n",
      "\n",
      " Edge types:\n",
      "    default-default->default: [162]\n",
      "        Weights: all 1 (default)\n",
      "        Features: none\n"
     ]
    }
   ],
   "source": [
    "print(graphs[0].info())"
   ]
  },
  {
   "cell_type": "code",
   "execution_count": 6,
   "metadata": {},
   "outputs": [
    {
     "name": "stdout",
     "output_type": "stream",
     "text": [
      "StellarGraph: Undirected multigraph\n",
      " Nodes: 27, Edges: 92\n",
      "\n",
      " Node types:\n",
      "  default: [27]\n",
      "    Features: float32 vector, length 4\n",
      "    Edge types: default-default->default\n",
      "\n",
      " Edge types:\n",
      "    default-default->default: [92]\n",
      "        Weights: all 1 (default)\n",
      "        Features: none\n"
     ]
    }
   ],
   "source": [
    "print(graphs[1].info())"
   ]
  },
  {
   "cell_type": "markdown",
   "metadata": {},
   "source": [
    "Summary statistics of the sizes of the graphs:"
   ]
  },
  {
   "cell_type": "code",
   "execution_count": 7,
   "metadata": {},
   "outputs": [
    {
     "data": {
      "text/plain": "        nodes   edges\ncount  1113.0  1113.0\nmean     39.1   145.6\nstd      45.8   169.3\nmin       4.0    10.0\n25%      15.0    56.0\n50%      26.0    98.0\n75%      45.0   174.0\nmax     620.0  2098.0",
      "text/html": "<div>\n<style scoped>\n    .dataframe tbody tr th:only-of-type {\n        vertical-align: middle;\n    }\n\n    .dataframe tbody tr th {\n        vertical-align: top;\n    }\n\n    .dataframe thead th {\n        text-align: right;\n    }\n</style>\n<table border=\"1\" class=\"dataframe\">\n  <thead>\n    <tr style=\"text-align: right;\">\n      <th></th>\n      <th>nodes</th>\n      <th>edges</th>\n    </tr>\n  </thead>\n  <tbody>\n    <tr>\n      <th>count</th>\n      <td>1113.0</td>\n      <td>1113.0</td>\n    </tr>\n    <tr>\n      <th>mean</th>\n      <td>39.1</td>\n      <td>145.6</td>\n    </tr>\n    <tr>\n      <th>std</th>\n      <td>45.8</td>\n      <td>169.3</td>\n    </tr>\n    <tr>\n      <th>min</th>\n      <td>4.0</td>\n      <td>10.0</td>\n    </tr>\n    <tr>\n      <th>25%</th>\n      <td>15.0</td>\n      <td>56.0</td>\n    </tr>\n    <tr>\n      <th>50%</th>\n      <td>26.0</td>\n      <td>98.0</td>\n    </tr>\n    <tr>\n      <th>75%</th>\n      <td>45.0</td>\n      <td>174.0</td>\n    </tr>\n    <tr>\n      <th>max</th>\n      <td>620.0</td>\n      <td>2098.0</td>\n    </tr>\n  </tbody>\n</table>\n</div>"
     },
     "execution_count": 7,
     "metadata": {},
     "output_type": "execute_result"
    }
   ],
   "source": [
    "summary = pd.DataFrame(\n",
    "    [(g.number_of_nodes(), g.number_of_edges()) for g in graphs],\n",
    "    columns=[\"nodes\", \"edges\"],\n",
    ")\n",
    "summary.describe().round(1)"
   ]
  },
  {
   "cell_type": "markdown",
   "metadata": {},
   "source": [
    "The labels are `1` or `2`:"
   ]
  },
  {
   "cell_type": "code",
   "execution_count": 8,
   "metadata": {},
   "outputs": [
    {
     "data": {
      "text/plain": "   label\n1    663\n2    450",
      "text/html": "<div>\n<style scoped>\n    .dataframe tbody tr th:only-of-type {\n        vertical-align: middle;\n    }\n\n    .dataframe tbody tr th {\n        vertical-align: top;\n    }\n\n    .dataframe thead th {\n        text-align: right;\n    }\n</style>\n<table border=\"1\" class=\"dataframe\">\n  <thead>\n    <tr style=\"text-align: right;\">\n      <th></th>\n      <th>label</th>\n    </tr>\n  </thead>\n  <tbody>\n    <tr>\n      <th>1</th>\n      <td>663</td>\n    </tr>\n    <tr>\n      <th>2</th>\n      <td>450</td>\n    </tr>\n  </tbody>\n</table>\n</div>"
     },
     "execution_count": 8,
     "metadata": {},
     "output_type": "execute_result"
    }
   ],
   "source": [
    "graph_labels.value_counts().to_frame()"
   ]
  },
  {
   "cell_type": "code",
   "execution_count": 9,
   "metadata": {},
   "outputs": [],
   "source": [
    "graph_labels = pd.get_dummies(graph_labels, drop_first=True)"
   ]
  },
  {
   "cell_type": "markdown",
   "metadata": {},
   "source": [
    "### Prepare graph generator\n",
    "\n",
    "To feed data to the `tf.Keras` model that we will create later, we need a data generator. For supervised graph classification, we create an instance of `StellarGraph`'s `PaddedGraphGenerator` class."
   ]
  },
  {
   "cell_type": "code",
   "execution_count": 10,
   "metadata": {},
   "outputs": [],
   "source": [
    "generator = PaddedGraphGenerator(graphs=graphs)"
   ]
  },
  {
   "cell_type": "markdown",
   "metadata": {},
   "source": [
    "### Create the Keras graph classification model\n",
    "\n",
    "We are now ready to create a `tf.Keras` graph classification model using `StellarGraph`'s `DeepGraphCNN` class together with standard `tf.Keras` layers `Conv1D`, `MapPool1D`, `Dropout`, and `Dense`. \n",
    "\n",
    "The model's input is the graph represented by its adjacency and node features matrices. The first four layers are Graph Convolutional as in [2] but using the adjacency normalisation from [1], $D^{-1}A$ where $A$ is the adjacency matrix with self loops and $D$ is the corresponding degree matrix. The graph convolutional layers each have 32, 32, 32, 1 units and `tanh` activations. \n",
    "\n",
    "The next layer is a one dimensional convolutional layer, `Conv1D`, followed by a max pooling, `MaxPool1D`, layer. Next is a second `Conv1D` layer that is followed by two `Dense` layers the second used for binary classification. The convolutional and dense layers use `relu` activation except for the last dense layer that uses `sigmoid` for classification. As described in [1], we add a `Dropout` layer after the first `Dense` layer."
   ]
  },
  {
   "cell_type": "markdown",
   "metadata": {},
   "source": [
    "![](img/nb07-dgcnn_architecture.png)"
   ]
  },
  {
   "cell_type": "markdown",
   "metadata": {},
   "source": [
    "First we create the base DGCNN model that includes the graph convolutional and `SortPooling` layers."
   ]
  },
  {
   "cell_type": "code",
   "execution_count": 11,
   "metadata": {},
   "outputs": [
    {
     "name": "stdout",
     "output_type": "stream",
     "text": [
      "WARNING:tensorflow:From D:\\dev\\software\\miniconda3\\envs\\gml\\lib\\site-packages\\tensorflow\\python\\util\\deprecation.py:616: calling map_fn_v2 (from tensorflow.python.ops.map_fn) with dtype is deprecated and will be removed in a future version.\n",
      "Instructions for updating:\n",
      "Use fn_output_signature instead\n"
     ]
    }
   ],
   "source": [
    "k = 35  # the number of rows for the output tensor\n",
    "layer_sizes = [32, 32, 32, 1]\n",
    "\n",
    "dgcnn_model = DeepGraphCNN(\n",
    "    layer_sizes=layer_sizes,\n",
    "    activations=[\"tanh\", \"tanh\", \"tanh\", \"tanh\"],\n",
    "    k=k,\n",
    "    bias=False,\n",
    "    generator=generator,\n",
    ")\n",
    "x_inp, x_out = dgcnn_model.in_out_tensors()"
   ]
  },
  {
   "cell_type": "markdown",
   "metadata": {},
   "source": [
    "Next, we add the convolutional, max pooling, and dense layers."
   ]
  },
  {
   "cell_type": "code",
   "execution_count": 12,
   "metadata": {},
   "outputs": [],
   "source": [
    "x_out = Conv1D(filters=16, kernel_size=sum(layer_sizes), strides=sum(layer_sizes))(x_out)\n",
    "x_out = MaxPool1D(pool_size=2)(x_out)\n",
    "\n",
    "x_out = Conv1D(filters=32, kernel_size=5, strides=1)(x_out)\n",
    "\n",
    "x_out = Flatten()(x_out)\n",
    "\n",
    "x_out = Dense(units=128, activation=\"relu\")(x_out)\n",
    "x_out = Dropout(rate=0.5)(x_out)\n",
    "\n",
    "predictions = Dense(units=1, activation=\"sigmoid\")(x_out)"
   ]
  },
  {
   "cell_type": "markdown",
   "metadata": {},
   "source": [
    "Finally, we create the `Keras` model and prepare it for training by specifying the loss and optimisation algorithm."
   ]
  },
  {
   "cell_type": "code",
   "execution_count": 13,
   "metadata": {},
   "outputs": [
    {
     "name": "stderr",
     "output_type": "stream",
     "text": [
      "D:\\dev\\software\\miniconda3\\envs\\gml\\lib\\site-packages\\keras\\optimizer_v2\\adam.py:105: UserWarning: The `lr` argument is deprecated, use `learning_rate` instead.\n",
      "  super(Adam, self).__init__(name, **kwargs)\n"
     ]
    }
   ],
   "source": [
    "model = Model(inputs=x_inp, outputs=predictions)\n",
    "\n",
    "model.compile(\n",
    "    optimizer=Adam(lr=0.0001), loss=binary_crossentropy, metrics=[\"acc\"],\n",
    ")"
   ]
  },
  {
   "cell_type": "markdown",
   "metadata": {},
   "source": [
    "### Train the model\n",
    "\n",
    "We can now train the model using the model's `fit` method.\n",
    "\n",
    "But first we need to split our data to training and test sets. We are going to use 90% of the data for training and the remaining 10% for testing. This 90/10 split is the equivalent of a single fold in the 10-fold cross validation scheme used in [1]."
   ]
  },
  {
   "cell_type": "code",
   "execution_count": 14,
   "metadata": {},
   "outputs": [],
   "source": [
    "train_graphs, test_graphs = model_selection.train_test_split(\n",
    "    graph_labels, train_size=0.9, test_size=None, stratify=graph_labels,\n",
    ")"
   ]
  },
  {
   "cell_type": "markdown",
   "metadata": {},
   "source": [
    "Given the data split into train and test sets, we create a `StellarGraph.PaddedGenerator` generator object that prepares the data for training. We create data generators suitable for training at `tf.keras` model by calling the latter generator's `flow` method specifying the train and test data."
   ]
  },
  {
   "cell_type": "code",
   "execution_count": 15,
   "metadata": {},
   "outputs": [],
   "source": [
    "gen = PaddedGraphGenerator(graphs=graphs)\n",
    "\n",
    "train_gen = gen.flow(\n",
    "    list(train_graphs.index - 1),\n",
    "    targets=train_graphs.values,\n",
    "    batch_size=50,\n",
    "    symmetric_normalization=False,\n",
    ")\n",
    "\n",
    "test_gen = gen.flow(\n",
    "    list(test_graphs.index - 1),\n",
    "    targets=test_graphs.values,\n",
    "    batch_size=1,\n",
    "    symmetric_normalization=False,\n",
    ")"
   ]
  },
  {
   "cell_type": "markdown",
   "metadata": {},
   "source": [
    "**Note**: We set the number of epochs to a large value so the call to `model.fit(...)` later might take a long time to complete. For faster performance set `epochs` to a smaller value; but if you do accuracy of the model found may be low."
   ]
  },
  {
   "cell_type": "code",
   "execution_count": 16,
   "metadata": {
    "tags": [
     "parameters"
    ]
   },
   "outputs": [],
   "source": [
    "epochs = 100"
   ]
  },
  {
   "cell_type": "markdown",
   "metadata": {},
   "source": [
    "We can now train the model by calling it's `fit` method."
   ]
  },
  {
   "cell_type": "code",
   "execution_count": 17,
   "metadata": {},
   "outputs": [
    {
     "name": "stdout",
     "output_type": "stream",
     "text": [
      "Epoch 1/100\n"
     ]
    },
    {
     "name": "stderr",
     "output_type": "stream",
     "text": [
      "D:\\dev\\software\\miniconda3\\envs\\gml\\lib\\site-packages\\tensorflow\\python\\framework\\indexed_slices.py:444: UserWarning: Converting sparse IndexedSlices(IndexedSlices(indices=Tensor(\"gradient_tape/model/sort_pooling/map/while/gradients/model/sort_pooling/map/while/GatherV2_grad/Reshape_1:0\", shape=(None,), dtype=int32), values=Tensor(\"gradient_tape/model/sort_pooling/map/while/gradients/model/sort_pooling/map/while/GatherV2_grad/Reshape:0\", shape=(None, None), dtype=float32), dense_shape=Tensor(\"gradient_tape/model/sort_pooling/map/while/gradients/model/sort_pooling/map/while/GatherV2_grad/Cast:0\", shape=(2,), dtype=int32))) to a dense Tensor of unknown shape. This may consume a large amount of memory.\n",
      "  warnings.warn(\n"
     ]
    },
    {
     "name": "stdout",
     "output_type": "stream",
     "text": [
      "21/21 [==============================] - 3s 101ms/step - loss: 0.6400 - acc: 0.6204 - val_loss: 0.6392 - val_acc: 0.6071\n",
      "Epoch 2/100\n",
      "21/21 [==============================] - 2s 76ms/step - loss: 0.6157 - acc: 0.6444 - val_loss: 0.6335 - val_acc: 0.6875\n",
      "Epoch 3/100\n",
      "21/21 [==============================] - 2s 79ms/step - loss: 0.6120 - acc: 0.7013 - val_loss: 0.6267 - val_acc: 0.6875\n",
      "Epoch 4/100\n",
      "21/21 [==============================] - 2s 67ms/step - loss: 0.5982 - acc: 0.7143 - val_loss: 0.6236 - val_acc: 0.6875\n",
      "Epoch 5/100\n",
      "21/21 [==============================] - 2s 74ms/step - loss: 0.5996 - acc: 0.7243 - val_loss: 0.6201 - val_acc: 0.6786\n",
      "Epoch 6/100\n",
      "21/21 [==============================] - 2s 76ms/step - loss: 0.5934 - acc: 0.7233 - val_loss: 0.6200 - val_acc: 0.6696\n",
      "Epoch 7/100\n",
      "21/21 [==============================] - 2s 85ms/step - loss: 0.5812 - acc: 0.7273 - val_loss: 0.6240 - val_acc: 0.6786\n",
      "Epoch 8/100\n",
      "21/21 [==============================] - 2s 75ms/step - loss: 0.5785 - acc: 0.7253 - val_loss: 0.6195 - val_acc: 0.6696\n",
      "Epoch 9/100\n",
      "21/21 [==============================] - 2s 78ms/step - loss: 0.5812 - acc: 0.7153 - val_loss: 0.6167 - val_acc: 0.6696\n",
      "Epoch 10/100\n",
      "21/21 [==============================] - 2s 75ms/step - loss: 0.5780 - acc: 0.7203 - val_loss: 0.6155 - val_acc: 0.6696\n",
      "Epoch 11/100\n",
      "21/21 [==============================] - 2s 79ms/step - loss: 0.5759 - acc: 0.7223 - val_loss: 0.6121 - val_acc: 0.6696\n",
      "Epoch 12/100\n",
      "21/21 [==============================] - 2s 78ms/step - loss: 0.5680 - acc: 0.7313 - val_loss: 0.6137 - val_acc: 0.6786\n",
      "Epoch 13/100\n",
      "21/21 [==============================] - 2s 86ms/step - loss: 0.5758 - acc: 0.7313 - val_loss: 0.6156 - val_acc: 0.6786\n",
      "Epoch 14/100\n",
      "21/21 [==============================] - 2s 80ms/step - loss: 0.5733 - acc: 0.7253 - val_loss: 0.6043 - val_acc: 0.6696\n",
      "Epoch 15/100\n",
      "21/21 [==============================] - 2s 62ms/step - loss: 0.5691 - acc: 0.7143 - val_loss: 0.6107 - val_acc: 0.6875\n",
      "Epoch 16/100\n",
      "21/21 [==============================] - 2s 75ms/step - loss: 0.5738 - acc: 0.7203 - val_loss: 0.6079 - val_acc: 0.6875\n",
      "Epoch 17/100\n",
      "21/21 [==============================] - 2s 69ms/step - loss: 0.5682 - acc: 0.7233 - val_loss: 0.6004 - val_acc: 0.6786\n",
      "Epoch 18/100\n",
      "21/21 [==============================] - 2s 75ms/step - loss: 0.5627 - acc: 0.7303 - val_loss: 0.6048 - val_acc: 0.6875\n",
      "Epoch 19/100\n",
      "21/21 [==============================] - 2s 80ms/step - loss: 0.5585 - acc: 0.7293 - val_loss: 0.6061 - val_acc: 0.6786\n",
      "Epoch 20/100\n",
      "21/21 [==============================] - 2s 74ms/step - loss: 0.5655 - acc: 0.7363 - val_loss: 0.6007 - val_acc: 0.6786\n",
      "Epoch 21/100\n",
      "21/21 [==============================] - 2s 76ms/step - loss: 0.5591 - acc: 0.7263 - val_loss: 0.6013 - val_acc: 0.6786\n",
      "Epoch 22/100\n",
      "21/21 [==============================] - 2s 75ms/step - loss: 0.5581 - acc: 0.7293 - val_loss: 0.5941 - val_acc: 0.6607\n",
      "Epoch 23/100\n",
      "21/21 [==============================] - 2s 78ms/step - loss: 0.5563 - acc: 0.7323 - val_loss: 0.6079 - val_acc: 0.6875\n",
      "Epoch 24/100\n",
      "21/21 [==============================] - 2s 78ms/step - loss: 0.5603 - acc: 0.7383 - val_loss: 0.6018 - val_acc: 0.6875\n",
      "Epoch 25/100\n",
      "21/21 [==============================] - 2s 73ms/step - loss: 0.5529 - acc: 0.7293 - val_loss: 0.5922 - val_acc: 0.6518\n",
      "Epoch 26/100\n",
      "21/21 [==============================] - 2s 77ms/step - loss: 0.5530 - acc: 0.7293 - val_loss: 0.5937 - val_acc: 0.6607\n",
      "Epoch 27/100\n",
      "21/21 [==============================] - 2s 68ms/step - loss: 0.5513 - acc: 0.7343 - val_loss: 0.5967 - val_acc: 0.6696\n",
      "Epoch 28/100\n",
      "21/21 [==============================] - 2s 69ms/step - loss: 0.5497 - acc: 0.7363 - val_loss: 0.5944 - val_acc: 0.6607\n",
      "Epoch 29/100\n",
      "21/21 [==============================] - 2s 83ms/step - loss: 0.5511 - acc: 0.7313 - val_loss: 0.6002 - val_acc: 0.6786\n",
      "Epoch 30/100\n",
      "21/21 [==============================] - 2s 75ms/step - loss: 0.5477 - acc: 0.7383 - val_loss: 0.5956 - val_acc: 0.6696\n",
      "Epoch 31/100\n",
      "21/21 [==============================] - 2s 76ms/step - loss: 0.5456 - acc: 0.7383 - val_loss: 0.5980 - val_acc: 0.6696\n",
      "Epoch 32/100\n",
      "21/21 [==============================] - 2s 78ms/step - loss: 0.5369 - acc: 0.7353 - val_loss: 0.5908 - val_acc: 0.6696\n",
      "Epoch 33/100\n",
      "21/21 [==============================] - 2s 74ms/step - loss: 0.5492 - acc: 0.7403 - val_loss: 0.6046 - val_acc: 0.6786\n",
      "Epoch 34/100\n",
      "21/21 [==============================] - 2s 74ms/step - loss: 0.5482 - acc: 0.7373 - val_loss: 0.5959 - val_acc: 0.6696\n",
      "Epoch 35/100\n",
      "21/21 [==============================] - 2s 74ms/step - loss: 0.5341 - acc: 0.7413 - val_loss: 0.5903 - val_acc: 0.6875\n",
      "Epoch 36/100\n",
      "21/21 [==============================] - 2s 77ms/step - loss: 0.5487 - acc: 0.7393 - val_loss: 0.5864 - val_acc: 0.6786\n",
      "Epoch 37/100\n",
      "21/21 [==============================] - 2s 57ms/step - loss: 0.5336 - acc: 0.7373 - val_loss: 0.6103 - val_acc: 0.6964\n",
      "Epoch 38/100\n",
      "21/21 [==============================] - 2s 85ms/step - loss: 0.5401 - acc: 0.7423 - val_loss: 0.5843 - val_acc: 0.6875\n",
      "Epoch 39/100\n",
      "21/21 [==============================] - 2s 83ms/step - loss: 0.5457 - acc: 0.7293 - val_loss: 0.5880 - val_acc: 0.6875\n",
      "Epoch 40/100\n",
      "21/21 [==============================] - 2s 94ms/step - loss: 0.5370 - acc: 0.7423 - val_loss: 0.5922 - val_acc: 0.6875\n",
      "Epoch 41/100\n",
      "21/21 [==============================] - 2s 76ms/step - loss: 0.5398 - acc: 0.7483 - val_loss: 0.5920 - val_acc: 0.6875\n",
      "Epoch 42/100\n",
      "21/21 [==============================] - 2s 80ms/step - loss: 0.5458 - acc: 0.7283 - val_loss: 0.5830 - val_acc: 0.6875\n",
      "Epoch 43/100\n",
      "21/21 [==============================] - 2s 79ms/step - loss: 0.5390 - acc: 0.7333 - val_loss: 0.5856 - val_acc: 0.6964\n",
      "Epoch 44/100\n",
      "21/21 [==============================] - 2s 76ms/step - loss: 0.5350 - acc: 0.7383 - val_loss: 0.5838 - val_acc: 0.6786\n",
      "Epoch 45/100\n",
      "21/21 [==============================] - 2s 74ms/step - loss: 0.5305 - acc: 0.7453 - val_loss: 0.6016 - val_acc: 0.6964\n",
      "Epoch 46/100\n",
      "21/21 [==============================] - 2s 79ms/step - loss: 0.5385 - acc: 0.7423 - val_loss: 0.5808 - val_acc: 0.6964\n",
      "Epoch 47/100\n",
      "21/21 [==============================] - 2s 55ms/step - loss: 0.5364 - acc: 0.7383 - val_loss: 0.5869 - val_acc: 0.6875\n",
      "Epoch 48/100\n",
      "21/21 [==============================] - 2s 76ms/step - loss: 0.5337 - acc: 0.7463 - val_loss: 0.5920 - val_acc: 0.7054\n",
      "Epoch 49/100\n",
      "21/21 [==============================] - 2s 90ms/step - loss: 0.5426 - acc: 0.7383 - val_loss: 0.5730 - val_acc: 0.6964\n",
      "Epoch 50/100\n",
      "21/21 [==============================] - 2s 68ms/step - loss: 0.5305 - acc: 0.7443 - val_loss: 0.5792 - val_acc: 0.6875\n",
      "Epoch 51/100\n",
      "21/21 [==============================] - 2s 77ms/step - loss: 0.5359 - acc: 0.7343 - val_loss: 0.5744 - val_acc: 0.7054\n",
      "Epoch 52/100\n",
      "21/21 [==============================] - 2s 83ms/step - loss: 0.5362 - acc: 0.7473 - val_loss: 0.5705 - val_acc: 0.6964\n",
      "Epoch 53/100\n",
      "21/21 [==============================] - 2s 76ms/step - loss: 0.5300 - acc: 0.7373 - val_loss: 0.5990 - val_acc: 0.7054\n",
      "Epoch 54/100\n",
      "21/21 [==============================] - 2s 92ms/step - loss: 0.5410 - acc: 0.7353 - val_loss: 0.5727 - val_acc: 0.7054\n",
      "Epoch 55/100\n",
      "21/21 [==============================] - 2s 86ms/step - loss: 0.5338 - acc: 0.7403 - val_loss: 0.5732 - val_acc: 0.6964\n",
      "Epoch 56/100\n",
      "21/21 [==============================] - 2s 83ms/step - loss: 0.5264 - acc: 0.7483 - val_loss: 0.5750 - val_acc: 0.6964\n",
      "Epoch 57/100\n",
      "21/21 [==============================] - 2s 70ms/step - loss: 0.5355 - acc: 0.7433 - val_loss: 0.5706 - val_acc: 0.7143\n",
      "Epoch 58/100\n",
      "21/21 [==============================] - 2s 76ms/step - loss: 0.5318 - acc: 0.7463 - val_loss: 0.5677 - val_acc: 0.7054\n",
      "Epoch 59/100\n",
      "21/21 [==============================] - 2s 70ms/step - loss: 0.5284 - acc: 0.7363 - val_loss: 0.5783 - val_acc: 0.7143\n",
      "Epoch 60/100\n",
      "21/21 [==============================] - 2s 78ms/step - loss: 0.5409 - acc: 0.7353 - val_loss: 0.5745 - val_acc: 0.7143\n",
      "Epoch 61/100\n",
      "21/21 [==============================] - 2s 78ms/step - loss: 0.5263 - acc: 0.7512 - val_loss: 0.5675 - val_acc: 0.7143\n",
      "Epoch 62/100\n",
      "21/21 [==============================] - 2s 82ms/step - loss: 0.5273 - acc: 0.7502 - val_loss: 0.5814 - val_acc: 0.7054\n",
      "Epoch 63/100\n",
      "21/21 [==============================] - 2s 82ms/step - loss: 0.5271 - acc: 0.7433 - val_loss: 0.5672 - val_acc: 0.7143\n",
      "Epoch 64/100\n",
      "21/21 [==============================] - 2s 87ms/step - loss: 0.5317 - acc: 0.7493 - val_loss: 0.5725 - val_acc: 0.7232\n",
      "Epoch 65/100\n",
      "21/21 [==============================] - 2s 78ms/step - loss: 0.5241 - acc: 0.7453 - val_loss: 0.5665 - val_acc: 0.7054\n",
      "Epoch 66/100\n",
      "21/21 [==============================] - 2s 76ms/step - loss: 0.5220 - acc: 0.7493 - val_loss: 0.5668 - val_acc: 0.7143\n",
      "Epoch 67/100\n",
      "21/21 [==============================] - 2s 76ms/step - loss: 0.5282 - acc: 0.7522 - val_loss: 0.5777 - val_acc: 0.7143\n",
      "Epoch 68/100\n",
      "21/21 [==============================] - 2s 76ms/step - loss: 0.5272 - acc: 0.7512 - val_loss: 0.5630 - val_acc: 0.7143\n",
      "Epoch 69/100\n",
      "21/21 [==============================] - 2s 77ms/step - loss: 0.5293 - acc: 0.7512 - val_loss: 0.5679 - val_acc: 0.7143\n",
      "Epoch 70/100\n",
      "21/21 [==============================] - 2s 71ms/step - loss: 0.5250 - acc: 0.7473 - val_loss: 0.5597 - val_acc: 0.7054\n",
      "Epoch 71/100\n",
      "21/21 [==============================] - 2s 61ms/step - loss: 0.5330 - acc: 0.7473 - val_loss: 0.5741 - val_acc: 0.6964\n",
      "Epoch 72/100\n",
      "21/21 [==============================] - 2s 76ms/step - loss: 0.5214 - acc: 0.7433 - val_loss: 0.5638 - val_acc: 0.7054\n",
      "Epoch 73/100\n",
      "21/21 [==============================] - 2s 78ms/step - loss: 0.5322 - acc: 0.7323 - val_loss: 0.5727 - val_acc: 0.7054\n",
      "Epoch 74/100\n",
      "21/21 [==============================] - 2s 76ms/step - loss: 0.5180 - acc: 0.7552 - val_loss: 0.5595 - val_acc: 0.7054\n",
      "Epoch 75/100\n",
      "21/21 [==============================] - 2s 75ms/step - loss: 0.5226 - acc: 0.7552 - val_loss: 0.5642 - val_acc: 0.7054\n",
      "Epoch 76/100\n",
      "21/21 [==============================] - 2s 75ms/step - loss: 0.5197 - acc: 0.7592 - val_loss: 0.5649 - val_acc: 0.6964\n",
      "Epoch 77/100\n",
      "21/21 [==============================] - 2s 79ms/step - loss: 0.5229 - acc: 0.7512 - val_loss: 0.5599 - val_acc: 0.7143\n",
      "Epoch 78/100\n",
      "21/21 [==============================] - 2s 76ms/step - loss: 0.5233 - acc: 0.7512 - val_loss: 0.5725 - val_acc: 0.7143\n",
      "Epoch 79/100\n",
      "21/21 [==============================] - 2s 75ms/step - loss: 0.5216 - acc: 0.7453 - val_loss: 0.5649 - val_acc: 0.7143\n",
      "Epoch 80/100\n",
      "21/21 [==============================] - 2s 76ms/step - loss: 0.5235 - acc: 0.7502 - val_loss: 0.5635 - val_acc: 0.7143\n",
      "Epoch 81/100\n",
      "21/21 [==============================] - 2s 77ms/step - loss: 0.5231 - acc: 0.7493 - val_loss: 0.5587 - val_acc: 0.7232\n",
      "Epoch 82/100\n",
      "21/21 [==============================] - 2s 77ms/step - loss: 0.5265 - acc: 0.7413 - val_loss: 0.5668 - val_acc: 0.7321\n",
      "Epoch 83/100\n",
      "21/21 [==============================] - 2s 77ms/step - loss: 0.5188 - acc: 0.7473 - val_loss: 0.5677 - val_acc: 0.7054\n",
      "Epoch 84/100\n",
      "21/21 [==============================] - 2s 78ms/step - loss: 0.5244 - acc: 0.7493 - val_loss: 0.5560 - val_acc: 0.7232\n",
      "Epoch 85/100\n",
      "21/21 [==============================] - 2s 74ms/step - loss: 0.5245 - acc: 0.7582 - val_loss: 0.5753 - val_acc: 0.7232\n",
      "Epoch 86/100\n",
      "21/21 [==============================] - 2s 75ms/step - loss: 0.5183 - acc: 0.7512 - val_loss: 0.5594 - val_acc: 0.7232\n",
      "Epoch 87/100\n",
      "21/21 [==============================] - 2s 75ms/step - loss: 0.5139 - acc: 0.7493 - val_loss: 0.5552 - val_acc: 0.7321\n",
      "Epoch 88/100\n",
      "21/21 [==============================] - 2s 76ms/step - loss: 0.5160 - acc: 0.7512 - val_loss: 0.5544 - val_acc: 0.7143\n",
      "Epoch 89/100\n",
      "21/21 [==============================] - 2s 75ms/step - loss: 0.5211 - acc: 0.7582 - val_loss: 0.5594 - val_acc: 0.7232\n",
      "Epoch 90/100\n",
      "21/21 [==============================] - 2s 84ms/step - loss: 0.5255 - acc: 0.7512 - val_loss: 0.5585 - val_acc: 0.7143\n",
      "Epoch 91/100\n",
      "21/21 [==============================] - 2s 77ms/step - loss: 0.5195 - acc: 0.7443 - val_loss: 0.5536 - val_acc: 0.7143\n",
      "Epoch 92/100\n",
      "21/21 [==============================] - 2s 76ms/step - loss: 0.5228 - acc: 0.7522 - val_loss: 0.5555 - val_acc: 0.7232\n",
      "Epoch 93/100\n",
      "21/21 [==============================] - 2s 76ms/step - loss: 0.5187 - acc: 0.7473 - val_loss: 0.5733 - val_acc: 0.7143\n",
      "Epoch 94/100\n",
      "21/21 [==============================] - 2s 77ms/step - loss: 0.5137 - acc: 0.7632 - val_loss: 0.5558 - val_acc: 0.7232\n",
      "Epoch 95/100\n",
      "21/21 [==============================] - 2s 76ms/step - loss: 0.5211 - acc: 0.7493 - val_loss: 0.5620 - val_acc: 0.7054\n",
      "Epoch 96/100\n",
      "21/21 [==============================] - 2s 77ms/step - loss: 0.5178 - acc: 0.7463 - val_loss: 0.5519 - val_acc: 0.7321\n",
      "Epoch 97/100\n",
      "21/21 [==============================] - 2s 78ms/step - loss: 0.5176 - acc: 0.7413 - val_loss: 0.5515 - val_acc: 0.7143\n",
      "Epoch 98/100\n",
      "21/21 [==============================] - 2s 75ms/step - loss: 0.5153 - acc: 0.7562 - val_loss: 0.5724 - val_acc: 0.7143\n",
      "Epoch 99/100\n",
      "21/21 [==============================] - 2s 75ms/step - loss: 0.5229 - acc: 0.7502 - val_loss: 0.5571 - val_acc: 0.7143\n",
      "Epoch 100/100\n",
      "21/21 [==============================] - 2s 75ms/step - loss: 0.5175 - acc: 0.7542 - val_loss: 0.5496 - val_acc: 0.7232\n"
     ]
    }
   ],
   "source": [
    "history = model.fit(\n",
    "    train_gen, epochs=epochs, verbose=1, validation_data=test_gen, shuffle=True,\n",
    ")"
   ]
  },
  {
   "cell_type": "markdown",
   "metadata": {},
   "source": [
    "Let us plot the training history (losses and accuracies for the train and test data)."
   ]
  },
  {
   "cell_type": "code",
   "execution_count": 18,
   "metadata": {},
   "outputs": [
    {
     "data": {
      "text/plain": "<Figure size 504x576 with 2 Axes>",
      "image/png": "[encoded data removed]"
     },
     "metadata": {
      "needs_background": "light"
     },
     "output_type": "display_data"
    }
   ],
   "source": [
    "sg.utils.plot_history(history)"
   ]
  },
  {
   "cell_type": "markdown",
   "metadata": {},
   "source": [
    "Finally, let us calculate the performance of the trained model on the test data."
   ]
  },
  {
   "cell_type": "code",
   "execution_count": 19,
   "metadata": {},
   "outputs": [
    {
     "name": "stdout",
     "output_type": "stream",
     "text": [
      "112/112 [==============================] - 0s 2ms/step - loss: 0.5496 - acc: 0.7232\n",
      "\n",
      "Test Set Metrics:\n",
      "\tloss: 0.5496\n",
      "\tacc: 0.7232\n"
     ]
    }
   ],
   "source": [
    "test_metrics = model.evaluate(test_gen)\n",
    "print(\"\\nTest Set Metrics:\")\n",
    "for name, val in zip(model.metrics_names, test_metrics):\n",
    "    print(\"\\t{}: {:0.4f}\".format(name, val))"
   ]
  },
  {
   "cell_type": "markdown",
   "metadata": {
    "pycharm": {
     "name": "#%% md\n"
    }
   },
   "source": [
    "### Conclusion\n",
    "\n",
    "We demonstrated the use of `StellarGraph`'s `DeepGraphCNN` implementation for supervised graph classification algorithm. More specifically we showed how to  predict whether a chemical compound represented as a graph is an enzyme or not.\n",
    "\n",
    "Performance is similar to that reported in [1] but a small difference does exist. This difference can be attributed to a small number of factors listed below, \n",
    "- We use a different training scheme, that is a single 90/10 split of the data as opposed to the repeated 10-fold cross validation scheme used in [1]. We use a single fold for ease of exposition. \n",
    "- The experimental evaluation scheme in [1] does not specify some important details such as: the regularisation used for the neural network layers; if a bias term is included; the weight initialization method used; and the batch size."
   ]
  },
  {
   "cell_type": "markdown",
   "source": [
    "---\n",
    "_The end._"
   ],
   "metadata": {
    "collapsed": false
   }
  }
 ],
 "metadata": {
  "kernelspec": {
   "display_name": "Python 3",
   "language": "python",
   "name": "python3"
  },
  "language_info": {
   "codemirror_mode": {
    "name": "ipython",
    "version": 3
   },
   "file_extension": ".py",
   "mimetype": "text/x-python",
   "name": "python",
   "nbconvert_exporter": "python",
   "pygments_lexer": "ipython3",
   "version": "3.6.9"
  }
 },
 "nbformat": 4,
 "nbformat_minor": 4
}
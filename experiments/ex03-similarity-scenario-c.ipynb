{
 "cells": [
  {
   "cell_type": "markdown",
   "source": [
    "Berner Fachhochschule BFH - MAS Data Science - Graph Machine Learning - Master Thesis FS/2022 Thomas Iten\n",
    "\n",
    "# 17. Experiment - Similarity based Graph Link Prediction\n",
    "\n",
    "**Referenzen**<br />\n",
    "[1] https://networkx.org/documentation/stable/reference/algorithms/link_prediction.html<br />\n",
    "[2] Stamile, Marzullo, Deusebio. Graph Machine Learning. Packt Publishing 2021. ISBN 978-1-80020-449-2\n",
    "\n"
   ],
   "metadata": {
    "collapsed": false
   }
  },
  {
   "cell_type": "code",
   "execution_count": 49,
   "metadata": {
    "collapsed": true
   },
   "outputs": [],
   "source": [
    "from gml.graph.graph_link import GraphLink, Algorithm\n",
    "from gml.graph.graph_viz import GraphViz\n",
    "from gml.graph.data_factory import DataFactory, EdgeLabelFactory"
   ]
  },
  {
   "cell_type": "markdown",
   "source": [],
   "metadata": {
    "collapsed": false
   }
  },
  {
   "cell_type": "markdown",
   "source": [
    "## Scenario A -  Matching Cluster - Mitarbeiter"
   ],
   "metadata": {
    "collapsed": false
   }
  },
  {
   "cell_type": "markdown",
   "source": [
    "<img src=\"img/test-scenario1.png\" alt=\"Test Scenario 1\" width=\"800\"/>"
   ],
   "metadata": {
    "collapsed": false
   }
  },
  {
   "cell_type": "markdown",
   "source": [
    "### Scenario A - Exploration\n",
    "\n",
    "#### Create graph and link predictions for all missing edges"
   ],
   "metadata": {
    "collapsed": false
   }
  },
  {
   "cell_type": "code",
   "execution_count": 50,
   "outputs": [
    {
     "data": {
      "text/plain": "<Figure size 432x432 with 1 Axes>",
      "image/png": "[encoded data removed]"
     },
     "metadata": {},
     "output_type": "display_data"
    },
    {
     "name": "stdout",
     "output_type": "stream",
     "text": [
      "Link Predictions:\n",
      "          Edge        CN  PA        JC        AA\n",
      "0    (GR, EM0)  2.100000   8  0.200000  0.910239\n",
      "1     (GR, I0)  0.866667   4  0.000000  0.000000\n",
      "2     (GR, F0)  0.866667   4  0.000000  0.000000\n",
      "3     (GR, L0)  0.866667   4  0.000000  0.000000\n",
      "4    (GR, MC0)  2.100000   8  0.200000  0.910239\n",
      "5    (GR, EM1)  2.100000   8  0.200000  0.910239\n",
      "6     (GR, I1)  0.866667   4  0.000000  0.000000\n",
      "7     (GR, F1)  0.866667   4  0.000000  0.000000\n",
      "8     (GR, L1)  0.866667   4  0.000000  0.000000\n",
      "9    (GR, MC1)  2.100000   8  0.200000  0.910239\n",
      "10    (OR, DR)  2.100000   9  0.200000  1.442695\n",
      "11    (OR, I0)  2.100000   6  0.250000  0.721348\n",
      "12    (OR, F0)  2.100000   6  0.250000  0.721348\n",
      "13    (OR, L0)  2.100000   6  0.250000  0.721348\n",
      "14   (OR, MC0)  0.866667  12  0.000000  0.000000\n",
      "15    (OR, I1)  2.100000   6  0.250000  0.721348\n",
      "16    (OR, F1)  2.100000   6  0.250000  0.721348\n",
      "17    (OR, L1)  2.100000   6  0.250000  0.721348\n",
      "18   (OR, MC1)  0.866667  12  0.000000  0.000000\n",
      "19   (DR, EM0)  0.866667  12  0.000000  0.000000\n",
      "20    (DR, I0)  2.100000   6  0.250000  0.721348\n",
      "21    (DR, F0)  2.100000   6  0.250000  0.721348\n",
      "22    (DR, L0)  2.100000   6  0.250000  0.721348\n",
      "23   (DR, EM1)  0.866667  12  0.000000  0.000000\n",
      "24    (DR, I1)  2.100000   6  0.250000  0.721348\n",
      "25    (DR, F1)  2.100000   6  0.250000  0.721348\n",
      "26    (DR, L1)  2.100000   6  0.250000  0.721348\n",
      "27  (EM0, MC0)  3.700000  16  0.600000  4.328085\n",
      "28  (EM0, EM1)  2.100000  16  0.142857  0.910239\n",
      "29   (EM0, I1)  0.866667   8  0.000000  0.000000\n",
      "30   (EM0, F1)  0.866667   8  0.000000  0.000000\n",
      "31   (EM0, L1)  0.866667   8  0.000000  0.000000\n",
      "32  (EM0, MC1)  0.650000  16  0.000000  0.000000\n",
      "33    (I0, F0)  2.900000   4  1.000000  1.442695\n",
      "34    (I0, L0)  2.900000   4  1.000000  1.442695\n",
      "35   (I0, EM1)  0.866667   8  0.000000  0.000000\n",
      "36    (I0, I1)  0.650000   4  0.000000  0.000000\n",
      "37    (I0, F1)  0.650000   4  0.000000  0.000000\n",
      "38    (I0, L1)  0.650000   4  0.000000  0.000000\n",
      "39   (I0, MC1)  0.866667   8  0.000000  0.000000\n",
      "40    (F0, L0)  2.900000   4  1.000000  1.442695\n",
      "41   (F0, EM1)  0.866667   8  0.000000  0.000000\n",
      "42    (F0, I1)  0.650000   4  0.000000  0.000000\n",
      "43    (F0, F1)  0.650000   4  0.000000  0.000000\n",
      "44    (F0, L1)  0.650000   4  0.000000  0.000000\n",
      "45   (F0, MC1)  0.866667   8  0.000000  0.000000\n",
      "46   (L0, EM1)  0.866667   8  0.000000  0.000000\n",
      "47    (L0, I1)  0.650000   4  0.000000  0.000000\n",
      "48    (L0, F1)  0.650000   4  0.000000  0.000000\n",
      "49    (L0, L1)  0.650000   4  0.000000  0.000000\n",
      "50   (L0, MC1)  0.866667   8  0.000000  0.000000\n",
      "51  (MC0, EM1)  0.650000  16  0.000000  0.000000\n",
      "52   (MC0, I1)  0.866667   8  0.000000  0.000000\n",
      "53   (MC0, F1)  0.866667   8  0.000000  0.000000\n",
      "54   (MC0, L1)  0.866667   8  0.000000  0.000000\n",
      "55  (MC0, MC1)  2.100000  16  0.142857  0.910239\n",
      "56  (EM1, MC1)  3.700000  16  0.600000  4.328085\n",
      "57    (I1, F1)  2.900000   4  1.000000  1.442695\n",
      "58    (I1, L1)  2.900000   4  1.000000  1.442695\n",
      "59    (F1, L1)  2.900000   4  1.000000  1.442695\n",
      "\n",
      "Legend:\n",
      "  CN  = Common Neighbor Centrality\n",
      "  PA  = Preferential Attachment\n",
      "  JC  = Jaccard Coefficient\n",
      "  AA  = Adamic Adar Index\n"
     ]
    }
   ],
   "source": [
    "graph = DataFactory().create_graph(n=2, connected=True)\n",
    "graph.draw(layout=GraphViz.SPIRAL_LAYOUT)\n",
    "\n",
    "possible_edges = graph.missing_edges()\n",
    "\n",
    "gl = GraphLink(graph, possible_edges)\\\n",
    "    .predict(Algorithm.COMMON_NEIGHBOR_CENTRALITY)\\\n",
    "    .predict(Algorithm.PREFERENTIAL_ATTACHMENT)\\\n",
    "    .predict(Algorithm.JACCARD_COEFFICIENT)\\\n",
    "    .predict(Algorithm.ADAMIC_ADAR_INDEX)\n",
    "\n",
    "gl.print_results(title=\"Link Predictions:\")"
   ],
   "metadata": {
    "collapsed": false,
    "pycharm": {
     "name": "#%%\n"
    }
   }
  },
  {
   "cell_type": "markdown",
   "source": [
    "#### Normalize results, filter edges of interest, label results and show metrics"
   ],
   "metadata": {
    "collapsed": false
   }
  },
  {
   "cell_type": "code",
   "execution_count": 51,
   "outputs": [
    {
     "name": "stdout",
     "output_type": "stream",
     "text": [
      "Predictions normalized:\n",
      "         Edge        CN   PA   JC   AA\n",
      "0  (EM0, MC0)  1.000000  1.0  0.6  1.0\n",
      "1  (EM0, MC1)  0.175676  1.0  0.0  0.0\n",
      "2  (EM1, MC0)  0.175676  1.0  0.0  0.0\n",
      "3  (EM1, MC1)  1.000000  1.0  0.6  1.0\n",
      "\n",
      "Prediction labels with threshold 0.8:\n",
      "         Edge  CN  PA  JC  AA\n",
      "0  (EM0, MC0)   1   1   0   1\n",
      "1  (EM0, MC1)   0   1   0   0\n",
      "2  (EM1, MC0)   0   1   0   0\n",
      "3  (EM1, MC1)   1   1   0   1\n",
      "\n",
      "Metrics:\n",
      "      Metric   CN        PA   JC   AA\n",
      "0  Precision  1.0  0.500000  0.0  1.0\n",
      "1     Recall  1.0  1.000000  0.0  1.0\n",
      "2   F1-Score  1.0  0.666667  0.0  1.0\n",
      "\n",
      "Legend:\n",
      "  CN  = Common Neighbor Centrality\n",
      "  PA  = Preferential Attachment\n",
      "  JC  = Jaccard Coefficient\n",
      "  AA  = Adamic Adar Index\n"
     ]
    }
   ],
   "source": [
    "# First normalize, then filter edges of interest\n",
    "gl.normalize()\n",
    "gl.filter([(\"EM0\",\"MC0\"),(\"EM0\", \"MC1\"),(\"EM1\",\"MC0\"),(\"EM1\", \"MC1\")])\n",
    "\n",
    "gl.print_results(title=\"Predictions normalized:\", incl_legend=False)\n",
    "print()\n",
    "\n",
    "gl.label(threshold=0.8)\n",
    "gl.print_results(title=\"Prediction labels with threshold 0.8:\", incl_legend=False)\n",
    "print()\n",
    "\n",
    "y_true = [1,0,0,1]\n",
    "gl.print_metrics(y_true, title=\"Metrics:\")"
   ],
   "metadata": {
    "collapsed": false,
    "pycharm": {
     "name": "#%%\n"
    }
   }
  },
  {
   "cell_type": "markdown",
   "source": [
    "### Scenario A - Test\n",
    "\n",
    "#### Create link predictions for an edge sample of interest"
   ],
   "metadata": {
    "collapsed": false
   }
  },
  {
   "cell_type": "code",
   "execution_count": 52,
   "outputs": [
    {
     "name": "stdout",
     "output_type": "stream",
     "text": [
      "Metrics\n",
      "      Metric   CN        PA   JC   AA\n",
      "0  Precision  1.0  0.500000  1.0  1.0\n",
      "1     Recall  1.0  1.000000  1.0  1.0\n",
      "2   F1-Score  1.0  0.666667  1.0  1.0\n",
      "\n",
      "Legend:\n",
      "  CN  = Common Neighbor Centrality\n",
      "  PA  = Preferential Attachment\n",
      "  JC  = Jaccard Coefficient\n",
      "  AA  = Adamic Adar Index\n"
     ]
    }
   ],
   "source": [
    "n = 100\n",
    "graph = DataFactory().create_graph(n=n, connected=True)\n",
    "\n",
    "edges, labels = EdgeLabelFactory().sample(\"MC\", \"EM\", n, p=0.1, shuffle=True)\n",
    "\n",
    "gl = GraphLink(graph, edges)\\\n",
    "    .predict(Algorithm.COMMON_NEIGHBOR_CENTRALITY)\\\n",
    "    .predict(Algorithm.PREFERENTIAL_ATTACHMENT)\\\n",
    "    .predict(Algorithm.JACCARD_COEFFICIENT)\\\n",
    "    .predict(Algorithm.ADAMIC_ADAR_INDEX)\n",
    "\n",
    "gl.normalize()\n",
    "gl.label(threshold=0.8)\n",
    "gl.print_metrics(labels)"
   ],
   "metadata": {
    "collapsed": false,
    "pycharm": {
     "name": "#%%\n"
    }
   }
  },
  {
   "cell_type": "markdown",
   "source": [
    "####  Create link predcitions for all possible edges, normalize and then filter results"
   ],
   "metadata": {
    "collapsed": false
   }
  },
  {
   "cell_type": "code",
   "execution_count": 53,
   "outputs": [
    {
     "name": "stdout",
     "output_type": "stream",
     "text": [
      "Metrics\n",
      "      Metric   CN   PA   JC   AA\n",
      "0  Precision  1.0  0.0  0.0  1.0\n",
      "1     Recall  1.0  0.0  0.0  1.0\n",
      "2   F1-Score  1.0  0.0  0.0  1.0\n",
      "\n",
      "Legend:\n",
      "  CN  = Common Neighbor Centrality\n",
      "  PA  = Preferential Attachment\n",
      "  JC  = Jaccard Coefficient\n",
      "  AA  = Adamic Adar Index\n"
     ]
    }
   ],
   "source": [
    "n = 100\n",
    "graph = DataFactory().create_graph(n=n, connected=True)\n",
    "\n",
    "possible_edges =  graph.missing_edges()\n",
    "\n",
    "gl = GraphLink(graph, possible_edges)\\\n",
    "    .predict(Algorithm.COMMON_NEIGHBOR_CENTRALITY)\\\n",
    "    .predict(Algorithm.PREFERENTIAL_ATTACHMENT)\\\n",
    "    .predict(Algorithm.JACCARD_COEFFICIENT)\\\n",
    "    .predict(Algorithm.ADAMIC_ADAR_INDEX)\n",
    "\n",
    "gl.normalize()\n",
    "\n",
    "edges, labels = EdgeLabelFactory().sample(\"MC\", \"EM\", n, p=0.1, shuffle=True)\n",
    "gl.filter(edges)\n",
    "\n",
    "gl.label(threshold=0.8)\n",
    "gl.print_metrics(labels)"
   ],
   "metadata": {
    "collapsed": false,
    "pycharm": {
     "name": "#%%\n"
    }
   }
  },
  {
   "cell_type": "markdown",
   "source": [
    "## Scenario B - Data Collection - Mitarbeiter"
   ],
   "metadata": {
    "collapsed": false
   }
  },
  {
   "cell_type": "markdown",
   "source": [
    "<img src=\"img/test-scenario2.png\" alt=\"Test Scenario 2\" width=\"800\"/>"
   ],
   "metadata": {
    "collapsed": false
   }
  },
  {
   "cell_type": "markdown",
   "source": [
    "### Scenario B - Exploration\n",
    "\n",
    "#### Create graph and link predictions for all missing edges"
   ],
   "metadata": {
    "collapsed": false
   }
  },
  {
   "cell_type": "code",
   "execution_count": 64,
   "outputs": [
    {
     "data": {
      "text/plain": "<Figure size 432x432 with 1 Axes>",
      "image/png": "[encoded data removed]"
     },
     "metadata": {},
     "output_type": "display_data"
    },
    {
     "name": "stdout",
     "output_type": "stream",
     "text": [
      "Link Predictions:\n",
      "          Edge    CN  PA        JC        AA\n",
      "0    (GR, EM0)  2.30   8  0.200000  0.910239\n",
      "1     (GR, I0)  1.00   4  0.000000  0.000000\n",
      "2     (GR, F0)  1.00   4  0.000000  0.000000\n",
      "3     (GR, L0)  1.00   4  0.000000  0.000000\n",
      "4    (GR, MC0)  1.00   8  0.000000  0.000000\n",
      "5    (GR, DC0)  2.30   4  0.333333  0.910239\n",
      "6    (GR, EM1)  2.30   8  0.200000  0.910239\n",
      "7     (GR, I1)  1.00   4  0.000000  0.000000\n",
      "8     (GR, F1)  1.00   4  0.000000  0.000000\n",
      "9     (GR, L1)  1.00   4  0.000000  0.000000\n",
      "10   (GR, MC1)  1.00   8  0.000000  0.000000\n",
      "11   (GR, DC1)  2.30   4  0.333333  0.910239\n",
      "12    (OR, DR)  2.30   9  0.200000  1.442695\n",
      "13    (OR, I0)  2.30   6  0.250000  0.721348\n",
      "14    (OR, F0)  2.30   6  0.250000  0.721348\n",
      "15    (OR, L0)  2.30   6  0.250000  0.721348\n",
      "16   (OR, MC0)  1.00  12  0.000000  0.000000\n",
      "17   (OR, DC0)  1.00   6  0.000000  0.000000\n",
      "18    (OR, I1)  2.30   6  0.250000  0.721348\n",
      "19    (OR, F1)  2.30   6  0.250000  0.721348\n",
      "20    (OR, L1)  2.30   6  0.250000  0.721348\n",
      "21   (OR, MC1)  1.00  12  0.000000  0.000000\n",
      "22   (OR, DC1)  1.00   6  0.000000  0.000000\n",
      "23   (DR, EM0)  1.00  12  0.000000  0.000000\n",
      "24    (DR, I0)  1.00   6  0.000000  0.000000\n",
      "25    (DR, F0)  1.00   6  0.000000  0.000000\n",
      "26    (DR, L0)  1.00   6  0.000000  0.000000\n",
      "27   (DR, MC0)  2.30  12  0.166667  1.442695\n",
      "28   (DR, EM1)  1.00  12  0.000000  0.000000\n",
      "29    (DR, I1)  1.00   6  0.000000  0.000000\n",
      "30    (DR, F1)  1.00   6  0.000000  0.000000\n",
      "31    (DR, L1)  1.00   6  0.000000  0.000000\n",
      "32   (DR, MC1)  2.30  12  0.166667  1.442695\n",
      "33  (EM0, MC0)  3.90  16  0.600000  4.328085\n",
      "34  (EM0, DC0)  1.00   8  0.000000  0.000000\n",
      "35  (EM0, EM1)  2.30  16  0.142857  0.910239\n",
      "36   (EM0, I1)  1.00   8  0.000000  0.000000\n",
      "37   (EM0, F1)  1.00   8  0.000000  0.000000\n",
      "38   (EM0, L1)  1.00   8  0.000000  0.000000\n",
      "39  (EM0, MC1)  0.75  16  0.000000  0.000000\n",
      "40  (EM0, DC1)  0.75   8  0.000000  0.000000\n",
      "41    (I0, F0)  3.10   4  1.000000  1.442695\n",
      "42    (I0, L0)  3.10   4  1.000000  1.442695\n",
      "43   (I0, DC0)  2.30   4  0.333333  0.721348\n",
      "44   (I0, EM1)  1.00   8  0.000000  0.000000\n",
      "45    (I0, I1)  0.75   4  0.000000  0.000000\n",
      "46    (I0, F1)  0.75   4  0.000000  0.000000\n",
      "47    (I0, L1)  0.75   4  0.000000  0.000000\n",
      "48   (I0, MC1)  0.60   8  0.000000  0.000000\n",
      "49   (I0, DC1)  0.75   4  0.000000  0.000000\n",
      "50    (F0, L0)  3.10   4  1.000000  1.442695\n",
      "51   (F0, DC0)  2.30   4  0.333333  0.721348\n",
      "52   (F0, EM1)  1.00   8  0.000000  0.000000\n",
      "53    (F0, I1)  0.75   4  0.000000  0.000000\n",
      "54    (F0, F1)  0.75   4  0.000000  0.000000\n",
      "55    (F0, L1)  0.75   4  0.000000  0.000000\n",
      "56   (F0, MC1)  0.60   8  0.000000  0.000000\n",
      "57   (F0, DC1)  0.75   4  0.000000  0.000000\n",
      "58   (L0, DC0)  2.30   4  0.333333  0.721348\n",
      "59   (L0, EM1)  1.00   8  0.000000  0.000000\n",
      "60    (L0, I1)  0.75   4  0.000000  0.000000\n",
      "61    (L0, F1)  0.75   4  0.000000  0.000000\n",
      "62    (L0, L1)  0.75   4  0.000000  0.000000\n",
      "63   (L0, MC1)  0.60   8  0.000000  0.000000\n",
      "64   (L0, DC1)  0.75   4  0.000000  0.000000\n",
      "65  (MC0, EM1)  0.75  16  0.000000  0.000000\n",
      "66   (MC0, I1)  0.60   8  0.000000  0.000000\n",
      "67   (MC0, F1)  0.60   8  0.000000  0.000000\n",
      "68   (MC0, L1)  0.60   8  0.000000  0.000000\n",
      "69  (MC0, MC1)  0.75  16  0.000000  0.000000\n",
      "70  (MC0, DC1)  1.00   8  0.000000  0.000000\n",
      "71  (DC0, EM1)  0.75   8  0.000000  0.000000\n",
      "72   (DC0, I1)  0.75   4  0.000000  0.000000\n",
      "73   (DC0, F1)  0.75   4  0.000000  0.000000\n",
      "74   (DC0, L1)  0.75   4  0.000000  0.000000\n",
      "75  (DC0, MC1)  1.00   8  0.000000  0.000000\n",
      "76  (DC0, DC1)  2.30   4  0.333333  0.910239\n",
      "77  (EM1, MC1)  3.90  16  0.600000  4.328085\n",
      "78  (EM1, DC1)  1.00   8  0.000000  0.000000\n",
      "79    (I1, F1)  3.10   4  1.000000  1.442695\n",
      "80    (I1, L1)  3.10   4  1.000000  1.442695\n",
      "81   (I1, DC1)  2.30   4  0.333333  0.721348\n",
      "82    (F1, L1)  3.10   4  1.000000  1.442695\n",
      "83   (F1, DC1)  2.30   4  0.333333  0.721348\n",
      "84   (L1, DC1)  2.30   4  0.333333  0.721348\n",
      "\n",
      "Legend:\n",
      "  CN  = Common Neighbor Centrality\n",
      "  PA  = Preferential Attachment\n",
      "  JC  = Jaccard Coefficient\n",
      "  AA  = Adamic Adar Index\n"
     ]
    }
   ],
   "source": [
    "graph = DataFactory().create_graph(n=2, connected=True, add_dc=True)\n",
    "graph.draw(layout=GraphViz.SPIRAL_LAYOUT)\n",
    "\n",
    "possible_edges = graph.missing_edges()\n",
    "\n",
    "gl = GraphLink(graph, possible_edges)\\\n",
    "    .predict(Algorithm.COMMON_NEIGHBOR_CENTRALITY)\\\n",
    "    .predict(Algorithm.PREFERENTIAL_ATTACHMENT)\\\n",
    "    .predict(Algorithm.JACCARD_COEFFICIENT)\\\n",
    "    .predict(Algorithm.ADAMIC_ADAR_INDEX)\n",
    "\n",
    "gl.print_results(title=\"Link Predictions:\")"
   ],
   "metadata": {
    "collapsed": false,
    "pycharm": {
     "name": "#%%\n"
    }
   }
  },
  {
   "cell_type": "markdown",
   "source": [
    "#### Normalize results, filter edges of interest, label results and show metrics"
   ],
   "metadata": {
    "collapsed": false
   }
  },
  {
   "cell_type": "code",
   "execution_count": 65,
   "outputs": [
    {
     "name": "stdout",
     "output_type": "stream",
     "text": [
      "Predictions normalized:\n",
      "         Edge        CN   PA   JC   AA\n",
      "0  (EM0, DC0)  0.256410  0.5  0.0  0.0\n",
      "1  (EM0, DC1)  0.192308  0.5  0.0  0.0\n",
      "2  (EM1, DC0)  0.192308  0.5  0.0  0.0\n",
      "3  (EM1, DC1)  0.256410  0.5  0.0  0.0\n",
      "\n",
      "Prediction labels with threshold 0.8:\n",
      "         Edge  CN  PA  JC  AA\n",
      "0  (EM0, DC0)   0   0   0   0\n",
      "1  (EM0, DC1)   0   0   0   0\n",
      "2  (EM1, DC0)   0   0   0   0\n",
      "3  (EM1, DC1)   0   0   0   0\n",
      "\n",
      "Metrics:\n",
      "      Metric   CN   PA   JC   AA\n",
      "0  Precision  0.0  0.0  0.0  0.0\n",
      "1     Recall  0.0  0.0  0.0  0.0\n",
      "2   F1-Score  0.0  0.0  0.0  0.0\n",
      "\n",
      "Legend:\n",
      "  CN  = Common Neighbor Centrality\n",
      "  PA  = Preferential Attachment\n",
      "  JC  = Jaccard Coefficient\n",
      "  AA  = Adamic Adar Index\n"
     ]
    }
   ],
   "source": [
    "gl.normalize()\n",
    "gl.filter([(\"EM0\",\"DC0\"),(\"EM0\", \"DC1\"),(\"EM1\",\"DC0\"),(\"EM1\", \"DC1\")])\n",
    "\n",
    "gl.print_results(title=\"Predictions normalized:\", incl_legend=False)\n",
    "print()\n",
    "\n",
    "gl.label(threshold=0.8)\n",
    "gl.print_results(title=\"Prediction labels with threshold 0.8:\", incl_legend=False)\n",
    "print()\n",
    "\n",
    "y_true = [1,0,0,1]\n",
    "gl.print_metrics(y_true, title=\"Metrics:\")"
   ],
   "metadata": {
    "collapsed": false,
    "pycharm": {
     "name": "#%%\n"
    }
   }
  },
  {
   "cell_type": "markdown",
   "source": [
    "## Scenario C: Data Collection - Mitarbeiter typisiert"
   ],
   "metadata": {
    "collapsed": false
   }
  },
  {
   "cell_type": "markdown",
   "source": [
    "<img src=\"img/test-scenario3.png\" alt=\"Test Scenario 3\" width=\"800\"/>"
   ],
   "metadata": {
    "collapsed": false
   }
  },
  {
   "cell_type": "code",
   "execution_count": 7,
   "outputs": [
    {
     "data": {
      "text/plain": "<Figure size 432x432 with 1 Axes>",
      "image/png": "[encoded data removed]"
     },
     "metadata": {},
     "output_type": "display_data"
    },
    {
     "name": "stdout",
     "output_type": "stream",
     "text": [
      "Normalized results:\n",
      "               Edge    CN      PA        JC        AA\n",
      "0         (GR, EM0)  0.52  0.5000  0.200000  0.296082\n",
      "1       (GR, IType)  0.24  0.5000  0.000000  0.000000\n",
      "2          (GR, I0)  0.18  0.2500  0.000000  0.000000\n",
      "3       (GR, FType)  0.24  0.5000  0.000000  0.000000\n",
      "4          (GR, F0)  0.18  0.2500  0.000000  0.000000\n",
      "5       (GR, LType)  0.24  0.5000  0.000000  0.000000\n",
      "6          (GR, L0)  0.18  0.2500  0.000000  0.000000\n",
      "7         (GR, MC0)  0.24  0.5000  0.000000  0.000000\n",
      "8         (GR, DC0)  0.52  0.2500  0.333333  0.296082\n",
      "9         (GR, EM1)  0.52  0.5000  0.200000  0.296082\n",
      "10         (GR, I1)  0.18  0.2500  0.000000  0.000000\n",
      "11         (GR, F1)  0.18  0.2500  0.000000  0.000000\n",
      "12         (GR, L1)  0.18  0.2500  0.000000  0.000000\n",
      "13        (GR, MC1)  0.24  0.5000  0.000000  0.000000\n",
      "14        (GR, DC1)  0.52  0.2500  0.333333  0.296082\n",
      "15         (OR, DR)  0.52  0.5625  0.200000  0.469279\n",
      "16      (OR, IType)  0.68  0.7500  0.400000  0.469279\n",
      "17         (OR, I0)  0.24  0.3750  0.000000  0.000000\n",
      "18      (OR, FType)  0.68  0.7500  0.400000  0.469279\n",
      "19         (OR, F0)  0.24  0.3750  0.000000  0.000000\n",
      "20      (OR, LType)  0.68  0.7500  0.400000  0.469279\n",
      "21         (OR, L0)  0.24  0.3750  0.000000  0.000000\n",
      "22        (OR, MC0)  0.18  0.7500  0.000000  0.000000\n",
      "23        (OR, DC0)  0.24  0.3750  0.000000  0.000000\n",
      "24         (OR, I1)  0.24  0.3750  0.000000  0.000000\n",
      "25         (OR, F1)  0.24  0.3750  0.000000  0.000000\n",
      "26         (OR, L1)  0.24  0.3750  0.000000  0.000000\n",
      "27        (OR, MC1)  0.18  0.7500  0.000000  0.000000\n",
      "28        (OR, DC1)  0.24  0.3750  0.000000  0.000000\n",
      "29        (DR, EM0)  0.24  0.7500  0.000000  0.000000\n",
      "30      (DR, IType)  0.18  0.7500  0.000000  0.000000\n",
      "31         (DR, I0)  0.24  0.3750  0.000000  0.000000\n",
      "32      (DR, FType)  0.18  0.7500  0.000000  0.000000\n",
      "33         (DR, F0)  0.24  0.3750  0.000000  0.000000\n",
      "34      (DR, LType)  0.18  0.7500  0.000000  0.000000\n",
      "35         (DR, L0)  0.24  0.3750  0.000000  0.000000\n",
      "36        (DR, MC0)  0.52  0.7500  0.166667  0.469279\n",
      "37        (DR, EM1)  0.24  0.7500  0.000000  0.000000\n",
      "38         (DR, I1)  0.24  0.3750  0.000000  0.000000\n",
      "39         (DR, F1)  0.24  0.3750  0.000000  0.000000\n",
      "40         (DR, L1)  0.24  0.3750  0.000000  0.000000\n",
      "41        (DR, MC1)  0.52  0.7500  0.166667  0.469279\n",
      "42        (EM0, I0)  0.52  0.5000  0.200000  0.234639\n",
      "43        (EM0, F0)  0.52  0.5000  0.200000  0.234639\n",
      "44        (EM0, L0)  0.52  0.5000  0.200000  0.234639\n",
      "45       (EM0, MC0)  0.24  1.0000  0.000000  0.000000\n",
      "46       (EM0, DC0)  0.18  0.5000  0.000000  0.000000\n",
      "47       (EM0, EM1)  1.00  1.0000  1.000000  1.000000\n",
      "48        (EM0, I1)  0.52  0.5000  0.200000  0.234639\n",
      "49        (EM0, F1)  0.52  0.5000  0.200000  0.234639\n",
      "50        (EM0, L1)  0.52  0.5000  0.200000  0.234639\n",
      "51       (EM0, MC1)  0.24  1.0000  0.000000  0.000000\n",
      "52       (EM0, DC1)  0.18  0.5000  0.000000  0.000000\n",
      "53   (IType, FType)  0.68  1.0000  0.333333  0.469279\n",
      "54      (IType, F0)  0.24  0.5000  0.000000  0.000000\n",
      "55   (IType, LType)  0.68  1.0000  0.333333  0.469279\n",
      "56      (IType, L0)  0.24  0.5000  0.000000  0.000000\n",
      "57     (IType, MC0)  0.52  1.0000  0.142857  0.469279\n",
      "58     (IType, DC0)  0.24  0.5000  0.000000  0.000000\n",
      "59      (IType, F1)  0.24  0.5000  0.000000  0.000000\n",
      "60      (IType, L1)  0.24  0.5000  0.000000  0.000000\n",
      "61     (IType, MC1)  0.52  1.0000  0.142857  0.469279\n",
      "62     (IType, DC1)  0.24  0.5000  0.000000  0.000000\n",
      "63      (I0, FType)  0.24  0.5000  0.000000  0.000000\n",
      "64         (I0, F0)  0.52  0.2500  0.333333  0.234639\n",
      "65      (I0, LType)  0.24  0.5000  0.000000  0.000000\n",
      "66         (I0, L0)  0.52  0.2500  0.333333  0.234639\n",
      "67        (I0, DC0)  0.52  0.2500  0.333333  0.234639\n",
      "68        (I0, EM1)  0.52  0.5000  0.200000  0.234639\n",
      "69         (I0, I1)  0.52  0.2500  0.333333  0.234639\n",
      "70         (I0, F1)  0.18  0.2500  0.000000  0.000000\n",
      "71         (I0, L1)  0.18  0.2500  0.000000  0.000000\n",
      "72        (I0, MC1)  0.24  0.5000  0.000000  0.000000\n",
      "73        (I0, DC1)  0.18  0.2500  0.000000  0.000000\n",
      "74   (FType, LType)  0.68  1.0000  0.333333  0.469279\n",
      "75      (FType, L0)  0.24  0.5000  0.000000  0.000000\n",
      "76     (FType, MC0)  0.52  1.0000  0.142857  0.469279\n",
      "77     (FType, DC0)  0.24  0.5000  0.000000  0.000000\n",
      "78      (FType, I1)  0.24  0.5000  0.000000  0.000000\n",
      "79      (FType, L1)  0.24  0.5000  0.000000  0.000000\n",
      "80     (FType, MC1)  0.52  1.0000  0.142857  0.469279\n",
      "81     (FType, DC1)  0.24  0.5000  0.000000  0.000000\n",
      "82      (F0, LType)  0.24  0.5000  0.000000  0.000000\n",
      "83         (F0, L0)  0.52  0.2500  0.333333  0.234639\n",
      "84        (F0, DC0)  0.52  0.2500  0.333333  0.234639\n",
      "85        (F0, EM1)  0.52  0.5000  0.200000  0.234639\n",
      "86         (F0, I1)  0.18  0.2500  0.000000  0.000000\n",
      "87         (F0, F1)  0.52  0.2500  0.333333  0.234639\n",
      "88         (F0, L1)  0.18  0.2500  0.000000  0.000000\n",
      "89        (F0, MC1)  0.24  0.5000  0.000000  0.000000\n",
      "90        (F0, DC1)  0.18  0.2500  0.000000  0.000000\n",
      "91     (LType, MC0)  0.52  1.0000  0.142857  0.469279\n",
      "92     (LType, DC0)  0.24  0.5000  0.000000  0.000000\n",
      "93      (LType, I1)  0.24  0.5000  0.000000  0.000000\n",
      "94      (LType, F1)  0.24  0.5000  0.000000  0.000000\n",
      "95     (LType, MC1)  0.52  1.0000  0.142857  0.469279\n",
      "96     (LType, DC1)  0.24  0.5000  0.000000  0.000000\n",
      "97        (L0, DC0)  0.52  0.2500  0.333333  0.234639\n",
      "98        (L0, EM1)  0.52  0.5000  0.200000  0.234639\n",
      "99         (L0, I1)  0.18  0.2500  0.000000  0.000000\n",
      "100        (L0, F1)  0.18  0.2500  0.000000  0.000000\n",
      "101        (L0, L1)  0.52  0.2500  0.333333  0.234639\n",
      "102       (L0, MC1)  0.24  0.5000  0.000000  0.000000\n",
      "103       (L0, DC1)  0.18  0.2500  0.000000  0.000000\n",
      "104      (MC0, EM1)  0.24  1.0000  0.000000  0.000000\n",
      "105       (MC0, I1)  0.24  0.5000  0.000000  0.000000\n",
      "106       (MC0, F1)  0.24  0.5000  0.000000  0.000000\n",
      "107       (MC0, L1)  0.24  0.5000  0.000000  0.000000\n",
      "108      (MC0, MC1)  0.18  1.0000  0.000000  0.000000\n",
      "109      (MC0, DC1)  0.24  0.5000  0.000000  0.000000\n",
      "110      (DC0, EM1)  0.18  0.5000  0.000000  0.000000\n",
      "111       (DC0, I1)  0.18  0.2500  0.000000  0.000000\n",
      "112       (DC0, F1)  0.18  0.2500  0.000000  0.000000\n",
      "113       (DC0, L1)  0.18  0.2500  0.000000  0.000000\n",
      "114      (DC0, MC1)  0.24  0.5000  0.000000  0.000000\n",
      "115      (DC0, DC1)  0.52  0.2500  0.333333  0.296082\n",
      "116       (EM1, I1)  0.52  0.5000  0.200000  0.234639\n",
      "117       (EM1, F1)  0.52  0.5000  0.200000  0.234639\n",
      "118       (EM1, L1)  0.52  0.5000  0.200000  0.234639\n",
      "119      (EM1, MC1)  0.24  1.0000  0.000000  0.000000\n",
      "120      (EM1, DC1)  0.18  0.5000  0.000000  0.000000\n",
      "121        (I1, F1)  0.52  0.2500  0.333333  0.234639\n",
      "122        (I1, L1)  0.52  0.2500  0.333333  0.234639\n",
      "123       (I1, DC1)  0.52  0.2500  0.333333  0.234639\n",
      "124        (F1, L1)  0.52  0.2500  0.333333  0.234639\n",
      "125       (F1, DC1)  0.52  0.2500  0.333333  0.234639\n",
      "126       (L1, DC1)  0.52  0.2500  0.333333  0.234639\n"
     ]
    }
   ],
   "source": [
    "graph = DataFactory().create_graph(n=2, connected=True, add_dc=True, typed=True)\n",
    "graph.draw(layout=GraphViz.SPIRAL_LAYOUT)\n",
    "\n",
    "possible_edges = graph.missing_edges()\n",
    "\n",
    "gl = GraphLink(graph, possible_edges)\\\n",
    "    .predict(Algorithm.COMMON_NEIGHBOR_CENTRALITY)\\\n",
    "    .predict(Algorithm.PREFERENTIAL_ATTACHMENT)\\\n",
    "    .predict(Algorithm.JACCARD_COEFFICIENT)\\\n",
    "    .predict(Algorithm.ADAMIC_ADAR_INDEX)\n",
    "\n",
    "gl.print_results(title=\"Normalized results:\", normalize=True, incl_legend=False)"
   ],
   "metadata": {
    "collapsed": false,
    "pycharm": {
     "name": "#%%\n"
    }
   }
  },
  {
   "cell_type": "code",
   "execution_count": 8,
   "outputs": [
    {
     "name": "stdout",
     "output_type": "stream",
     "text": [
      "Filtered results:\n",
      "         Edge    CN   PA   JC   AA\n",
      "0  (EM0, MC0)  0.24  1.0  0.0  0.0\n",
      "1  (EM0, DC0)  0.18  0.5  0.0  0.0\n",
      "2  (EM0, MC1)  0.24  1.0  0.0  0.0\n",
      "3  (EM0, DC1)  0.18  0.5  0.0  0.0\n",
      "4  (EM1, MC0)  0.24  1.0  0.0  0.0\n",
      "5  (EM1, DC0)  0.18  0.5  0.0  0.0\n",
      "6  (EM1, MC1)  0.24  1.0  0.0  0.0\n",
      "7  (EM1, DC1)  0.18  0.5  0.0  0.0\n",
      "\n",
      "Legend:\n",
      "  CN  = Common Neighbor Centrality\n",
      "  PA  = Preferential Attachment\n",
      "  JC  = Jaccard Coefficient\n",
      "  AA  = Adamic Adar Index\n"
     ]
    }
   ],
   "source": [
    "gl.filter([(\"EM0\",\"MC0\"),(\"EM0\", \"MC1\"),(\"EM1\",\"MC0\"),(\"EM1\", \"MC1\"),\n",
    "           (\"EM0\",\"DC0\"),(\"EM0\", \"DC1\"),(\"EM1\",\"DC0\"),(\"EM1\", \"DC1\")])\n",
    "gl.print_results(title=\"Filtered results:\")\n"
   ],
   "metadata": {
    "collapsed": false,
    "pycharm": {
     "name": "#%%\n"
    }
   }
  },
  {
   "cell_type": "markdown",
   "source": [
    "## Scenario D:\n",
    "\n",
    "TODO: Variationen:\n",
    "a) untyped\n",
    "b) untyped ohne id\n",
    "c) typed\n",
    "d) typed ohne id\n"
   ],
   "metadata": {
    "collapsed": false
   }
  },
  {
   "cell_type": "markdown",
   "source": [
    "<img src=\"img/test-scenario4b.png\" alt=\"Test Scenario 4\" width=\"800\"/>"
   ],
   "metadata": {
    "collapsed": false
   }
  },
  {
   "cell_type": "code",
   "execution_count": 9,
   "outputs": [
    {
     "data": {
      "text/plain": "<Figure size 432x432 with 1 Axes>",
      "image/png": "[encoded data removed]"
     },
     "metadata": {},
     "output_type": "display_data"
    },
    {
     "name": "stdout",
     "output_type": "stream",
     "text": [
      "Normalized results:\n",
      "               Edge        CN        PA        JC        AA\n",
      "0         (EM0, I0)  0.529412  0.222222  0.200000  0.221057\n",
      "1         (EM0, F0)  0.529412  0.222222  0.200000  0.171033\n",
      "2         (EM0, L0)  0.529412  0.222222  0.200000  0.171033\n",
      "3       (EM0, EM0x)  0.686275  0.333333  0.400000  0.342066\n",
      "4        (EM0, MC0)  0.529412  0.555556  0.125000  0.171033\n",
      "5         (EM0, GA)  0.248366  0.222222  0.000000  0.000000\n",
      "6        (EM0, DC0)  0.529412  0.222222  0.200000  0.171033\n",
      "7        (EM0, EM1)  1.000000  0.444444  1.000000  0.734156\n",
      "8         (EM0, I1)  0.529412  0.222222  0.200000  0.221057\n",
      "9         (EM0, F1)  0.529412  0.222222  0.200000  0.171033\n",
      "10        (EM0, L1)  0.529412  0.222222  0.200000  0.171033\n",
      "11      (EM0, EM1x)  0.686275  0.333333  0.400000  0.342066\n",
      "12       (EM0, MC1)  0.529412  0.555556  0.125000  0.171033\n",
      "13       (EM0, DC1)  0.529412  0.222222  0.200000  0.171033\n",
      "14   (IType, FType)  0.686275  0.666667  0.250000  0.442114\n",
      "15      (IType, F0)  0.248366  0.222222  0.000000  0.000000\n",
      "16   (IType, LType)  0.686275  0.666667  0.250000  0.442114\n",
      "17      (IType, L0)  0.248366  0.222222  0.000000  0.000000\n",
      "18    (IType, EM0x)  0.248366  0.333333  0.000000  0.000000\n",
      "19     (IType, MC0)  0.529412  0.555556  0.125000  0.442114\n",
      "20     (IType, DIR)  0.686275  0.666667  0.250000  0.442114\n",
      "21      (IType, GA)  0.186275  0.222222  0.000000  0.000000\n",
      "22     (IType, DC0)  0.248366  0.222222  0.000000  0.000000\n",
      "23      (IType, F1)  0.248366  0.222222  0.000000  0.000000\n",
      "24      (IType, L1)  0.248366  0.222222  0.000000  0.000000\n",
      "25    (IType, EM1x)  0.248366  0.333333  0.000000  0.000000\n",
      "26     (IType, MC1)  0.529412  0.555556  0.125000  0.442114\n",
      "27     (IType, DC1)  0.248366  0.222222  0.000000  0.000000\n",
      "28      (I0, FType)  0.248366  0.333333  0.000000  0.000000\n",
      "29         (I0, F0)  0.529412  0.111111  0.333333  0.190408\n",
      "30      (I0, LType)  0.248366  0.333333  0.000000  0.000000\n",
      "31         (I0, L0)  0.529412  0.111111  0.333333  0.190408\n",
      "32       (I0, EM0x)  0.186275  0.166667  0.000000  0.000000\n",
      "33        (I0, DIR)  0.529412  0.333333  0.142857  0.190408\n",
      "34         (I0, GA)  0.149020  0.111111  0.000000  0.000000\n",
      "35        (I0, DC0)  0.529412  0.111111  0.333333  0.190408\n",
      "36        (I0, EM1)  0.529412  0.222222  0.200000  0.221057\n",
      "37         (I0, I1)  0.529412  0.111111  0.333333  0.221057\n",
      "38         (I0, F1)  0.186275  0.111111  0.000000  0.000000\n",
      "39         (I0, L1)  0.186275  0.111111  0.000000  0.000000\n",
      "40       (I0, EM1x)  0.186275  0.166667  0.000000  0.000000\n",
      "41        (I0, MC1)  0.248366  0.277778  0.000000  0.000000\n",
      "42        (I0, DC1)  0.248366  0.111111  0.000000  0.000000\n",
      "43   (FType, LType)  1.000000  1.000000  0.500000  1.000000\n",
      "44      (FType, L0)  0.248366  0.333333  0.000000  0.000000\n",
      "45     (FType, MC0)  0.529412  0.833333  0.100000  0.442114\n",
      "46     (FType, DIR)  0.686275  1.000000  0.200000  0.442114\n",
      "47      (FType, GA)  0.686275  0.333333  0.333333  0.557886\n",
      "48     (FType, DC0)  0.248366  0.333333  0.000000  0.000000\n",
      "49      (FType, I1)  0.248366  0.333333  0.000000  0.000000\n",
      "50      (FType, L1)  0.248366  0.333333  0.000000  0.000000\n",
      "51     (FType, MC1)  0.529412  0.833333  0.100000  0.442114\n",
      "52     (FType, DC1)  0.248366  0.333333  0.000000  0.000000\n",
      "53      (F0, LType)  0.248366  0.333333  0.000000  0.000000\n",
      "54         (F0, L0)  0.529412  0.111111  0.333333  0.190408\n",
      "55       (F0, EM0x)  0.529412  0.166667  0.250000  0.171033\n",
      "56        (F0, DIR)  0.529412  0.333333  0.142857  0.190408\n",
      "57         (F0, GA)  0.248366  0.111111  0.000000  0.000000\n",
      "58        (F0, DC0)  0.529412  0.111111  0.333333  0.190408\n",
      "59        (F0, EM1)  0.529412  0.222222  0.200000  0.171033\n",
      "60         (F0, I1)  0.186275  0.111111  0.000000  0.000000\n",
      "61         (F0, F1)  0.529412  0.111111  0.333333  0.171033\n",
      "62         (F0, L1)  0.186275  0.111111  0.000000  0.000000\n",
      "63       (F0, EM1x)  0.529412  0.166667  0.250000  0.171033\n",
      "64        (F0, MC1)  0.248366  0.277778  0.000000  0.000000\n",
      "65        (F0, DC1)  0.248366  0.111111  0.000000  0.000000\n",
      "66     (LType, MC0)  0.529412  0.833333  0.100000  0.442114\n",
      "67     (LType, DIR)  0.686275  1.000000  0.200000  0.442114\n",
      "68      (LType, GA)  0.686275  0.333333  0.333333  0.557886\n",
      "69     (LType, DC0)  0.248366  0.333333  0.000000  0.000000\n",
      "70      (LType, I1)  0.248366  0.333333  0.000000  0.000000\n",
      "71      (LType, F1)  0.248366  0.333333  0.000000  0.000000\n",
      "72     (LType, MC1)  0.529412  0.833333  0.100000  0.442114\n",
      "73     (LType, DC1)  0.248366  0.333333  0.000000  0.000000\n",
      "74       (L0, EM0x)  0.529412  0.166667  0.250000  0.171033\n",
      "75        (L0, DIR)  0.529412  0.333333  0.142857  0.190408\n",
      "76         (L0, GA)  0.248366  0.111111  0.000000  0.000000\n",
      "77        (L0, DC0)  0.529412  0.111111  0.333333  0.190408\n",
      "78        (L0, EM1)  0.529412  0.222222  0.200000  0.171033\n",
      "79         (L0, I1)  0.186275  0.111111  0.000000  0.000000\n",
      "80         (L0, F1)  0.186275  0.111111  0.000000  0.000000\n",
      "81         (L0, L1)  0.529412  0.111111  0.333333  0.171033\n",
      "82       (L0, EM1x)  0.529412  0.166667  0.250000  0.171033\n",
      "83        (L0, MC1)  0.248366  0.277778  0.000000  0.000000\n",
      "84        (L0, DC1)  0.248366  0.111111  0.000000  0.000000\n",
      "85      (EM0x, MC0)  0.248366  0.416667  0.000000  0.000000\n",
      "86      (EM0x, DIR)  0.248366  0.500000  0.000000  0.000000\n",
      "87      (EM0x, DC0)  0.186275  0.166667  0.000000  0.000000\n",
      "88      (EM0x, EM1)  0.686275  0.333333  0.400000  0.342066\n",
      "89       (EM0x, I1)  0.186275  0.166667  0.000000  0.000000\n",
      "90       (EM0x, F1)  0.529412  0.166667  0.250000  0.171033\n",
      "91       (EM0x, L1)  0.529412  0.166667  0.250000  0.171033\n",
      "92     (EM0x, EM1x)  0.843137  0.250000  1.000000  0.784180\n",
      "93      (EM0x, MC1)  0.248366  0.416667  0.000000  0.000000\n",
      "94      (EM0x, DC1)  0.186275  0.166667  0.000000  0.000000\n",
      "95        (MC0, GA)  0.186275  0.277778  0.000000  0.000000\n",
      "96       (MC0, EM1)  0.529412  0.555556  0.125000  0.171033\n",
      "97        (MC0, I1)  0.248366  0.277778  0.000000  0.000000\n",
      "98        (MC0, F1)  0.248366  0.277778  0.000000  0.000000\n",
      "99        (MC0, L1)  0.248366  0.277778  0.000000  0.000000\n",
      "100     (MC0, EM1x)  0.248366  0.416667  0.000000  0.000000\n",
      "101      (MC0, MC1)  0.529412  0.694444  0.111111  0.171033\n",
      "102      (MC0, DC1)  0.529412  0.277778  0.166667  0.171033\n",
      "103       (DIR, GA)  0.186275  0.333333  0.000000  0.000000\n",
      "104       (DIR, I1)  0.529412  0.333333  0.142857  0.190408\n",
      "105       (DIR, F1)  0.529412  0.333333  0.142857  0.190408\n",
      "106       (DIR, L1)  0.529412  0.333333  0.142857  0.190408\n",
      "107     (DIR, EM1x)  0.248366  0.500000  0.000000  0.000000\n",
      "108       (GA, DC0)  0.149020  0.111111  0.000000  0.000000\n",
      "109       (GA, EM1)  0.248366  0.222222  0.000000  0.000000\n",
      "110        (GA, I1)  0.149020  0.111111  0.000000  0.000000\n",
      "111        (GA, F1)  0.248366  0.111111  0.000000  0.000000\n",
      "112        (GA, L1)  0.248366  0.111111  0.000000  0.000000\n",
      "113       (GA, MC1)  0.186275  0.277778  0.000000  0.000000\n",
      "114       (GA, DC1)  0.149020  0.111111  0.000000  0.000000\n",
      "115      (DC0, EM1)  0.529412  0.222222  0.200000  0.171033\n",
      "116       (DC0, I1)  0.248366  0.111111  0.000000  0.000000\n",
      "117       (DC0, F1)  0.248366  0.111111  0.000000  0.000000\n",
      "118       (DC0, L1)  0.248366  0.111111  0.000000  0.000000\n",
      "119     (DC0, EM1x)  0.186275  0.166667  0.000000  0.000000\n",
      "120      (DC0, MC1)  0.529412  0.277778  0.166667  0.171033\n",
      "121      (DC0, DC1)  0.529412  0.111111  0.333333  0.171033\n",
      "122       (EM1, I1)  0.529412  0.222222  0.200000  0.221057\n",
      "123       (EM1, F1)  0.529412  0.222222  0.200000  0.171033\n",
      "124       (EM1, L1)  0.529412  0.222222  0.200000  0.171033\n",
      "125     (EM1, EM1x)  0.686275  0.333333  0.400000  0.342066\n",
      "126      (EM1, MC1)  0.529412  0.555556  0.125000  0.171033\n",
      "127      (EM1, DC1)  0.529412  0.222222  0.200000  0.171033\n",
      "128        (I1, F1)  0.529412  0.111111  0.333333  0.190408\n",
      "129        (I1, L1)  0.529412  0.111111  0.333333  0.190408\n",
      "130      (I1, EM1x)  0.186275  0.166667  0.000000  0.000000\n",
      "131       (I1, DC1)  0.529412  0.111111  0.333333  0.190408\n",
      "132        (F1, L1)  0.529412  0.111111  0.333333  0.190408\n",
      "133      (F1, EM1x)  0.529412  0.166667  0.250000  0.171033\n",
      "134       (F1, DC1)  0.529412  0.111111  0.333333  0.190408\n",
      "135      (L1, EM1x)  0.529412  0.166667  0.250000  0.171033\n",
      "136       (L1, DC1)  0.529412  0.111111  0.333333  0.190408\n",
      "137     (EM1x, MC1)  0.248366  0.416667  0.000000  0.000000\n",
      "138     (EM1x, DC1)  0.186275  0.166667  0.000000  0.000000\n"
     ]
    }
   ],
   "source": [
    "graph = DataFactory().create_graph_with_doubles(n=2, add_dc=True, add_type_nodes=True)\n",
    "graph.draw(layout=GraphViz.SPIRAL_LAYOUT)\n",
    "\n",
    "possible_edges = graph.missing_edges()\n",
    "\n",
    "gl = GraphLink(graph, possible_edges)\\\n",
    "    .predict(Algorithm.COMMON_NEIGHBOR_CENTRALITY)\\\n",
    "    .predict(Algorithm.PREFERENTIAL_ATTACHMENT)\\\n",
    "    .predict(Algorithm.JACCARD_COEFFICIENT)\\\n",
    "    .predict(Algorithm.ADAMIC_ADAR_INDEX)\n",
    "\n",
    "gl.print_results(title=\"Normalized results:\", normalize=True, incl_legend=False)"
   ],
   "metadata": {
    "collapsed": false,
    "pycharm": {
     "name": "#%%\n"
    }
   }
  },
  {
   "cell_type": "code",
   "execution_count": 10,
   "outputs": [
    {
     "name": "stdout",
     "output_type": "stream",
     "text": [
      "Filtered results:\n",
      "          Edge        CN        PA     JC        AA\n",
      "0   (EM0, MC0)  0.529412  0.555556  0.125  0.171033\n",
      "1   (EM0, MC1)  0.529412  0.555556  0.125  0.171033\n",
      "2  (EM0x, MC0)  0.248366  0.416667  0.000  0.000000\n",
      "3  (EM0x, MC1)  0.248366  0.416667  0.000  0.000000\n",
      "4   (EM1, MC0)  0.529412  0.555556  0.125  0.171033\n",
      "5  (EM1x, MC0)  0.248366  0.416667  0.000  0.000000\n",
      "6   (EM1, MC1)  0.529412  0.555556  0.125  0.171033\n",
      "7  (EM1x, MC1)  0.248366  0.416667  0.000  0.000000\n",
      "\n",
      "Legend:\n",
      "  CN  = Common Neighbor Centrality\n",
      "  PA  = Preferential Attachment\n",
      "  JC  = Jaccard Coefficient\n",
      "  AA  = Adamic Adar Index\n"
     ]
    }
   ],
   "source": [
    "gl.filter([(\"EM0\",\"MC0\"),(\"EM0\", \"MC1\"),(\"EM1\",\"MC0\"),(\"EM1\", \"MC1\"),\n",
    "           (\"EM0x\",\"MC0\"),(\"EM0x\", \"MC1\"),(\"EM1x\",\"MC0\"),(\"EM1x\", \"MC1\")])\n",
    "gl.print_results(title=\"Filtered results:\")\n"
   ],
   "metadata": {
    "collapsed": false,
    "pycharm": {
     "name": "#%%\n"
    }
   }
  },
  {
   "cell_type": "markdown",
   "source": [
    "---\n",
    "_The end._"
   ],
   "metadata": {
    "collapsed": false
   }
  }
 ],
 "metadata": {
  "kernelspec": {
   "display_name": "Python 3",
   "language": "python",
   "name": "python3"
  },
  "language_info": {
   "codemirror_mode": {
    "name": "ipython",
    "version": 2
   },
   "file_extension": ".py",
   "mimetype": "text/x-python",
   "name": "python",
   "nbconvert_exporter": "python",
   "pygments_lexer": "ipython2",
   "version": "2.7.6"
  }
 },
 "nbformat": 4,
 "nbformat_minor": 0
}
{
 "cells": [
  {
   "cell_type": "markdown",
   "source": [
    "Berner Fachhochschule BFH - MAS Data Science - Graph Machine Learning - Master Thesis FS/2022 Thomas Iten\n",
    "\n",
    "# Experiment 6 - Node2Vec Exploration Tests\n",
    "\n",
    "**Referenzen**<br />\n",
    "[1] https://snap.stanford.edu/node2vec<br />\n",
    "[2] https://stellargraph.readthedocs.io/en/stable/demos/link-prediction/node2vec-link-prediction.html<br />\n",
    "\n"
   ],
   "metadata": {
    "collapsed": false
   }
  },
  {
   "cell_type": "code",
   "execution_count": 1,
   "metadata": {
    "collapsed": true
   },
   "outputs": [],
   "source": [
    "import pandas as pd\n",
    "from sklearn.ensemble import RandomForestClassifier, AdaBoostClassifier\n",
    "from sklearn import metrics\n",
    "from gml.graph.data_factory import TestTrainDataFactory\n",
    "from gml.graph.graph_embedding import EdgeEmbedding"
   ]
  },
  {
   "cell_type": "markdown",
   "source": [
    "## 6.1 Data Structure\n",
    "\n",
    "### Datensammlung - Mitarbeiter mit Organisation"
   ],
   "metadata": {
    "collapsed": false
   }
  },
  {
   "cell_type": "markdown",
   "source": [
    "<img src=\"img/test-6.png\" alt=\"Test Scenario 4\" width=\"800\"/>"
   ],
   "metadata": {
    "collapsed": false
   }
  },
  {
   "cell_type": "markdown",
   "source": [
    "## 6.2 Create graph and show properties"
   ],
   "metadata": {
    "collapsed": false
   }
  },
  {
   "cell_type": "code",
   "execution_count": 2,
   "outputs": [
    {
     "name": "stdout",
     "output_type": "stream",
     "text": [
      "Graph dimensions:\n",
      "  order : 3002 (number of nodes)\n",
      "  size  : 6000 (number of edges)\n",
      "Test graph dimensions:\n",
      "  order : 3002 (number of nodes)\n",
      "  size  : 5750 (number of edges)\n",
      "Train graph dimensions:\n",
      "  order : 3002 (number of nodes)\n",
      "  size  : 5625 (number of edges)\n"
     ]
    }
   ],
   "source": [
    "n = 500\n",
    "\n",
    "graph, test_graph, test_samples, test_labels, train_graph, train_samples, train_labels \\\n",
    "    = TestTrainDataFactory().create_testdata(n, add_id=False, add_predict_edges=True)\n",
    "\n",
    "graph.print_dimemsions()\n",
    "test_graph.print_dimemsions(title=\"Test graph dimensions\")\n",
    "train_graph.print_dimemsions(title=\"Train graph dimensions\")"
   ],
   "metadata": {
    "collapsed": false,
    "pycharm": {
     "name": "#%%\n"
    }
   }
  },
  {
   "cell_type": "markdown",
   "source": [
    "## 6.3 Create embeddings"
   ],
   "metadata": {
    "collapsed": false
   }
  },
  {
   "cell_type": "code",
   "execution_count": 3,
   "outputs": [
    {
     "data": {
      "text/plain": "Computing transition probabilities:   0%|          | 0/3002 [00:00<?, ?it/s]",
      "application/vnd.jupyter.widget-view+json": {
       "version_major": 2,
       "version_minor": 0,
       "model_id": "2ba9fed2645940829d294c74d1c67173"
      }
     },
     "metadata": {},
     "output_type": "display_data"
    },
    {
     "name": "stderr",
     "output_type": "stream",
     "text": [
      "Generating walks (CPU: 1): 100%|██████████| 10/10 [01:01<00:00,  6.18s/it]\n"
     ]
    },
    {
     "name": "stdout",
     "output_type": "stream",
     "text": [
      "Embedding shape:\n",
      "Nodes    = 3002 (number of nodes)\n",
      "Features = 4 (number of features per node)\n"
     ]
    }
   ],
   "source": [
    "window = 3\n",
    "dimensions = 4\n",
    "embeddings =  EdgeEmbedding(graph.graph, window=window, dimensions=dimensions).embeddings\n",
    "\n",
    "test_embeddings  = [embeddings[str(x[0]),str(x[1])] for x in test_samples]\n",
    "train_embeddings = [embeddings[str(x[0]),str(x[1])] for x in train_samples]\n",
    "\n",
    "print(\"Embedding shape:\")\n",
    "print(\"Nodes    =\", str(embeddings.kv.vectors.shape[0]), \"(number of nodes)\")\n",
    "print(\"Features =\", embeddings.kv.vectors.shape[1], \"(number of features per node)\")"
   ],
   "metadata": {
    "collapsed": false,
    "pycharm": {
     "name": "#%%\n"
    }
   }
  },
  {
   "cell_type": "markdown",
   "source": [
    "## 6.4 Train and Test with RandomForest- and AdaBoostClassifier"
   ],
   "metadata": {
    "collapsed": false
   }
  },
  {
   "cell_type": "code",
   "execution_count": 4,
   "outputs": [
    {
     "name": "stdout",
     "output_type": "stream",
     "text": [
      "Train and Test:\n",
      "- Start train RandomForestClassifier ...\n",
      "- Start test RandomForestClassifier ...\n",
      "- Start train AdaBoostClassifier ...\n",
      "- Start test AdaBoostClassifier ...\n",
      "\n",
      "Metrics:\n",
      "           RandomForestClassifier  AdaBoostClassifier\n",
      "Precision                0.857143            0.865672\n",
      "Recall                   0.984000            0.928000\n",
      "F1-Score                 0.916201            0.895753\n"
     ]
    }
   ],
   "source": [
    "classifiers = [RandomForestClassifier, AdaBoostClassifier]\n",
    "\n",
    "index  = [\"Precision\", \"Recall\", \"F1-Score\"]\n",
    "scores = {}\n",
    "\n",
    "print(\"Train and Test:\")\n",
    "for classifier in classifiers:\n",
    "    name = classifier.__name__\n",
    "    print(\"- Start train\", name, \"...\")\n",
    "    c = classifier(n_estimators=1000)\n",
    "    c.fit(train_embeddings, train_labels)\n",
    "    print(\"- Start test\", name, \"...\")\n",
    "    y_pred = c.predict(test_embeddings)\n",
    "    scores[name] = [\n",
    "        metrics.precision_score(test_labels, y_pred),\n",
    "        metrics.recall_score(test_labels, y_pred),\n",
    "        metrics.f1_score(test_labels, y_pred)\n",
    "    ]\n",
    "\n",
    "print(\"\\nMetrics:\")\n",
    "df = pd.DataFrame(scores, index=index)\n",
    "print(df)"
   ],
   "metadata": {
    "collapsed": false,
    "pycharm": {
     "name": "#%%\n"
    }
   }
  },
  {
   "cell_type": "markdown",
   "source": [
    "\n",
    "---\n",
    "_The end._"
   ],
   "metadata": {
    "collapsed": false
   }
  }
 ],
 "metadata": {
  "kernelspec": {
   "display_name": "Python 3",
   "language": "python",
   "name": "python3"
  },
  "language_info": {
   "codemirror_mode": {
    "name": "ipython",
    "version": 2
   },
   "file_extension": ".py",
   "mimetype": "text/x-python",
   "name": "python",
   "nbconvert_exporter": "python",
   "pygments_lexer": "ipython2",
   "version": "2.7.6"
  }
 },
 "nbformat": 4,
 "nbformat_minor": 0
}
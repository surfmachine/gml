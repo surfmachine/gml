{
 "cells": [
  {
   "cell_type": "markdown",
   "source": [
    "Berner Fachhochschule BFH - MAS Data Science - Graph Machine Learning - Master Thesis FS/2022 Thomas Iten\n",
    "\n",
    "# Experiment 7 - Node2Vec Parameter Tests\n",
    "\n",
    "**Referenzen**<br />\n",
    "[1] https://snap.stanford.edu/node2vec<br />\n",
    "[2] https://stellargraph.readthedocs.io/en/stable/demos/link-prediction/node2vec-link-prediction.html<br />\n",
    "\n"
   ],
   "metadata": {
    "collapsed": false
   }
  },
  {
   "cell_type": "code",
   "execution_count": 1,
   "metadata": {
    "collapsed": true
   },
   "outputs": [],
   "source": [
    "import pandas as pd\n",
    "import matplotlib.pyplot as plt\n",
    "from sklearn.ensemble import RandomForestClassifier\n",
    "from sklearn import metrics\n",
    "from gml.graph.data_factory import TestTrainDataFactory\n",
    "from gml.graph.graph_embedding import EdgeEmbedding\n",
    "%matplotlib inline"
   ]
  },
  {
   "cell_type": "markdown",
   "source": [
    "## 7.1 Data Structure\n",
    "\n",
    "### Datensammlung - Mitarbeiter mit Organisation"
   ],
   "metadata": {
    "collapsed": false
   }
  },
  {
   "cell_type": "markdown",
   "source": [
    "<img src=\"img/test-6.png\" alt=\"Test Scenario 4\" width=\"800\"/>"
   ],
   "metadata": {
    "collapsed": false
   }
  },
  {
   "cell_type": "markdown",
   "source": [
    "## 7.2 Test Node2Vec Window Size with RandomForestClassifier\n",
    "\n",
    "### Test and Train"
   ],
   "metadata": {
    "collapsed": false
   }
  },
  {
   "cell_type": "code",
   "execution_count": 2,
   "outputs": [
    {
     "data": {
      "text/plain": "Computing transition probabilities:   0%|          | 0/602 [00:00<?, ?it/s]",
      "application/vnd.jupyter.widget-view+json": {
       "version_major": 2,
       "version_minor": 0,
       "model_id": "bdf1c6621e48441f94d9258d22c201c1"
      }
     },
     "metadata": {},
     "output_type": "display_data"
    },
    {
     "name": "stderr",
     "output_type": "stream",
     "text": [
      "Generating walks (CPU: 1): 100%|██████████| 10/10 [00:04<00:00,  2.06it/s]\n"
     ]
    },
    {
     "name": "stdout",
     "output_type": "stream",
     "text": [
      "           Window Size 1\n",
      "Precision           0.40\n",
      "Recall              0.24\n",
      "F1-Score            0.30\n"
     ]
    },
    {
     "data": {
      "text/plain": "Computing transition probabilities:   0%|          | 0/602 [00:00<?, ?it/s]",
      "application/vnd.jupyter.widget-view+json": {
       "version_major": 2,
       "version_minor": 0,
       "model_id": "7487e92ee68d49658e3548c61159df4e"
      }
     },
     "metadata": {},
     "output_type": "display_data"
    },
    {
     "name": "stderr",
     "output_type": "stream",
     "text": [
      "Generating walks (CPU: 1): 100%|██████████| 10/10 [00:04<00:00,  2.16it/s]\n"
     ]
    },
    {
     "name": "stdout",
     "output_type": "stream",
     "text": [
      "           Window Size 2\n",
      "Precision       0.923077\n",
      "Recall          0.960000\n",
      "F1-Score        0.941176\n"
     ]
    },
    {
     "data": {
      "text/plain": "Computing transition probabilities:   0%|          | 0/602 [00:00<?, ?it/s]",
      "application/vnd.jupyter.widget-view+json": {
       "version_major": 2,
       "version_minor": 0,
       "model_id": "80c5af283aa24291b68453f86e63d429"
      }
     },
     "metadata": {},
     "output_type": "display_data"
    },
    {
     "name": "stderr",
     "output_type": "stream",
     "text": [
      "Generating walks (CPU: 1): 100%|██████████| 10/10 [00:04<00:00,  2.16it/s]\n"
     ]
    },
    {
     "name": "stdout",
     "output_type": "stream",
     "text": [
      "           Window Size 3\n",
      "Precision       0.961538\n",
      "Recall          1.000000\n",
      "F1-Score        0.980392\n"
     ]
    },
    {
     "data": {
      "text/plain": "Computing transition probabilities:   0%|          | 0/602 [00:00<?, ?it/s]",
      "application/vnd.jupyter.widget-view+json": {
       "version_major": 2,
       "version_minor": 0,
       "model_id": "401b708d8cbc4cf89c6c8348a5dbad48"
      }
     },
     "metadata": {},
     "output_type": "display_data"
    },
    {
     "name": "stderr",
     "output_type": "stream",
     "text": [
      "Generating walks (CPU: 1): 100%|██████████| 10/10 [00:04<00:00,  2.15it/s]\n"
     ]
    },
    {
     "name": "stdout",
     "output_type": "stream",
     "text": [
      "           Window Size 4\n",
      "Precision       0.980392\n",
      "Recall          1.000000\n",
      "F1-Score        0.990099\n"
     ]
    },
    {
     "data": {
      "text/plain": "Computing transition probabilities:   0%|          | 0/602 [00:00<?, ?it/s]",
      "application/vnd.jupyter.widget-view+json": {
       "version_major": 2,
       "version_minor": 0,
       "model_id": "1bfe9437e926479784c3fb9574730953"
      }
     },
     "metadata": {},
     "output_type": "display_data"
    },
    {
     "name": "stderr",
     "output_type": "stream",
     "text": [
      "Generating walks (CPU: 1): 100%|██████████| 10/10 [00:04<00:00,  2.08it/s]\n"
     ]
    },
    {
     "name": "stdout",
     "output_type": "stream",
     "text": [
      "           Window Size 5\n",
      "Precision       0.909091\n",
      "Recall          1.000000\n",
      "F1-Score        0.952381\n"
     ]
    },
    {
     "data": {
      "text/plain": "Computing transition probabilities:   0%|          | 0/602 [00:00<?, ?it/s]",
      "application/vnd.jupyter.widget-view+json": {
       "version_major": 2,
       "version_minor": 0,
       "model_id": "2f600f671e0b44c4a4faad8dc5845106"
      }
     },
     "metadata": {},
     "output_type": "display_data"
    },
    {
     "name": "stderr",
     "output_type": "stream",
     "text": [
      "Generating walks (CPU: 1): 100%|██████████| 10/10 [00:04<00:00,  2.07it/s]\n"
     ]
    },
    {
     "name": "stdout",
     "output_type": "stream",
     "text": [
      "           Window Size 6\n",
      "Precision       0.980392\n",
      "Recall          1.000000\n",
      "F1-Score        0.990099\n"
     ]
    },
    {
     "data": {
      "text/plain": "Computing transition probabilities:   0%|          | 0/602 [00:00<?, ?it/s]",
      "application/vnd.jupyter.widget-view+json": {
       "version_major": 2,
       "version_minor": 0,
       "model_id": "df23e24f908e4598a5fa4062bb6a6067"
      }
     },
     "metadata": {},
     "output_type": "display_data"
    },
    {
     "name": "stderr",
     "output_type": "stream",
     "text": [
      "Generating walks (CPU: 1): 100%|██████████| 10/10 [00:04<00:00,  2.09it/s]\n"
     ]
    },
    {
     "name": "stdout",
     "output_type": "stream",
     "text": [
      "           Window Size 7\n",
      "Precision       0.942308\n",
      "Recall          0.980000\n",
      "F1-Score        0.960784\n"
     ]
    },
    {
     "data": {
      "text/plain": "Computing transition probabilities:   0%|          | 0/602 [00:00<?, ?it/s]",
      "application/vnd.jupyter.widget-view+json": {
       "version_major": 2,
       "version_minor": 0,
       "model_id": "38aef2a43c854a00a6c925a00c5dc71f"
      }
     },
     "metadata": {},
     "output_type": "display_data"
    },
    {
     "name": "stderr",
     "output_type": "stream",
     "text": [
      "Generating walks (CPU: 1): 100%|██████████| 10/10 [00:04<00:00,  2.14it/s]\n"
     ]
    },
    {
     "name": "stdout",
     "output_type": "stream",
     "text": [
      "           Window Size 8\n",
      "Precision           0.98\n",
      "Recall              0.98\n",
      "F1-Score            0.98\n"
     ]
    },
    {
     "data": {
      "text/plain": "Computing transition probabilities:   0%|          | 0/602 [00:00<?, ?it/s]",
      "application/vnd.jupyter.widget-view+json": {
       "version_major": 2,
       "version_minor": 0,
       "model_id": "a42158aeb992425ba264e64d136fb5a7"
      }
     },
     "metadata": {},
     "output_type": "display_data"
    },
    {
     "name": "stderr",
     "output_type": "stream",
     "text": [
      "Generating walks (CPU: 1): 100%|██████████| 10/10 [00:04<00:00,  2.17it/s]\n"
     ]
    },
    {
     "name": "stdout",
     "output_type": "stream",
     "text": [
      "           Window Size 9\n",
      "Precision       0.980392\n",
      "Recall          1.000000\n",
      "F1-Score        0.990099\n"
     ]
    },
    {
     "data": {
      "text/plain": "Computing transition probabilities:   0%|          | 0/602 [00:00<?, ?it/s]",
      "application/vnd.jupyter.widget-view+json": {
       "version_major": 2,
       "version_minor": 0,
       "model_id": "a7718ed63cd0407fbee00c32c83e3fe3"
      }
     },
     "metadata": {},
     "output_type": "display_data"
    },
    {
     "name": "stderr",
     "output_type": "stream",
     "text": [
      "Generating walks (CPU: 1): 100%|██████████| 10/10 [00:04<00:00,  2.09it/s]\n"
     ]
    },
    {
     "name": "stdout",
     "output_type": "stream",
     "text": [
      "           Window Size 10\n",
      "Precision        0.961538\n",
      "Recall           1.000000\n",
      "F1-Score         0.980392\n"
     ]
    }
   ],
   "source": [
    "n = 100\n",
    "\n",
    "graph, test_graph, test_samples, test_labels, train_graph, train_samples, train_labels\\\n",
    "    = TestTrainDataFactory().create_testdata(n, add_predict_edges=True)\n",
    "\n",
    "measures   = []\n",
    "classifier = RandomForestClassifier\n",
    "windows    = [1,2,3,4,5,6,7,8,9,10]\n",
    "dimensions = 16\n",
    "\n",
    "for window in windows:\n",
    "    # create embeddings\n",
    "    embeddings =  EdgeEmbedding(graph.graph, window=window, dimensions=dimensions).embeddings\n",
    "    test_embeddings  = [embeddings[str(x[0]),str(x[1])] for x in test_samples]\n",
    "    train_embeddings = [embeddings[str(x[0]),str(x[1])] for x in train_samples]\n",
    "    # init scores\n",
    "    index = [\"Precision\", \"Recall\", \"F1-Score\"]\n",
    "    score = {}\n",
    "    # train\n",
    "    c = classifier(n_estimators=1000)\n",
    "    c.fit(train_embeddings, train_labels)\n",
    "    # test\n",
    "    y_pred = c.predict(test_embeddings)\n",
    "    # calculate and show scores\n",
    "    name = \"Window Size \" + str(window)\n",
    "    score[name] = [\n",
    "        metrics.precision_score(test_labels, y_pred),\n",
    "        metrics.recall_score(test_labels, y_pred),\n",
    "        metrics.f1_score(test_labels, y_pred)\n",
    "    ]\n",
    "    df = pd.DataFrame(score, index=index)\n",
    "    print(df)\n",
    "    # add score to overall measures\n",
    "    measures.append(score)"
   ],
   "metadata": {
    "collapsed": false,
    "pycharm": {
     "name": "#%%\n"
    }
   }
  },
  {
   "cell_type": "markdown",
   "source": [
    "### Show results"
   ],
   "metadata": {
    "collapsed": false
   }
  },
  {
   "cell_type": "code",
   "execution_count": 3,
   "outputs": [
    {
     "data": {
      "text/plain": "<Figure size 432x288 with 1 Axes>",
      "image/png": "[encoded data removed]"
     },
     "metadata": {
      "needs_background": "light"
     },
     "output_type": "display_data"
    }
   ],
   "source": [
    "ws = []     # window size as x-axis\n",
    "f1 = []     # f1 score as y values\n",
    "\n",
    "for i, score in enumerate(measures):\n",
    "    ws.append(i+1)\n",
    "    for k, v in score.items():\n",
    "        f1.append(v[2])\n",
    "\n",
    "plt.figure()\n",
    "plt.title(\"Node2Vec\\nwith RandomForest Classifier\", fontsize=20, pad=20)\n",
    "plt.xlabel(\"Window Size\", fontsize=12)\n",
    "plt.ylabel(\"F1-Score\", fontsize=12)\n",
    "plt.plot(ws,f1)\n",
    "plt.show()"
   ],
   "metadata": {
    "collapsed": false,
    "pycharm": {
     "name": "#%%\n"
    }
   }
  },
  {
   "cell_type": "markdown",
   "source": [
    "## 7.3 Test Node2Vec Dimensions with RandomForestClassifier\n",
    "\n",
    "### Test and Train\n"
   ],
   "metadata": {
    "collapsed": false
   }
  },
  {
   "cell_type": "code",
   "execution_count": 4,
   "outputs": [
    {
     "data": {
      "text/plain": "Computing transition probabilities:   0%|          | 0/602 [00:00<?, ?it/s]",
      "application/vnd.jupyter.widget-view+json": {
       "version_major": 2,
       "version_minor": 0,
       "model_id": "6d7459498694476baa5e5b8717f47377"
      }
     },
     "metadata": {},
     "output_type": "display_data"
    },
    {
     "name": "stderr",
     "output_type": "stream",
     "text": [
      "Generating walks (CPU: 1): 100%|██████████| 10/10 [00:04<00:00,  2.33it/s]\n"
     ]
    },
    {
     "name": "stdout",
     "output_type": "stream",
     "text": [
      "           Dimension 2\n",
      "Precision     0.711111\n",
      "Recall        0.640000\n",
      "F1-Score      0.673684\n"
     ]
    },
    {
     "data": {
      "text/plain": "Computing transition probabilities:   0%|          | 0/602 [00:00<?, ?it/s]",
      "application/vnd.jupyter.widget-view+json": {
       "version_major": 2,
       "version_minor": 0,
       "model_id": "4a1ce0f9e3674891a6697bf393cdc814"
      }
     },
     "metadata": {},
     "output_type": "display_data"
    },
    {
     "name": "stderr",
     "output_type": "stream",
     "text": [
      "Generating walks (CPU: 1): 100%|██████████| 10/10 [00:04<00:00,  2.30it/s]\n"
     ]
    },
    {
     "name": "stdout",
     "output_type": "stream",
     "text": [
      "           Dimension 4\n",
      "Precision     0.909091\n",
      "Recall        0.800000\n",
      "F1-Score      0.851064\n"
     ]
    },
    {
     "data": {
      "text/plain": "Computing transition probabilities:   0%|          | 0/602 [00:00<?, ?it/s]",
      "application/vnd.jupyter.widget-view+json": {
       "version_major": 2,
       "version_minor": 0,
       "model_id": "8500db262324436a90ea623fa182abc7"
      }
     },
     "metadata": {},
     "output_type": "display_data"
    },
    {
     "name": "stderr",
     "output_type": "stream",
     "text": [
      "Generating walks (CPU: 1): 100%|██████████| 10/10 [00:04<00:00,  2.26it/s]\n"
     ]
    },
    {
     "name": "stdout",
     "output_type": "stream",
     "text": [
      "           Dimension 8\n",
      "Precision     0.830508\n",
      "Recall        0.980000\n",
      "F1-Score      0.899083\n"
     ]
    },
    {
     "data": {
      "text/plain": "Computing transition probabilities:   0%|          | 0/602 [00:00<?, ?it/s]",
      "application/vnd.jupyter.widget-view+json": {
       "version_major": 2,
       "version_minor": 0,
       "model_id": "f7879fcef76845629adbce846f8002ea"
      }
     },
     "metadata": {},
     "output_type": "display_data"
    },
    {
     "name": "stderr",
     "output_type": "stream",
     "text": [
      "Generating walks (CPU: 1): 100%|██████████| 10/10 [00:04<00:00,  2.23it/s]\n"
     ]
    },
    {
     "name": "stdout",
     "output_type": "stream",
     "text": [
      "           Dimension 16\n",
      "Precision      0.961538\n",
      "Recall         1.000000\n",
      "F1-Score       0.980392\n"
     ]
    },
    {
     "data": {
      "text/plain": "Computing transition probabilities:   0%|          | 0/602 [00:00<?, ?it/s]",
      "application/vnd.jupyter.widget-view+json": {
       "version_major": 2,
       "version_minor": 0,
       "model_id": "e0fd0cf225624a6ab4f09d8cb60a04f8"
      }
     },
     "metadata": {},
     "output_type": "display_data"
    },
    {
     "name": "stderr",
     "output_type": "stream",
     "text": [
      "Generating walks (CPU: 1): 100%|██████████| 10/10 [00:05<00:00,  1.82it/s]\n"
     ]
    },
    {
     "name": "stdout",
     "output_type": "stream",
     "text": [
      "           Dimension 32\n",
      "Precision           1.0\n",
      "Recall              1.0\n",
      "F1-Score            1.0\n"
     ]
    },
    {
     "data": {
      "text/plain": "Computing transition probabilities:   0%|          | 0/602 [00:00<?, ?it/s]",
      "application/vnd.jupyter.widget-view+json": {
       "version_major": 2,
       "version_minor": 0,
       "model_id": "3957c2b668354b5782562d95a75fd91c"
      }
     },
     "metadata": {},
     "output_type": "display_data"
    },
    {
     "name": "stderr",
     "output_type": "stream",
     "text": [
      "Generating walks (CPU: 1): 100%|██████████| 10/10 [00:05<00:00,  1.91it/s]\n"
     ]
    },
    {
     "name": "stdout",
     "output_type": "stream",
     "text": [
      "           Dimension 64\n",
      "Precision           1.0\n",
      "Recall              1.0\n",
      "F1-Score            1.0\n"
     ]
    },
    {
     "data": {
      "text/plain": "Computing transition probabilities:   0%|          | 0/602 [00:00<?, ?it/s]",
      "application/vnd.jupyter.widget-view+json": {
       "version_major": 2,
       "version_minor": 0,
       "model_id": "fb416e296b064b23b3c01ccd046c5b5d"
      }
     },
     "metadata": {},
     "output_type": "display_data"
    },
    {
     "name": "stderr",
     "output_type": "stream",
     "text": [
      "Generating walks (CPU: 1): 100%|██████████| 10/10 [00:05<00:00,  1.84it/s]\n"
     ]
    },
    {
     "name": "stdout",
     "output_type": "stream",
     "text": [
      "           Dimension 128\n",
      "Precision            1.0\n",
      "Recall               1.0\n",
      "F1-Score             1.0\n"
     ]
    }
   ],
   "source": [
    "n = 100\n",
    "\n",
    "graph, test_graph, test_samples, test_labels, train_graph, train_samples, train_labels\\\n",
    "    = TestTrainDataFactory().create_testdata(n, add_predict_edges=True)\n",
    "\n",
    "measures   = []\n",
    "classifier = RandomForestClassifier\n",
    "windows    = 8\n",
    "dimensions = [2,4,8,16,32,64,128]\n",
    "\n",
    "for dimension in dimensions:\n",
    "    # create embeddings\n",
    "    embeddings =  EdgeEmbedding(graph.graph, window=window, dimensions=dimension).embeddings\n",
    "    test_embeddings  = [embeddings[str(x[0]),str(x[1])] for x in test_samples]\n",
    "    train_embeddings = [embeddings[str(x[0]),str(x[1])] for x in train_samples]\n",
    "    # init scores\n",
    "    index = [\"Precision\", \"Recall\", \"F1-Score\"]\n",
    "    score = {}\n",
    "    # train\n",
    "    c = classifier(n_estimators=1000)\n",
    "    c.fit(train_embeddings, train_labels)\n",
    "    # test\n",
    "    y_pred = c.predict(test_embeddings)\n",
    "    # calculate and show scores\n",
    "    name = \"Dimension \" + str(dimension)\n",
    "    score[name] = [\n",
    "        metrics.precision_score(test_labels, y_pred),\n",
    "        metrics.recall_score(test_labels, y_pred),\n",
    "        metrics.f1_score(test_labels, y_pred)\n",
    "    ]\n",
    "    df = pd.DataFrame(score, index=index)\n",
    "    print(df)\n",
    "    # add score to overall measures\n",
    "    measures.append(score)"
   ],
   "metadata": {
    "collapsed": false,
    "pycharm": {
     "name": "#%%\n"
    }
   }
  },
  {
   "cell_type": "markdown",
   "source": [
    "### Show results"
   ],
   "metadata": {
    "collapsed": false
   }
  },
  {
   "cell_type": "code",
   "execution_count": 5,
   "outputs": [
    {
     "data": {
      "text/plain": "<Figure size 432x288 with 1 Axes>",
      "image/png": "[encoded data removed]"
     },
     "metadata": {
      "needs_background": "light"
     },
     "output_type": "display_data"
    }
   ],
   "source": [
    "dim = []    # dimension as x-axis\n",
    "f1 = []     # f1 score as y values\n",
    "\n",
    "for score in measures:\n",
    "    for k, v in score.items():\n",
    "        _, d = k.split()\n",
    "        dim.append(d)\n",
    "        f1.append(v[2])\n",
    "\n",
    "plt.figure()\n",
    "plt.title(\"Node2Vec\\nwith RandomForest Classifier\", fontsize=20, pad=20)\n",
    "plt.xlabel(\"Dimensions\", fontsize=12)\n",
    "plt.ylabel(\"F1-Score\", fontsize=12)\n",
    "plt.plot(dim,f1)\n",
    "plt.show()"
   ],
   "metadata": {
    "collapsed": false,
    "pycharm": {
     "name": "#%%\n"
    }
   }
  },
  {
   "cell_type": "markdown",
   "source": [
    "\n",
    "---\n",
    "_The end._"
   ],
   "metadata": {
    "collapsed": false
   }
  }
 ],
 "metadata": {
  "kernelspec": {
   "display_name": "Python 3",
   "language": "python",
   "name": "python3"
  },
  "language_info": {
   "codemirror_mode": {
    "name": "ipython",
    "version": 2
   },
   "file_extension": ".py",
   "mimetype": "text/x-python",
   "name": "python",
   "nbconvert_exporter": "python",
   "pygments_lexer": "ipython2",
   "version": "2.7.6"
  }
 },
 "nbformat": 4,
 "nbformat_minor": 0
}
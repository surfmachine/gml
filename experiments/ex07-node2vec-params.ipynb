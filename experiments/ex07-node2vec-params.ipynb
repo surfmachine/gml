{
 "cells": [
  {
   "cell_type": "markdown",
   "source": [
    "Berner Fachhochschule BFH - MAS Data Science - Graph Machine Learning - Master Thesis FS/2022 Thomas Iten\n",
    "\n",
    "# Experiment 7 - Node2Vec Parameter Tests\n",
    "\n",
    "**Referenzen**<br />\n",
    "[1] https://snap.stanford.edu/node2vec<br />\n",
    "[2] https://stellargraph.readthedocs.io/en/stable/demos/link-prediction/node2vec-link-prediction.html<br />\n",
    "\n"
   ],
   "metadata": {
    "collapsed": false
   }
  },
  {
   "cell_type": "code",
   "execution_count": 1,
   "metadata": {
    "collapsed": true
   },
   "outputs": [],
   "source": [
    "import pandas as pd\n",
    "import matplotlib.pyplot as plt\n",
    "from sklearn.ensemble import RandomForestClassifier\n",
    "from sklearn import metrics\n",
    "from gml.graph.data_factory import TestTrainDataFactory\n",
    "from gml.graph.graph_embedding import EdgeEmbedding\n",
    "%matplotlib inline"
   ]
  },
  {
   "cell_type": "markdown",
   "source": [
    "## 7.1 Data Structure\n",
    "\n",
    "### Datensammlung - Mitarbeiter mit Organisation"
   ],
   "metadata": {
    "collapsed": false
   }
  },
  {
   "cell_type": "markdown",
   "source": [
    "<img src=\"img/test-6.png\" alt=\"Test Scenario 4\" width=\"800\"/>"
   ],
   "metadata": {
    "collapsed": false
   }
  },
  {
   "cell_type": "markdown",
   "source": [
    "## 7.2 Test Node2Vec Window Size with RandomForestClassifier\n",
    "\n",
    "### Test and Train"
   ],
   "metadata": {
    "collapsed": false
   }
  },
  {
   "cell_type": "code",
   "execution_count": 2,
   "outputs": [
    {
     "data": {
      "text/plain": "Computing transition probabilities:   0%|          | 0/602 [00:00<?, ?it/s]",
      "application/vnd.jupyter.widget-view+json": {
       "version_major": 2,
       "version_minor": 0,
       "model_id": "b3788d2d9ce84e858a4d66a9188b0c31"
      }
     },
     "metadata": {},
     "output_type": "display_data"
    },
    {
     "name": "stderr",
     "output_type": "stream",
     "text": [
      "Generating walks (CPU: 1): 100%|██████████| 10/10 [00:03<00:00,  2.75it/s]\n"
     ]
    },
    {
     "name": "stdout",
     "output_type": "stream",
     "text": [
      "           Window Size 1\n",
      "Precision       0.530303\n",
      "Recall          0.700000\n",
      "F1-Score        0.603448\n"
     ]
    },
    {
     "data": {
      "text/plain": "Computing transition probabilities:   0%|          | 0/602 [00:00<?, ?it/s]",
      "application/vnd.jupyter.widget-view+json": {
       "version_major": 2,
       "version_minor": 0,
       "model_id": "73139c343eb64dfb932adfd0691d6282"
      }
     },
     "metadata": {},
     "output_type": "display_data"
    },
    {
     "name": "stderr",
     "output_type": "stream",
     "text": [
      "Generating walks (CPU: 1): 100%|██████████| 10/10 [00:03<00:00,  2.71it/s]\n"
     ]
    },
    {
     "name": "stdout",
     "output_type": "stream",
     "text": [
      "           Window Size 2\n",
      "Precision       0.892857\n",
      "Recall          1.000000\n",
      "F1-Score        0.943396\n"
     ]
    },
    {
     "data": {
      "text/plain": "Computing transition probabilities:   0%|          | 0/602 [00:00<?, ?it/s]",
      "application/vnd.jupyter.widget-view+json": {
       "version_major": 2,
       "version_minor": 0,
       "model_id": "233e9527daa64b5e8682316d7f59f2cc"
      }
     },
     "metadata": {},
     "output_type": "display_data"
    },
    {
     "name": "stderr",
     "output_type": "stream",
     "text": [
      "Generating walks (CPU: 1): 100%|██████████| 10/10 [00:04<00:00,  2.48it/s]\n"
     ]
    },
    {
     "name": "stdout",
     "output_type": "stream",
     "text": [
      "           Window Size 3\n",
      "Precision       0.925926\n",
      "Recall          1.000000\n",
      "F1-Score        0.961538\n"
     ]
    },
    {
     "data": {
      "text/plain": "Computing transition probabilities:   0%|          | 0/602 [00:00<?, ?it/s]",
      "application/vnd.jupyter.widget-view+json": {
       "version_major": 2,
       "version_minor": 0,
       "model_id": "473798843254462ca633c5ec860a8330"
      }
     },
     "metadata": {},
     "output_type": "display_data"
    },
    {
     "name": "stderr",
     "output_type": "stream",
     "text": [
      "Generating walks (CPU: 1): 100%|██████████| 10/10 [00:05<00:00,  1.95it/s]\n"
     ]
    },
    {
     "name": "stdout",
     "output_type": "stream",
     "text": [
      "           Window Size 4\n",
      "Precision       0.925926\n",
      "Recall          1.000000\n",
      "F1-Score        0.961538\n"
     ]
    },
    {
     "data": {
      "text/plain": "Computing transition probabilities:   0%|          | 0/602 [00:00<?, ?it/s]",
      "application/vnd.jupyter.widget-view+json": {
       "version_major": 2,
       "version_minor": 0,
       "model_id": "4a044c182896461d81805011c82e9bd2"
      }
     },
     "metadata": {},
     "output_type": "display_data"
    },
    {
     "name": "stderr",
     "output_type": "stream",
     "text": [
      "Generating walks (CPU: 1): 100%|██████████| 10/10 [00:04<00:00,  2.33it/s]\n"
     ]
    },
    {
     "name": "stdout",
     "output_type": "stream",
     "text": [
      "           Window Size 5\n",
      "Precision       0.890909\n",
      "Recall          0.980000\n",
      "F1-Score        0.933333\n"
     ]
    },
    {
     "data": {
      "text/plain": "Computing transition probabilities:   0%|          | 0/602 [00:00<?, ?it/s]",
      "application/vnd.jupyter.widget-view+json": {
       "version_major": 2,
       "version_minor": 0,
       "model_id": "256c865cf8d54b26947efa12323d40c0"
      }
     },
     "metadata": {},
     "output_type": "display_data"
    },
    {
     "name": "stderr",
     "output_type": "stream",
     "text": [
      "Generating walks (CPU: 1): 100%|██████████| 10/10 [00:03<00:00,  2.53it/s]\n"
     ]
    },
    {
     "name": "stdout",
     "output_type": "stream",
     "text": [
      "           Window Size 6\n",
      "Precision       0.943396\n",
      "Recall          1.000000\n",
      "F1-Score        0.970874\n"
     ]
    },
    {
     "data": {
      "text/plain": "Computing transition probabilities:   0%|          | 0/602 [00:00<?, ?it/s]",
      "application/vnd.jupyter.widget-view+json": {
       "version_major": 2,
       "version_minor": 0,
       "model_id": "cf08b4dde1364776a8cad7290b3b8a15"
      }
     },
     "metadata": {},
     "output_type": "display_data"
    },
    {
     "name": "stderr",
     "output_type": "stream",
     "text": [
      "Generating walks (CPU: 1): 100%|██████████| 10/10 [00:03<00:00,  2.59it/s]\n"
     ]
    },
    {
     "name": "stdout",
     "output_type": "stream",
     "text": [
      "           Window Size 7\n",
      "Precision       0.960784\n",
      "Recall          0.980000\n",
      "F1-Score        0.970297\n"
     ]
    },
    {
     "data": {
      "text/plain": "Computing transition probabilities:   0%|          | 0/602 [00:00<?, ?it/s]",
      "application/vnd.jupyter.widget-view+json": {
       "version_major": 2,
       "version_minor": 0,
       "model_id": "643c2ecf6ada4af782f0626610ed5d68"
      }
     },
     "metadata": {},
     "output_type": "display_data"
    },
    {
     "name": "stderr",
     "output_type": "stream",
     "text": [
      "Generating walks (CPU: 1): 100%|██████████| 10/10 [00:03<00:00,  2.58it/s]\n"
     ]
    },
    {
     "name": "stdout",
     "output_type": "stream",
     "text": [
      "           Window Size 8\n",
      "Precision       0.943396\n",
      "Recall          1.000000\n",
      "F1-Score        0.970874\n"
     ]
    },
    {
     "data": {
      "text/plain": "Computing transition probabilities:   0%|          | 0/602 [00:00<?, ?it/s]",
      "application/vnd.jupyter.widget-view+json": {
       "version_major": 2,
       "version_minor": 0,
       "model_id": "e196f44cbc9544fe873f4a3b07cace65"
      }
     },
     "metadata": {},
     "output_type": "display_data"
    },
    {
     "name": "stderr",
     "output_type": "stream",
     "text": [
      "Generating walks (CPU: 1): 100%|██████████| 10/10 [00:04<00:00,  2.17it/s]\n"
     ]
    },
    {
     "name": "stdout",
     "output_type": "stream",
     "text": [
      "           Window Size 9\n",
      "Precision       0.980392\n",
      "Recall          1.000000\n",
      "F1-Score        0.990099\n"
     ]
    },
    {
     "data": {
      "text/plain": "Computing transition probabilities:   0%|          | 0/602 [00:00<?, ?it/s]",
      "application/vnd.jupyter.widget-view+json": {
       "version_major": 2,
       "version_minor": 0,
       "model_id": "df878633f94742f59ee669cc5518b1a3"
      }
     },
     "metadata": {},
     "output_type": "display_data"
    },
    {
     "name": "stderr",
     "output_type": "stream",
     "text": [
      "Generating walks (CPU: 1): 100%|██████████| 10/10 [00:04<00:00,  2.39it/s]\n"
     ]
    },
    {
     "name": "stdout",
     "output_type": "stream",
     "text": [
      "           Window Size 10\n",
      "Precision        0.909091\n",
      "Recall           1.000000\n",
      "F1-Score         0.952381\n"
     ]
    }
   ],
   "source": [
    "n = 100\n",
    "\n",
    "graph, test_graph, test_samples, test_labels, train_graph, train_samples, train_labels\\\n",
    "    = TestTrainDataFactory().create_testdata(n, add_predict_edges=True)\n",
    "\n",
    "measures   = []\n",
    "classifier = RandomForestClassifier\n",
    "windows    = [1,2,3,4,5,6,7,8,9,10]\n",
    "dimensions = 16\n",
    "\n",
    "for window in windows:\n",
    "    # create embeddings\n",
    "    embeddings =  EdgeEmbedding(graph.graph, window=window, dimensions=dimensions).embeddings\n",
    "    test_embeddings  = [embeddings[str(x[0]),str(x[1])] for x in test_samples]\n",
    "    train_embeddings = [embeddings[str(x[0]),str(x[1])] for x in train_samples]\n",
    "    # init scores\n",
    "    index = [\"Precision\", \"Recall\", \"F1-Score\"]\n",
    "    score = {}\n",
    "    # train\n",
    "    c = classifier(n_estimators=1000)\n",
    "    c.fit(train_embeddings, train_labels)\n",
    "    # test\n",
    "    y_pred = c.predict(test_embeddings)\n",
    "    # calculate and show scores\n",
    "    name = \"Window Size \" + str(window)\n",
    "    score[name] = [\n",
    "        metrics.precision_score(test_labels, y_pred),\n",
    "        metrics.recall_score(test_labels, y_pred),\n",
    "        metrics.f1_score(test_labels, y_pred)\n",
    "    ]\n",
    "    df = pd.DataFrame(score, index=index)\n",
    "    print(df)\n",
    "    # add score to overall measures\n",
    "    measures.append(score)"
   ],
   "metadata": {
    "collapsed": false,
    "pycharm": {
     "name": "#%%\n"
    }
   }
  },
  {
   "cell_type": "markdown",
   "source": [
    "### Show results"
   ],
   "metadata": {
    "collapsed": false
   }
  },
  {
   "cell_type": "code",
   "execution_count": 3,
   "outputs": [
    {
     "data": {
      "text/plain": "<Figure size 432x288 with 1 Axes>",
      "image/png": "[encoded data removed]"
     },
     "metadata": {
      "needs_background": "light"
     },
     "output_type": "display_data"
    }
   ],
   "source": [
    "ws = []     # window size as x-axis\n",
    "f1 = []     # f1 score as y values\n",
    "\n",
    "for i, score in enumerate(measures):\n",
    "    ws.append(i+1)\n",
    "    for k, v in score.items():\n",
    "        f1.append(v[2])\n",
    "\n",
    "plt.figure()\n",
    "plt.title(\"Node2Vec\\nwith RandomForest Classifier\", fontsize=20, pad=20)\n",
    "plt.xlabel(\"Window Size\", fontsize=12)\n",
    "plt.ylabel(\"F1 Score\", fontsize=12)\n",
    "plt.plot(ws,f1)\n",
    "plt.show()"
   ],
   "metadata": {
    "collapsed": false,
    "pycharm": {
     "name": "#%%\n"
    }
   }
  },
  {
   "cell_type": "markdown",
   "source": [
    "## 7.3 Test Node2Vec Dimensions with RandomForestClassifier\n",
    "\n",
    "### Test and Train\n"
   ],
   "metadata": {
    "collapsed": false
   }
  },
  {
   "cell_type": "code",
   "execution_count": 4,
   "outputs": [
    {
     "data": {
      "text/plain": "Computing transition probabilities:   0%|          | 0/602 [00:00<?, ?it/s]",
      "application/vnd.jupyter.widget-view+json": {
       "version_major": 2,
       "version_minor": 0,
       "model_id": "00534a4f6d6448c0911d950c1d4a0f4c"
      }
     },
     "metadata": {},
     "output_type": "display_data"
    },
    {
     "name": "stderr",
     "output_type": "stream",
     "text": [
      "Generating walks (CPU: 1): 100%|██████████| 10/10 [00:03<00:00,  2.53it/s]\n"
     ]
    },
    {
     "name": "stdout",
     "output_type": "stream",
     "text": [
      "           Dimension 2\n",
      "Precision     0.629630\n",
      "Recall        0.680000\n",
      "F1-Score      0.653846\n"
     ]
    },
    {
     "data": {
      "text/plain": "Computing transition probabilities:   0%|          | 0/602 [00:00<?, ?it/s]",
      "application/vnd.jupyter.widget-view+json": {
       "version_major": 2,
       "version_minor": 0,
       "model_id": "194dcd41fd894afd98020a455746600e"
      }
     },
     "metadata": {},
     "output_type": "display_data"
    },
    {
     "name": "stderr",
     "output_type": "stream",
     "text": [
      "Generating walks (CPU: 1): 100%|██████████| 10/10 [00:04<00:00,  2.42it/s]\n"
     ]
    },
    {
     "name": "stdout",
     "output_type": "stream",
     "text": [
      "           Dimension 4\n",
      "Precision     0.806452\n",
      "Recall        1.000000\n",
      "F1-Score      0.892857\n"
     ]
    },
    {
     "data": {
      "text/plain": "Computing transition probabilities:   0%|          | 0/602 [00:00<?, ?it/s]",
      "application/vnd.jupyter.widget-view+json": {
       "version_major": 2,
       "version_minor": 0,
       "model_id": "9dff7d0928f5482d869ca1098ac04071"
      }
     },
     "metadata": {},
     "output_type": "display_data"
    },
    {
     "name": "stderr",
     "output_type": "stream",
     "text": [
      "Generating walks (CPU: 1): 100%|██████████| 10/10 [00:04<00:00,  2.40it/s]\n"
     ]
    },
    {
     "name": "stdout",
     "output_type": "stream",
     "text": [
      "           Dimension 8\n",
      "Precision     0.925926\n",
      "Recall        1.000000\n",
      "F1-Score      0.961538\n"
     ]
    },
    {
     "data": {
      "text/plain": "Computing transition probabilities:   0%|          | 0/602 [00:00<?, ?it/s]",
      "application/vnd.jupyter.widget-view+json": {
       "version_major": 2,
       "version_minor": 0,
       "model_id": "d507e8f967ce4b1b97897af22269d80f"
      }
     },
     "metadata": {},
     "output_type": "display_data"
    },
    {
     "name": "stderr",
     "output_type": "stream",
     "text": [
      "Generating walks (CPU: 1): 100%|██████████| 10/10 [00:03<00:00,  2.54it/s]\n"
     ]
    },
    {
     "name": "stdout",
     "output_type": "stream",
     "text": [
      "           Dimension 16\n",
      "Precision      0.961538\n",
      "Recall         1.000000\n",
      "F1-Score       0.980392\n"
     ]
    },
    {
     "data": {
      "text/plain": "Computing transition probabilities:   0%|          | 0/602 [00:00<?, ?it/s]",
      "application/vnd.jupyter.widget-view+json": {
       "version_major": 2,
       "version_minor": 0,
       "model_id": "ee92159472b647459b508025e59d2649"
      }
     },
     "metadata": {},
     "output_type": "display_data"
    },
    {
     "name": "stderr",
     "output_type": "stream",
     "text": [
      "Generating walks (CPU: 1): 100%|██████████| 10/10 [00:04<00:00,  2.48it/s]\n"
     ]
    },
    {
     "name": "stdout",
     "output_type": "stream",
     "text": [
      "           Dimension 32\n",
      "Precision      0.961538\n",
      "Recall         1.000000\n",
      "F1-Score       0.980392\n"
     ]
    },
    {
     "data": {
      "text/plain": "Computing transition probabilities:   0%|          | 0/602 [00:00<?, ?it/s]",
      "application/vnd.jupyter.widget-view+json": {
       "version_major": 2,
       "version_minor": 0,
       "model_id": "d000f59b5e5c4a5ca5b782195dbbeef8"
      }
     },
     "metadata": {},
     "output_type": "display_data"
    },
    {
     "name": "stderr",
     "output_type": "stream",
     "text": [
      "Generating walks (CPU: 1): 100%|██████████| 10/10 [00:03<00:00,  2.51it/s]\n"
     ]
    },
    {
     "name": "stdout",
     "output_type": "stream",
     "text": [
      "           Dimension 64\n",
      "Precision           1.0\n",
      "Recall              1.0\n",
      "F1-Score            1.0\n"
     ]
    },
    {
     "data": {
      "text/plain": "Computing transition probabilities:   0%|          | 0/602 [00:00<?, ?it/s]",
      "application/vnd.jupyter.widget-view+json": {
       "version_major": 2,
       "version_minor": 0,
       "model_id": "98dbf5f4054f435cbfe0d8a93b914984"
      }
     },
     "metadata": {},
     "output_type": "display_data"
    },
    {
     "name": "stderr",
     "output_type": "stream",
     "text": [
      "Generating walks (CPU: 1): 100%|██████████| 10/10 [00:04<00:00,  2.49it/s]\n"
     ]
    },
    {
     "name": "stdout",
     "output_type": "stream",
     "text": [
      "           Dimension 128\n",
      "Precision       0.980392\n",
      "Recall          1.000000\n",
      "F1-Score        0.990099\n"
     ]
    }
   ],
   "source": [
    "n = 100\n",
    "\n",
    "graph, test_graph, test_samples, test_labels, train_graph, train_samples, train_labels\\\n",
    "    = TestTrainDataFactory().create_testdata(n, add_predict_edges=True)\n",
    "\n",
    "measures   = []\n",
    "classifier = RandomForestClassifier\n",
    "windows    = 8\n",
    "dimensions = [2,4,8,16,32,64,128]\n",
    "\n",
    "for dimension in dimensions:\n",
    "    # create embeddings\n",
    "    embeddings =  EdgeEmbedding(graph.graph, window=window, dimensions=dimension).embeddings\n",
    "    test_embeddings  = [embeddings[str(x[0]),str(x[1])] for x in test_samples]\n",
    "    train_embeddings = [embeddings[str(x[0]),str(x[1])] for x in train_samples]\n",
    "    # init scores\n",
    "    index = [\"Precision\", \"Recall\", \"F1-Score\"]\n",
    "    score = {}\n",
    "    # train\n",
    "    c = classifier(n_estimators=1000)\n",
    "    c.fit(train_embeddings, train_labels)\n",
    "    # test\n",
    "    y_pred = c.predict(test_embeddings)\n",
    "    # calculate and show scores\n",
    "    name = \"Dimension \" + str(dimension)\n",
    "    score[name] = [\n",
    "        metrics.precision_score(test_labels, y_pred),\n",
    "        metrics.recall_score(test_labels, y_pred),\n",
    "        metrics.f1_score(test_labels, y_pred)\n",
    "    ]\n",
    "    df = pd.DataFrame(score, index=index)\n",
    "    print(df)\n",
    "    # add score to overall measures\n",
    "    measures.append(score)"
   ],
   "metadata": {
    "collapsed": false,
    "pycharm": {
     "name": "#%%\n"
    }
   }
  },
  {
   "cell_type": "markdown",
   "source": [
    "### Show results"
   ],
   "metadata": {
    "collapsed": false
   }
  },
  {
   "cell_type": "code",
   "execution_count": 5,
   "outputs": [
    {
     "data": {
      "text/plain": "<Figure size 432x288 with 1 Axes>",
      "image/png": "[encoded data removed]"
     },
     "metadata": {
      "needs_background": "light"
     },
     "output_type": "display_data"
    }
   ],
   "source": [
    "dim = []    # dimension as x-axis\n",
    "f1 = []     # f1 score as y values\n",
    "\n",
    "for score in measures:\n",
    "    for k, v in score.items():\n",
    "        _, d = k.split()\n",
    "        dim.append(d)\n",
    "        f1.append(v[2])\n",
    "\n",
    "plt.figure()\n",
    "plt.title(\"Node2Vec\\nwith RandomForest Classifier\", fontsize=20, pad=20)\n",
    "plt.xlabel(\"Dimensions\", fontsize=12)\n",
    "plt.ylabel(\"F1 Score\", fontsize=12)\n",
    "plt.plot(dim,f1)\n",
    "plt.show()"
   ],
   "metadata": {
    "collapsed": false,
    "pycharm": {
     "name": "#%%\n"
    }
   }
  },
  {
   "cell_type": "markdown",
   "source": [
    "\n",
    "---\n",
    "_The end._"
   ],
   "metadata": {
    "collapsed": false
   }
  }
 ],
 "metadata": {
  "kernelspec": {
   "display_name": "Python 3",
   "language": "python",
   "name": "python3"
  },
  "language_info": {
   "codemirror_mode": {
    "name": "ipython",
    "version": 2
   },
   "file_extension": ".py",
   "mimetype": "text/x-python",
   "name": "python",
   "nbconvert_exporter": "python",
   "pygments_lexer": "ipython2",
   "version": "2.7.6"
  }
 },
 "nbformat": 4,
 "nbformat_minor": 0
}
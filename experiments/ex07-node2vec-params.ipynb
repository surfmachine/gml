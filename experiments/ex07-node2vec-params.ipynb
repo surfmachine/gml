{
 "cells": [
  {
   "cell_type": "markdown",
   "source": [
    "Berner Fachhochschule BFH - MAS Data Science - Graph Machine Learning - Master Thesis FS/2022 Thomas Iten\n",
    "\n",
    "# Experiment 7 - Node2Vec Parameter Tests\n",
    "\n",
    "**Referenzen**<br />\n",
    "[1] https://snap.stanford.edu/node2vec<br />\n",
    "[2] https://stellargraph.readthedocs.io/en/stable/demos/link-prediction/node2vec-link-prediction.html<br />\n",
    "\n"
   ],
   "metadata": {
    "collapsed": false
   }
  },
  {
   "cell_type": "code",
   "execution_count": 1,
   "metadata": {
    "collapsed": true
   },
   "outputs": [],
   "source": [
    "import pandas as pd\n",
    "import matplotlib.pyplot as plt\n",
    "from sklearn.ensemble import RandomForestClassifier\n",
    "from sklearn import metrics\n",
    "from gml.graph.data_factory import TestTrainDataFactory\n",
    "from gml.graph.graph_embedding import EdgeEmbedding\n",
    "%matplotlib inline"
   ]
  },
  {
   "cell_type": "markdown",
   "source": [
    "## 7.1 Data Structure\n",
    "\n",
    "### Datensammlung - Mitarbeiter mit Organisation"
   ],
   "metadata": {
    "collapsed": false
   }
  },
  {
   "cell_type": "markdown",
   "source": [
    "<img src=\"img/test-6.png\" alt=\"Test Scenario 4\" width=\"800\"/>"
   ],
   "metadata": {
    "collapsed": false
   }
  },
  {
   "cell_type": "markdown",
   "source": [
    "## 7.2 Test GraphSAGE Window Size with RandomForestClassifier\n",
    "\n",
    "### Test and Train"
   ],
   "metadata": {
    "collapsed": false
   }
  },
  {
   "cell_type": "code",
   "execution_count": 2,
   "outputs": [
    {
     "data": {
      "text/plain": "Computing transition probabilities:   0%|          | 0/602 [00:00<?, ?it/s]",
      "application/vnd.jupyter.widget-view+json": {
       "version_major": 2,
       "version_minor": 0,
       "model_id": "ce0dcb6a628e43d9962398caf5e3b723"
      }
     },
     "metadata": {},
     "output_type": "display_data"
    },
    {
     "name": "stderr",
     "output_type": "stream",
     "text": [
      "Generating walks (CPU: 1): 100%|██████████| 10/10 [00:04<00:00,  2.05it/s]\n"
     ]
    },
    {
     "name": "stdout",
     "output_type": "stream",
     "text": [
      "           Window Size 1\n",
      "Precision       0.481481\n",
      "Recall          0.520000\n",
      "F1-Score        0.500000\n"
     ]
    },
    {
     "data": {
      "text/plain": "Computing transition probabilities:   0%|          | 0/602 [00:00<?, ?it/s]",
      "application/vnd.jupyter.widget-view+json": {
       "version_major": 2,
       "version_minor": 0,
       "model_id": "61291298a8f44462a460279f9ac1e1ce"
      }
     },
     "metadata": {},
     "output_type": "display_data"
    },
    {
     "name": "stderr",
     "output_type": "stream",
     "text": [
      "Generating walks (CPU: 1): 100%|██████████| 10/10 [00:04<00:00,  2.22it/s]\n"
     ]
    },
    {
     "name": "stdout",
     "output_type": "stream",
     "text": [
      "           Window Size 2\n",
      "Precision           0.98\n",
      "Recall              0.98\n",
      "F1-Score            0.98\n"
     ]
    },
    {
     "data": {
      "text/plain": "Computing transition probabilities:   0%|          | 0/602 [00:00<?, ?it/s]",
      "application/vnd.jupyter.widget-view+json": {
       "version_major": 2,
       "version_minor": 0,
       "model_id": "4629de32e0944aa0b4505e54d26dec26"
      }
     },
     "metadata": {},
     "output_type": "display_data"
    },
    {
     "name": "stderr",
     "output_type": "stream",
     "text": [
      "Generating walks (CPU: 1): 100%|██████████| 10/10 [00:05<00:00,  1.95it/s]\n"
     ]
    },
    {
     "name": "stdout",
     "output_type": "stream",
     "text": [
      "           Window Size 3\n",
      "Precision       0.924528\n",
      "Recall          0.980000\n",
      "F1-Score        0.951456\n"
     ]
    },
    {
     "data": {
      "text/plain": "Computing transition probabilities:   0%|          | 0/602 [00:00<?, ?it/s]",
      "application/vnd.jupyter.widget-view+json": {
       "version_major": 2,
       "version_minor": 0,
       "model_id": "921ace64444546d1ba95b3ff79f60fd9"
      }
     },
     "metadata": {},
     "output_type": "display_data"
    },
    {
     "name": "stderr",
     "output_type": "stream",
     "text": [
      "Generating walks (CPU: 1): 100%|██████████| 10/10 [00:05<00:00,  1.97it/s]\n"
     ]
    },
    {
     "name": "stdout",
     "output_type": "stream",
     "text": [
      "           Window Size 4\n",
      "Precision       0.961538\n",
      "Recall          1.000000\n",
      "F1-Score        0.980392\n"
     ]
    },
    {
     "data": {
      "text/plain": "Computing transition probabilities:   0%|          | 0/602 [00:00<?, ?it/s]",
      "application/vnd.jupyter.widget-view+json": {
       "version_major": 2,
       "version_minor": 0,
       "model_id": "62060ad915104d06b5da558476fd4d11"
      }
     },
     "metadata": {},
     "output_type": "display_data"
    },
    {
     "name": "stderr",
     "output_type": "stream",
     "text": [
      "Generating walks (CPU: 1): 100%|██████████| 10/10 [00:04<00:00,  2.03it/s]\n"
     ]
    },
    {
     "name": "stdout",
     "output_type": "stream",
     "text": [
      "           Window Size 5\n",
      "Precision       0.925926\n",
      "Recall          1.000000\n",
      "F1-Score        0.961538\n"
     ]
    },
    {
     "data": {
      "text/plain": "Computing transition probabilities:   0%|          | 0/602 [00:00<?, ?it/s]",
      "application/vnd.jupyter.widget-view+json": {
       "version_major": 2,
       "version_minor": 0,
       "model_id": "f0809b21676a4abd886647d0cbc48653"
      }
     },
     "metadata": {},
     "output_type": "display_data"
    },
    {
     "name": "stderr",
     "output_type": "stream",
     "text": [
      "Generating walks (CPU: 1): 100%|██████████| 10/10 [00:04<00:00,  2.14it/s]\n"
     ]
    },
    {
     "name": "stdout",
     "output_type": "stream",
     "text": [
      "           Window Size 6\n",
      "Precision       0.943396\n",
      "Recall          1.000000\n",
      "F1-Score        0.970874\n"
     ]
    },
    {
     "data": {
      "text/plain": "Computing transition probabilities:   0%|          | 0/602 [00:00<?, ?it/s]",
      "application/vnd.jupyter.widget-view+json": {
       "version_major": 2,
       "version_minor": 0,
       "model_id": "b9f3d838fe5446f3a9eb2eefbaa04c6a"
      }
     },
     "metadata": {},
     "output_type": "display_data"
    },
    {
     "name": "stderr",
     "output_type": "stream",
     "text": [
      "Generating walks (CPU: 1): 100%|██████████| 10/10 [00:05<00:00,  1.98it/s]\n"
     ]
    },
    {
     "name": "stdout",
     "output_type": "stream",
     "text": [
      "           Window Size 7\n",
      "Precision       0.925926\n",
      "Recall          1.000000\n",
      "F1-Score        0.961538\n"
     ]
    },
    {
     "data": {
      "text/plain": "Computing transition probabilities:   0%|          | 0/602 [00:00<?, ?it/s]",
      "application/vnd.jupyter.widget-view+json": {
       "version_major": 2,
       "version_minor": 0,
       "model_id": "c3f27945b81947bca11d2f71a8cc6a85"
      }
     },
     "metadata": {},
     "output_type": "display_data"
    },
    {
     "name": "stderr",
     "output_type": "stream",
     "text": [
      "Generating walks (CPU: 1): 100%|██████████| 10/10 [00:04<00:00,  2.04it/s]\n"
     ]
    },
    {
     "name": "stdout",
     "output_type": "stream",
     "text": [
      "           Window Size 8\n",
      "Precision       0.909091\n",
      "Recall          1.000000\n",
      "F1-Score        0.952381\n"
     ]
    },
    {
     "data": {
      "text/plain": "Computing transition probabilities:   0%|          | 0/602 [00:00<?, ?it/s]",
      "application/vnd.jupyter.widget-view+json": {
       "version_major": 2,
       "version_minor": 0,
       "model_id": "0fd8a45be82f47e2ba49ff402aa1867c"
      }
     },
     "metadata": {},
     "output_type": "display_data"
    },
    {
     "name": "stderr",
     "output_type": "stream",
     "text": [
      "Generating walks (CPU: 1): 100%|██████████| 10/10 [00:04<00:00,  2.14it/s]\n"
     ]
    },
    {
     "name": "stdout",
     "output_type": "stream",
     "text": [
      "           Window Size 9\n",
      "Precision       0.961538\n",
      "Recall          1.000000\n",
      "F1-Score        0.980392\n"
     ]
    },
    {
     "data": {
      "text/plain": "Computing transition probabilities:   0%|          | 0/602 [00:00<?, ?it/s]",
      "application/vnd.jupyter.widget-view+json": {
       "version_major": 2,
       "version_minor": 0,
       "model_id": "5852104b3abf48b1a8afa3dd4cc1604e"
      }
     },
     "metadata": {},
     "output_type": "display_data"
    },
    {
     "name": "stderr",
     "output_type": "stream",
     "text": [
      "Generating walks (CPU: 1): 100%|██████████| 10/10 [00:04<00:00,  2.40it/s]\n"
     ]
    },
    {
     "name": "stdout",
     "output_type": "stream",
     "text": [
      "           Window Size 10\n",
      "Precision        0.862069\n",
      "Recall           1.000000\n",
      "F1-Score         0.925926\n"
     ]
    }
   ],
   "source": [
    "n = 100\n",
    "\n",
    "graph, test_graph, test_samples, test_labels, train_graph, train_samples, train_labels\\\n",
    "    = TestTrainDataFactory().create_testdata(n, add_predict_edges=True)\n",
    "\n",
    "measures   = []\n",
    "classifier = RandomForestClassifier\n",
    "windows    = [1,2,3,4,5,6,7,8,9,10]\n",
    "dimensions = 16\n",
    "\n",
    "for window in windows:\n",
    "    # create embeddings\n",
    "    embeddings =  EdgeEmbedding(graph.graph, window=window, dimensions=dimensions).embeddings\n",
    "    test_embeddings  = [embeddings[str(x[0]),str(x[1])] for x in test_samples]\n",
    "    train_embeddings = [embeddings[str(x[0]),str(x[1])] for x in train_samples]\n",
    "    # init scores\n",
    "    index = [\"Precision\", \"Recall\", \"F1-Score\"]\n",
    "    score = {}\n",
    "    # train\n",
    "    c = classifier(n_estimators=1000)\n",
    "    c.fit(train_embeddings, train_labels)\n",
    "    # test\n",
    "    y_pred = c.predict(test_embeddings)\n",
    "    # calculate and show scores\n",
    "    name = \"Window Size \" + str(window)\n",
    "    score[name] = [\n",
    "        metrics.precision_score(test_labels, y_pred),\n",
    "        metrics.recall_score(test_labels, y_pred),\n",
    "        metrics.f1_score(test_labels, y_pred)\n",
    "    ]\n",
    "    df = pd.DataFrame(score, index=index)\n",
    "    print(df)\n",
    "    # add score to overall measures\n",
    "    measures.append(score)"
   ],
   "metadata": {
    "collapsed": false,
    "pycharm": {
     "name": "#%%\n"
    }
   }
  },
  {
   "cell_type": "markdown",
   "source": [
    "### Plot results"
   ],
   "metadata": {
    "collapsed": false
   }
  },
  {
   "cell_type": "code",
   "execution_count": 3,
   "outputs": [
    {
     "data": {
      "text/plain": "<Figure size 432x288 with 1 Axes>",
      "image/png": "[encoded data removed]"
     },
     "metadata": {
      "needs_background": "light"
     },
     "output_type": "display_data"
    }
   ],
   "source": [
    "ws = []     # window size as x-axis\n",
    "f1 = []     # f1 score as y values\n",
    "\n",
    "for i, score in enumerate(measures):\n",
    "    ws.append(i+1)\n",
    "    for k, v in score.items():\n",
    "        f1.append(v[2])\n",
    "\n",
    "plt.figure()\n",
    "plt.title(\"GraphSAGE\\nwith RandomForest Classifier\", fontsize=20, pad=20)\n",
    "plt.xlabel(\"Window Size\", fontsize=12)\n",
    "plt.ylabel(\"F1 Score\", fontsize=12)\n",
    "plt.plot(ws,f1)\n",
    "plt.show()"
   ],
   "metadata": {
    "collapsed": false,
    "pycharm": {
     "name": "#%%\n"
    }
   }
  },
  {
   "cell_type": "markdown",
   "source": [
    "## 7.3 Test GraphSAGE Dimensions with RandomForestClassifier\n",
    "\n",
    "### Test and Train\n"
   ],
   "metadata": {
    "collapsed": false
   }
  },
  {
   "cell_type": "code",
   "execution_count": 4,
   "outputs": [
    {
     "data": {
      "text/plain": "Computing transition probabilities:   0%|          | 0/602 [00:00<?, ?it/s]",
      "application/vnd.jupyter.widget-view+json": {
       "version_major": 2,
       "version_minor": 0,
       "model_id": "841d8962458b4e719a0f24f1360579cf"
      }
     },
     "metadata": {},
     "output_type": "display_data"
    },
    {
     "name": "stderr",
     "output_type": "stream",
     "text": [
      "Generating walks (CPU: 1): 100%|██████████| 10/10 [00:04<00:00,  2.36it/s]\n"
     ]
    },
    {
     "name": "stdout",
     "output_type": "stream",
     "text": [
      "           Dimension 2\n",
      "Precision     0.777778\n",
      "Recall        0.840000\n",
      "F1-Score      0.807692\n"
     ]
    },
    {
     "data": {
      "text/plain": "Computing transition probabilities:   0%|          | 0/602 [00:00<?, ?it/s]",
      "application/vnd.jupyter.widget-view+json": {
       "version_major": 2,
       "version_minor": 0,
       "model_id": "3716bc184fc94011a40ae6d8d854c4f7"
      }
     },
     "metadata": {},
     "output_type": "display_data"
    },
    {
     "name": "stderr",
     "output_type": "stream",
     "text": [
      "Generating walks (CPU: 1): 100%|██████████| 10/10 [00:04<00:00,  2.40it/s]\n"
     ]
    },
    {
     "name": "stdout",
     "output_type": "stream",
     "text": [
      "           Dimension 4\n",
      "Precision     0.742424\n",
      "Recall        0.980000\n",
      "F1-Score      0.844828\n"
     ]
    },
    {
     "data": {
      "text/plain": "Computing transition probabilities:   0%|          | 0/602 [00:00<?, ?it/s]",
      "application/vnd.jupyter.widget-view+json": {
       "version_major": 2,
       "version_minor": 0,
       "model_id": "75b5b9ae09fc477d809b6bb0f6454142"
      }
     },
     "metadata": {},
     "output_type": "display_data"
    },
    {
     "name": "stderr",
     "output_type": "stream",
     "text": [
      "Generating walks (CPU: 1): 100%|██████████| 10/10 [00:04<00:00,  2.25it/s]\n"
     ]
    },
    {
     "name": "stdout",
     "output_type": "stream",
     "text": [
      "           Dimension 8\n",
      "Precision     0.819672\n",
      "Recall        1.000000\n",
      "F1-Score      0.900901\n"
     ]
    },
    {
     "data": {
      "text/plain": "Computing transition probabilities:   0%|          | 0/602 [00:00<?, ?it/s]",
      "application/vnd.jupyter.widget-view+json": {
       "version_major": 2,
       "version_minor": 0,
       "model_id": "359aa6a2726c4312aca43f6b2df28822"
      }
     },
     "metadata": {},
     "output_type": "display_data"
    },
    {
     "name": "stderr",
     "output_type": "stream",
     "text": [
      "Generating walks (CPU: 1): 100%|██████████| 10/10 [00:04<00:00,  2.35it/s]\n"
     ]
    },
    {
     "name": "stdout",
     "output_type": "stream",
     "text": [
      "           Dimension 16\n",
      "Precision      0.943396\n",
      "Recall         1.000000\n",
      "F1-Score       0.970874\n"
     ]
    },
    {
     "data": {
      "text/plain": "Computing transition probabilities:   0%|          | 0/602 [00:00<?, ?it/s]",
      "application/vnd.jupyter.widget-view+json": {
       "version_major": 2,
       "version_minor": 0,
       "model_id": "cf454858506840d295c02d2bbf2a6336"
      }
     },
     "metadata": {},
     "output_type": "display_data"
    },
    {
     "name": "stderr",
     "output_type": "stream",
     "text": [
      "Generating walks (CPU: 1): 100%|██████████| 10/10 [00:05<00:00,  1.87it/s]\n"
     ]
    },
    {
     "name": "stdout",
     "output_type": "stream",
     "text": [
      "           Dimension 32\n",
      "Precision      0.980392\n",
      "Recall         1.000000\n",
      "F1-Score       0.990099\n"
     ]
    },
    {
     "data": {
      "text/plain": "Computing transition probabilities:   0%|          | 0/602 [00:00<?, ?it/s]",
      "application/vnd.jupyter.widget-view+json": {
       "version_major": 2,
       "version_minor": 0,
       "model_id": "a3a1bfb9feb2469cabaf55ffb7868ca1"
      }
     },
     "metadata": {},
     "output_type": "display_data"
    },
    {
     "name": "stderr",
     "output_type": "stream",
     "text": [
      "Generating walks (CPU: 1): 100%|██████████| 10/10 [00:04<00:00,  2.07it/s]\n"
     ]
    },
    {
     "name": "stdout",
     "output_type": "stream",
     "text": [
      "           Dimension 64\n",
      "Precision           1.0\n",
      "Recall              1.0\n",
      "F1-Score            1.0\n"
     ]
    },
    {
     "data": {
      "text/plain": "Computing transition probabilities:   0%|          | 0/602 [00:00<?, ?it/s]",
      "application/vnd.jupyter.widget-view+json": {
       "version_major": 2,
       "version_minor": 0,
       "model_id": "0dc5eafebff044189e6b65e3b0606b0c"
      }
     },
     "metadata": {},
     "output_type": "display_data"
    },
    {
     "name": "stderr",
     "output_type": "stream",
     "text": [
      "Generating walks (CPU: 1): 100%|██████████| 10/10 [00:04<00:00,  2.10it/s]\n"
     ]
    },
    {
     "name": "stdout",
     "output_type": "stream",
     "text": [
      "           Dimension 128\n",
      "Precision            1.0\n",
      "Recall               1.0\n",
      "F1-Score             1.0\n"
     ]
    }
   ],
   "source": [
    "n = 100\n",
    "\n",
    "graph, test_graph, test_samples, test_labels, train_graph, train_samples, train_labels\\\n",
    "    = TestTrainDataFactory().create_testdata(n, add_predict_edges=True)\n",
    "\n",
    "measures   = []\n",
    "classifier = RandomForestClassifier\n",
    "windows    = 8\n",
    "dimensions = [2,4,8,16,32,64,128]\n",
    "\n",
    "for dimension in dimensions:\n",
    "    # create embeddings\n",
    "    embeddings =  EdgeEmbedding(graph.graph, window=window, dimensions=dimension).embeddings\n",
    "    test_embeddings  = [embeddings[str(x[0]),str(x[1])] for x in test_samples]\n",
    "    train_embeddings = [embeddings[str(x[0]),str(x[1])] for x in train_samples]\n",
    "    # init scores\n",
    "    index = [\"Precision\", \"Recall\", \"F1-Score\"]\n",
    "    score = {}\n",
    "    # train\n",
    "    c = classifier(n_estimators=1000)\n",
    "    c.fit(train_embeddings, train_labels)\n",
    "    # test\n",
    "    y_pred = c.predict(test_embeddings)\n",
    "    # calculate and show scores\n",
    "    name = \"Dimension \" + str(dimension)\n",
    "    score[name] = [\n",
    "        metrics.precision_score(test_labels, y_pred),\n",
    "        metrics.recall_score(test_labels, y_pred),\n",
    "        metrics.f1_score(test_labels, y_pred)\n",
    "    ]\n",
    "    df = pd.DataFrame(score, index=index)\n",
    "    print(df)\n",
    "    # add score to overall measures\n",
    "    measures.append(score)"
   ],
   "metadata": {
    "collapsed": false,
    "pycharm": {
     "name": "#%%\n"
    }
   }
  },
  {
   "cell_type": "markdown",
   "source": [
    "### Plot results"
   ],
   "metadata": {
    "collapsed": false
   }
  },
  {
   "cell_type": "code",
   "execution_count": 5,
   "outputs": [
    {
     "data": {
      "text/plain": "<Figure size 432x288 with 1 Axes>",
      "image/png": "[encoded data removed]"
     },
     "metadata": {
      "needs_background": "light"
     },
     "output_type": "display_data"
    }
   ],
   "source": [
    "dim = []    # dimension as x-axis\n",
    "f1 = []     # f1 score as y values\n",
    "\n",
    "for score in measures:\n",
    "    for k, v in score.items():\n",
    "        _, d = k.split()\n",
    "        dim.append(d)\n",
    "        f1.append(v[2])\n",
    "\n",
    "plt.figure()\n",
    "plt.title(\"GraphSAGE\\nwith RandomForest Classifier\", fontsize=20, pad=20)\n",
    "plt.xlabel(\"Dimensions\", fontsize=12)\n",
    "plt.ylabel(\"F1 Score\", fontsize=12)\n",
    "plt.plot(dim,f1)\n",
    "plt.show()"
   ],
   "metadata": {
    "collapsed": false,
    "pycharm": {
     "name": "#%%\n"
    }
   }
  },
  {
   "cell_type": "markdown",
   "source": [
    "\n",
    "---\n",
    "_The end._"
   ],
   "metadata": {
    "collapsed": false
   }
  }
 ],
 "metadata": {
  "kernelspec": {
   "display_name": "Python 3",
   "language": "python",
   "name": "python3"
  },
  "language_info": {
   "codemirror_mode": {
    "name": "ipython",
    "version": 2
   },
   "file_extension": ".py",
   "mimetype": "text/x-python",
   "name": "python",
   "nbconvert_exporter": "python",
   "pygments_lexer": "ipython2",
   "version": "2.7.6"
  }
 },
 "nbformat": 4,
 "nbformat_minor": 0
}
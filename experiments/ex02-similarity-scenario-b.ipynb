{
 "cells": [
  {
   "cell_type": "markdown",
   "source": [
    "Berner Fachhochschule BFH - MAS Data Science - Graph Machine Learning - Master Thesis FS/2022 Thomas Iten\n",
    "\n",
    "# Experiment 2 - Similarity Scenario B\n",
    "\n",
    "**Referenzen**<br />\n",
    "[1] https://networkx.org/documentation/stable/reference/algorithms/link_prediction.html<br />\n",
    "[2] Stamile, Marzullo, Deusebio. Graph Machine Learning. Packt Publishing 2021. ISBN 978-1-80020-449-2\n",
    "\n"
   ],
   "metadata": {
    "collapsed": false
   }
  },
  {
   "cell_type": "code",
   "execution_count": 1,
   "metadata": {
    "collapsed": true
   },
   "outputs": [],
   "source": [
    "from gml.graph.graph_link import GraphLink, Algorithm\n",
    "from gml.graph.graph_viz import GraphViz\n",
    "from gml.graph.data_factory import DataFactory, EdgeLabelFactory"
   ]
  },
  {
   "cell_type": "markdown",
   "source": [],
   "metadata": {
    "collapsed": false
   }
  },
  {
   "cell_type": "markdown",
   "source": [
    "## 2.1 Data Structure\n",
    "### Datensammlung - Mitarbeiter"
   ],
   "metadata": {
    "collapsed": false
   }
  },
  {
   "cell_type": "markdown",
   "source": [
    "<img src=\"img/test-scenario2.png\" alt=\"Test Scenario 2\" width=\"800\"/>"
   ],
   "metadata": {
    "collapsed": false
   }
  },
  {
   "cell_type": "markdown",
   "source": [
    "## 2.2 Exploration\n",
    "\n",
    "### Create graph and link predictions for all missing edges"
   ],
   "metadata": {
    "collapsed": false
   }
  },
  {
   "cell_type": "code",
   "execution_count": 2,
   "outputs": [
    {
     "data": {
      "text/plain": "<Figure size 432x432 with 1 Axes>",
      "image/png": "[encoded data removed]"
     },
     "metadata": {},
     "output_type": "display_data"
    },
    {
     "name": "stdout",
     "output_type": "stream",
     "text": [
      "Link Predictions:\n",
      "          Edge    CN  PA        JC        AA\n",
      "0    (GR, EM0)  2.30   8  0.200000  0.910239\n",
      "1     (GR, I0)  1.00   4  0.000000  0.000000\n",
      "2     (GR, F0)  1.00   4  0.000000  0.000000\n",
      "3     (GR, L0)  1.00   4  0.000000  0.000000\n",
      "4    (GR, MC0)  1.00   8  0.000000  0.000000\n",
      "5    (GR, DC0)  2.30   4  0.333333  0.910239\n",
      "6    (GR, EM1)  2.30   8  0.200000  0.910239\n",
      "7     (GR, I1)  1.00   4  0.000000  0.000000\n",
      "8     (GR, F1)  1.00   4  0.000000  0.000000\n",
      "9     (GR, L1)  1.00   4  0.000000  0.000000\n",
      "10   (GR, MC1)  1.00   8  0.000000  0.000000\n",
      "11   (GR, DC1)  2.30   4  0.333333  0.910239\n",
      "12    (OR, DR)  2.30   9  0.200000  1.442695\n",
      "13    (OR, I0)  2.30   6  0.250000  0.721348\n",
      "14    (OR, F0)  2.30   6  0.250000  0.721348\n",
      "15    (OR, L0)  2.30   6  0.250000  0.721348\n",
      "16   (OR, MC0)  1.00  12  0.000000  0.000000\n",
      "17   (OR, DC0)  1.00   6  0.000000  0.000000\n",
      "18    (OR, I1)  2.30   6  0.250000  0.721348\n",
      "19    (OR, F1)  2.30   6  0.250000  0.721348\n",
      "20    (OR, L1)  2.30   6  0.250000  0.721348\n",
      "21   (OR, MC1)  1.00  12  0.000000  0.000000\n",
      "22   (OR, DC1)  1.00   6  0.000000  0.000000\n",
      "23   (DR, EM0)  1.00  12  0.000000  0.000000\n",
      "24    (DR, I0)  1.00   6  0.000000  0.000000\n",
      "25    (DR, F0)  1.00   6  0.000000  0.000000\n",
      "26    (DR, L0)  1.00   6  0.000000  0.000000\n",
      "27   (DR, MC0)  2.30  12  0.166667  1.442695\n",
      "28   (DR, EM1)  1.00  12  0.000000  0.000000\n",
      "29    (DR, I1)  1.00   6  0.000000  0.000000\n",
      "30    (DR, F1)  1.00   6  0.000000  0.000000\n",
      "31    (DR, L1)  1.00   6  0.000000  0.000000\n",
      "32   (DR, MC1)  2.30  12  0.166667  1.442695\n",
      "33  (EM0, MC0)  3.90  16  0.600000  4.328085\n",
      "34  (EM0, DC0)  1.00   8  0.000000  0.000000\n",
      "35  (EM0, EM1)  2.30  16  0.142857  0.910239\n",
      "36   (EM0, I1)  1.00   8  0.000000  0.000000\n",
      "37   (EM0, F1)  1.00   8  0.000000  0.000000\n",
      "38   (EM0, L1)  1.00   8  0.000000  0.000000\n",
      "39  (EM0, MC1)  0.75  16  0.000000  0.000000\n",
      "40  (EM0, DC1)  0.75   8  0.000000  0.000000\n",
      "41    (I0, F0)  3.10   4  1.000000  1.442695\n",
      "42    (I0, L0)  3.10   4  1.000000  1.442695\n",
      "43   (I0, DC0)  2.30   4  0.333333  0.721348\n",
      "44   (I0, EM1)  1.00   8  0.000000  0.000000\n",
      "45    (I0, I1)  0.75   4  0.000000  0.000000\n",
      "46    (I0, F1)  0.75   4  0.000000  0.000000\n",
      "47    (I0, L1)  0.75   4  0.000000  0.000000\n",
      "48   (I0, MC1)  0.60   8  0.000000  0.000000\n",
      "49   (I0, DC1)  0.75   4  0.000000  0.000000\n",
      "50    (F0, L0)  3.10   4  1.000000  1.442695\n",
      "51   (F0, DC0)  2.30   4  0.333333  0.721348\n",
      "52   (F0, EM1)  1.00   8  0.000000  0.000000\n",
      "53    (F0, I1)  0.75   4  0.000000  0.000000\n",
      "54    (F0, F1)  0.75   4  0.000000  0.000000\n",
      "55    (F0, L1)  0.75   4  0.000000  0.000000\n",
      "56   (F0, MC1)  0.60   8  0.000000  0.000000\n",
      "57   (F0, DC1)  0.75   4  0.000000  0.000000\n",
      "58   (L0, DC0)  2.30   4  0.333333  0.721348\n",
      "59   (L0, EM1)  1.00   8  0.000000  0.000000\n",
      "60    (L0, I1)  0.75   4  0.000000  0.000000\n",
      "61    (L0, F1)  0.75   4  0.000000  0.000000\n",
      "62    (L0, L1)  0.75   4  0.000000  0.000000\n",
      "63   (L0, MC1)  0.60   8  0.000000  0.000000\n",
      "64   (L0, DC1)  0.75   4  0.000000  0.000000\n",
      "65  (MC0, EM1)  0.75  16  0.000000  0.000000\n",
      "66   (MC0, I1)  0.60   8  0.000000  0.000000\n",
      "67   (MC0, F1)  0.60   8  0.000000  0.000000\n",
      "68   (MC0, L1)  0.60   8  0.000000  0.000000\n",
      "69  (MC0, MC1)  0.75  16  0.000000  0.000000\n",
      "70  (MC0, DC1)  1.00   8  0.000000  0.000000\n",
      "71  (DC0, EM1)  0.75   8  0.000000  0.000000\n",
      "72   (DC0, I1)  0.75   4  0.000000  0.000000\n",
      "73   (DC0, F1)  0.75   4  0.000000  0.000000\n",
      "74   (DC0, L1)  0.75   4  0.000000  0.000000\n",
      "75  (DC0, MC1)  1.00   8  0.000000  0.000000\n",
      "76  (DC0, DC1)  2.30   4  0.333333  0.910239\n",
      "77  (EM1, MC1)  3.90  16  0.600000  4.328085\n",
      "78  (EM1, DC1)  1.00   8  0.000000  0.000000\n",
      "79    (I1, F1)  3.10   4  1.000000  1.442695\n",
      "80    (I1, L1)  3.10   4  1.000000  1.442695\n",
      "81   (I1, DC1)  2.30   4  0.333333  0.721348\n",
      "82    (F1, L1)  3.10   4  1.000000  1.442695\n",
      "83   (F1, DC1)  2.30   4  0.333333  0.721348\n",
      "84   (L1, DC1)  2.30   4  0.333333  0.721348\n",
      "\n",
      "Legend:\n",
      "  CN  = Common Neighbor Centrality\n",
      "  PA  = Preferential Attachment\n",
      "  JC  = Jaccard Coefficient\n",
      "  AA  = Adamic Adar Index\n"
     ]
    }
   ],
   "source": [
    "graph = DataFactory().create_graph(n=2, connected=True, add_dc=True)\n",
    "graph.draw(layout=GraphViz.SPIRAL_LAYOUT)\n",
    "\n",
    "possible_edges = graph.missing_edges()\n",
    "\n",
    "gl = GraphLink(graph, possible_edges)\\\n",
    "    .predict(Algorithm.COMMON_NEIGHBOR_CENTRALITY)\\\n",
    "    .predict(Algorithm.PREFERENTIAL_ATTACHMENT)\\\n",
    "    .predict(Algorithm.JACCARD_COEFFICIENT)\\\n",
    "    .predict(Algorithm.ADAMIC_ADAR_INDEX)\n",
    "\n",
    "gl.print_results(title=\"Link Predictions:\")"
   ],
   "metadata": {
    "collapsed": false,
    "pycharm": {
     "name": "#%%\n"
    }
   }
  },
  {
   "cell_type": "markdown",
   "source": [
    "### Normalize results, filter edges of interest, label results and show metrics"
   ],
   "metadata": {
    "collapsed": false
   }
  },
  {
   "cell_type": "code",
   "execution_count": 3,
   "outputs": [
    {
     "name": "stdout",
     "output_type": "stream",
     "text": [
      "Predictions normalized:\n",
      "         Edge        CN   PA   JC   AA\n",
      "0  (EM0, DC0)  0.256410  0.5  0.0  0.0\n",
      "1  (EM0, DC1)  0.192308  0.5  0.0  0.0\n",
      "2  (EM1, DC0)  0.192308  0.5  0.0  0.0\n",
      "3  (EM1, DC1)  0.256410  0.5  0.0  0.0\n",
      "\n",
      "Prediction labels with threshold 0.8:\n",
      "         Edge  CN  PA  JC  AA\n",
      "0  (EM0, DC0)   0   0   0   0\n",
      "1  (EM0, DC1)   0   0   0   0\n",
      "2  (EM1, DC0)   0   0   0   0\n",
      "3  (EM1, DC1)   0   0   0   0\n",
      "\n",
      "Metrics:\n",
      "      Metric   CN   PA   JC   AA\n",
      "0  Precision  0.0  0.0  0.0  0.0\n",
      "1     Recall  0.0  0.0  0.0  0.0\n",
      "2   F1-Score  0.0  0.0  0.0  0.0\n",
      "\n",
      "Legend:\n",
      "  CN  = Common Neighbor Centrality\n",
      "  PA  = Preferential Attachment\n",
      "  JC  = Jaccard Coefficient\n",
      "  AA  = Adamic Adar Index\n"
     ]
    }
   ],
   "source": [
    "gl.normalize()\n",
    "gl.filter([(\"EM0\",\"DC0\"),(\"EM0\", \"DC1\"),(\"EM1\",\"DC0\"),(\"EM1\", \"DC1\")])\n",
    "\n",
    "gl.print_results(title=\"Predictions normalized:\", incl_legend=False)\n",
    "print()\n",
    "\n",
    "gl.label(threshold=0.8)\n",
    "gl.print_results(title=\"Prediction labels with threshold 0.8:\", incl_legend=False)\n",
    "print()\n",
    "\n",
    "y_true = [1,0,0,1]\n",
    "gl.print_metrics(y_true, title=\"Metrics:\")"
   ],
   "metadata": {
    "collapsed": false,
    "pycharm": {
     "name": "#%%\n"
    }
   }
  },
  {
   "cell_type": "markdown",
   "source": [
    "## 2.3 Tests\n",
    "\n",
    "### Create link predictions and show metrics for edge samples of interest\n"
   ],
   "metadata": {
    "collapsed": false
   }
  },
  {
   "cell_type": "code",
   "execution_count": 4,
   "outputs": [
    {
     "name": "stdout",
     "output_type": "stream",
     "text": [
      "Metrics\n",
      "      Metric   CN        PA   JC   AA\n",
      "0  Precision  1.0  0.500000  0.0  0.0\n",
      "1     Recall  1.0  1.000000  0.0  0.0\n",
      "2   F1-Score  1.0  0.666667  0.0  0.0\n",
      "\n",
      "Legend:\n",
      "  CN  = Common Neighbor Centrality\n",
      "  PA  = Preferential Attachment\n",
      "  JC  = Jaccard Coefficient\n",
      "  AA  = Adamic Adar Index\n"
     ]
    }
   ],
   "source": [
    "n = 100\n",
    "graph = DataFactory().create_graph(n=n, connected=True, add_dc=True)\n",
    "\n",
    "edges, labels = EdgeLabelFactory().sample(\"DC\", \"EM\", n, p=0.1, shuffle=True)\n",
    "\n",
    "gl = GraphLink(graph, edges)\\\n",
    "    .predict(Algorithm.COMMON_NEIGHBOR_CENTRALITY)\\\n",
    "    .predict(Algorithm.PREFERENTIAL_ATTACHMENT)\\\n",
    "    .predict(Algorithm.JACCARD_COEFFICIENT)\\\n",
    "    .predict(Algorithm.ADAMIC_ADAR_INDEX)\n",
    "\n",
    "gl.normalize()\n",
    "gl.label(threshold=0.8)\n",
    "gl.print_metrics(labels)"
   ],
   "metadata": {
    "collapsed": false,
    "pycharm": {
     "name": "#%%\n"
    }
   }
  },
  {
   "cell_type": "markdown",
   "source": [
    "### Create link predcitions for all possible edges first and then show metrics for edge samples of interest"
   ],
   "metadata": {
    "collapsed": false
   }
  },
  {
   "cell_type": "code",
   "execution_count": 5,
   "outputs": [
    {
     "name": "stdout",
     "output_type": "stream",
     "text": [
      "Metrics\n",
      "      Metric   CN   PA   JC   AA\n",
      "0  Precision  0.0  0.0  0.0  0.0\n",
      "1     Recall  0.0  0.0  0.0  0.0\n",
      "2   F1-Score  0.0  0.0  0.0  0.0\n",
      "\n",
      "Legend:\n",
      "  CN  = Common Neighbor Centrality\n",
      "  PA  = Preferential Attachment\n",
      "  JC  = Jaccard Coefficient\n",
      "  AA  = Adamic Adar Index\n"
     ]
    }
   ],
   "source": [
    "n = 100\n",
    "graph = DataFactory().create_graph(n=n, connected=True, add_dc=True)\n",
    "\n",
    "possible_edges = graph.missing_edges()\n",
    "\n",
    "gl = GraphLink(graph, possible_edges)\\\n",
    "    .predict(Algorithm.COMMON_NEIGHBOR_CENTRALITY)\\\n",
    "    .predict(Algorithm.PREFERENTIAL_ATTACHMENT)\\\n",
    "    .predict(Algorithm.JACCARD_COEFFICIENT)\\\n",
    "    .predict(Algorithm.ADAMIC_ADAR_INDEX)\n",
    "\n",
    "gl.normalize()\n",
    "\n",
    "edges, labels = EdgeLabelFactory().sample(\"DC\", \"EM\", n, p=0.1, shuffle=True)\n",
    "gl.filter(edges)\n",
    "\n",
    "gl.label(threshold=0.8)\n",
    "gl.print_metrics(labels)"
   ],
   "metadata": {
    "collapsed": false,
    "pycharm": {
     "name": "#%%\n"
    }
   }
  },
  {
   "cell_type": "markdown",
   "source": [
    "---\n",
    "_The end._"
   ],
   "metadata": {
    "collapsed": false
   }
  }
 ],
 "metadata": {
  "kernelspec": {
   "display_name": "Python 3",
   "language": "python",
   "name": "python3"
  },
  "language_info": {
   "codemirror_mode": {
    "name": "ipython",
    "version": 2
   },
   "file_extension": ".py",
   "mimetype": "text/x-python",
   "name": "python",
   "nbconvert_exporter": "python",
   "pygments_lexer": "ipython2",
   "version": "2.7.6"
  }
 },
 "nbformat": 4,
 "nbformat_minor": 0
}
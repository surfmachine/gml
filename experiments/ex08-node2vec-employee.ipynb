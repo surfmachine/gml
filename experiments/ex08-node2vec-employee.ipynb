{
 "cells": [
  {
   "cell_type": "markdown",
   "source": [
    "Berner Fachhochschule BFH - MAS Data Science - Graph Machine Learning - Master Thesis FS/2022 Thomas Iten\n",
    "\n",
    "# Experiment 8 - Node2Vec Mitarbieter vs. Mitarbeiter-X Tests\n",
    "\n",
    "**Referenzen**<br />\n",
    "[1] https://snap.stanford.edu/node2vec<br />\n",
    "[2] https://stellargraph.readthedocs.io/en/stable/demos/link-prediction/node2vec-link-prediction.html<br />\n",
    "\n"
   ],
   "metadata": {
    "collapsed": false
   }
  },
  {
   "cell_type": "code",
   "execution_count": 1,
   "metadata": {
    "collapsed": true
   },
   "outputs": [],
   "source": [
    "import pandas as pd\n",
    "from sklearn.ensemble import RandomForestClassifier\n",
    "from sklearn import metrics\n",
    "from gml.graph.data_factory import TestTrainDataFactory, EdgeLabelFactory\n",
    "from gml.graph.graph_embedding import EdgeEmbedding"
   ]
  },
  {
   "cell_type": "markdown",
   "source": [
    "## 8.1 Data Structure\n",
    "\n",
    "### Datensammlung - Mitarbeiter mit Organisation"
   ],
   "metadata": {
    "collapsed": false
   }
  },
  {
   "cell_type": "markdown",
   "source": [
    "<img src=\"img/test-6.png\" alt=\"Test Scenario 4\" width=\"800\"/>"
   ],
   "metadata": {
    "collapsed": false
   }
  },
  {
   "cell_type": "markdown",
   "source": [
    "## 8.2 Test Mitarbeiter\n"
   ],
   "metadata": {
    "collapsed": false
   }
  },
  {
   "cell_type": "code",
   "execution_count": 2,
   "outputs": [
    {
     "name": "stdout",
     "output_type": "stream",
     "text": [
      "Graph dimensions:\n",
      "  order : 12002 (number of nodes)\n",
      "  size  : 24000 (number of edges)\n"
     ]
    }
   ],
   "source": [
    "n = 2000\n",
    "\n",
    "graph, test_graph, test_samples, test_labels, train_graph, train_samples, train_labels \\\n",
    "    = TestTrainDataFactory().create_testdata(n, add_id=False, add_predict_edges=True)\n",
    "\n",
    "graph.print_dimemsions()"
   ],
   "metadata": {
    "collapsed": false,
    "pycharm": {
     "name": "#%%\n"
    }
   }
  },
  {
   "cell_type": "code",
   "execution_count": 4,
   "outputs": [
    {
     "data": {
      "text/plain": "Computing transition probabilities:   0%|          | 0/12002 [00:00<?, ?it/s]",
      "application/vnd.jupyter.widget-view+json": {
       "version_major": 2,
       "version_minor": 0,
       "model_id": "e0bd9717d9bb47ae9fdf997a8a9fa599"
      }
     },
     "metadata": {},
     "output_type": "display_data"
    },
    {
     "name": "stderr",
     "output_type": "stream",
     "text": [
      "\n",
      "Generating walks (CPU: 1):   0%|          | 0/10 [00:00<?, ?it/s]\u001B[A\n",
      "Generating walks (CPU: 1):  20%|██        | 2/10 [01:31<06:05, 45.65s/it]\u001B[A\n",
      "Generating walks (CPU: 1):  30%|███       | 3/10 [02:49<06:53, 59.14s/it]\u001B[A\n",
      "Generating walks (CPU: 1):  40%|████      | 4/10 [04:02<06:27, 64.52s/it]\u001B[A\n",
      "Generating walks (CPU: 1):  50%|█████     | 5/10 [05:18<05:41, 68.38s/it]\u001B[A\n",
      "Generating walks (CPU: 1):  60%|██████    | 6/10 [06:32<04:41, 70.30s/it]\u001B[A\n",
      "Generating walks (CPU: 1):  70%|███████   | 7/10 [07:48<03:36, 72.04s/it]\u001B[A\n",
      "Generating walks (CPU: 1):  80%|████████  | 8/10 [09:03<02:26, 73.15s/it]\u001B[A\n",
      "Generating walks (CPU: 1):  90%|█████████ | 9/10 [10:19<01:13, 73.84s/it]\u001B[A\n",
      "Generating walks (CPU: 1): 100%|██████████| 10/10 [12:48<00:00, 76.89s/it]\u001B[A\n"
     ]
    },
    {
     "name": "stdout",
     "output_type": "stream",
     "text": [
      "           RandomForestClassifier\n",
      "Precision                     1.0\n",
      "Recall                        1.0\n",
      "F1-Score                      1.0\n"
     ]
    }
   ],
   "source": [
    "window = 8\n",
    "dimensions = 64\n",
    "embeddings =  EdgeEmbedding(graph.graph, window=window, dimensions=dimensions).embeddings\n",
    "\n",
    "test_embeddings  = [embeddings[str(x[0]),str(x[1])] for x in test_samples]\n",
    "train_embeddings = [embeddings[str(x[0]),str(x[1])] for x in train_samples]\n",
    "\n",
    "classifier = RandomForestClassifier\n",
    "c = classifier(n_estimators=1000)\n",
    "c.fit(train_embeddings, train_labels)\n",
    "y_pred = c.predict(test_embeddings)\n",
    "\n",
    "name  = classifier.__name__\n",
    "index = [\"Precision\", \"Recall\", \"F1-Score\"]\n",
    "score = {}\n",
    "\n",
    "score[name] = [\n",
    "    metrics.precision_score(test_labels, y_pred),\n",
    "    metrics.recall_score(test_labels, y_pred),\n",
    "    metrics.f1_score(test_labels, y_pred)\n",
    "]\n",
    "\n",
    "df = pd.DataFrame(score, index=index)\n",
    "print(df)"
   ],
   "metadata": {
    "collapsed": false,
    "pycharm": {
     "name": "#%%\n"
    }
   }
  },
  {
   "cell_type": "markdown",
   "source": [
    "## 8.3 Test mit Mitarbeiter X\n",
    "\n",
    "### Generate link predictions EM-DC (positive) and EMx-DC (negative)"
   ],
   "metadata": {
    "collapsed": false
   }
  },
  {
   "cell_type": "code",
   "execution_count": 5,
   "outputs": [
    {
     "name": "stdout",
     "output_type": "stream",
     "text": [
      "New Testdata set with EM and EMx\n",
      "[('DC1581', 'EM1581'), ('DC1591', 'EM1591'), ('EM508x', 'DC508'), ('EM1490x', 'DC1490'), ('DC823', 'EM823x'), ('EM1552', 'DC1552'), ('DC519', 'EM519'), ('EM1494x', 'DC1494'), ('EM724', 'DC724'), ('EM1548', 'DC1548')] ...\n",
      "[1, 1, 0, 0, 0, 1, 1, 0, 1, 1] ...\n"
     ]
    }
   ],
   "source": [
    "# Filter positive edges\n",
    "pos_samples = []\n",
    "for i in range(len(test_labels)):\n",
    "    sample = test_samples[i]\n",
    "    label = test_labels[i]\n",
    "    if label == 1:\n",
    "        pos_samples.append(sample)\n",
    "\n",
    "# Generate negative samples by appending an x to the employee\n",
    "neg_samples = []\n",
    "for sample in pos_samples:\n",
    "    from_node = sample[0]\n",
    "    to_node = sample[1]\n",
    "    if from_node.startswith(\"EM\"):\n",
    "        from_node = from_node + \"x\"\n",
    "    if to_node.startswith(\"EM\"):\n",
    "        to_node = to_node + \"x\"\n",
    "    neg_samples.append((from_node, to_node))\n",
    "\n",
    "\n",
    "# Generate new test data set\n",
    "pos_labels = [1 for _ in range(len(pos_samples))]\n",
    "neg_labels = [0 for _ in range(len(neg_samples))]\n",
    "\n",
    "# Combine and shuffle samples\n",
    "samples = pos_samples\n",
    "samples.extend(neg_samples)\n",
    "labels = pos_labels\n",
    "labels.extend(neg_labels)\n",
    "test_samples, test_labels = EdgeLabelFactory().shuffle(samples, labels)\n",
    "\n",
    "# Generate new test embeddings\n",
    "test_embeddings  = [embeddings[str(x[0]),str(x[1])] for x in test_samples]\n",
    "\n",
    "print(\"New Testdata set with EM and EMx\")\n",
    "print(test_samples[:10], \"...\")\n",
    "print(test_labels[:10], \"...\")"
   ],
   "metadata": {
    "collapsed": false,
    "pycharm": {
     "name": "#%%\n"
    }
   }
  },
  {
   "cell_type": "markdown",
   "source": [
    "### Train and Test"
   ],
   "metadata": {
    "collapsed": false
   }
  },
  {
   "cell_type": "code",
   "execution_count": 6,
   "outputs": [
    {
     "name": "stdout",
     "output_type": "stream",
     "text": [
      "           RandomForestClassifier\n",
      "Precision                0.566893\n",
      "Recall                   1.000000\n",
      "F1-Score                 0.723589\n"
     ]
    }
   ],
   "source": [
    "classifier = RandomForestClassifier\n",
    "c = classifier(n_estimators=1000)\n",
    "c.fit(train_embeddings, train_labels)\n",
    "y_pred = c.predict(test_embeddings)\n",
    "\n",
    "name  = classifier.__name__\n",
    "index = [\"Precision\", \"Recall\", \"F1-Score\"]\n",
    "score = {}\n",
    "\n",
    "score[name] = [\n",
    "    metrics.precision_score(test_labels, y_pred),\n",
    "    metrics.recall_score(test_labels, y_pred),\n",
    "    metrics.f1_score(test_labels, y_pred)\n",
    "]\n",
    "\n",
    "df = pd.DataFrame(score, index=index)\n",
    "print(df)"
   ],
   "metadata": {
    "collapsed": false,
    "pycharm": {
     "name": "#%%\n"
    }
   }
  },
  {
   "cell_type": "markdown",
   "source": [
    "### Test mit Threshold 0.8"
   ],
   "metadata": {
    "collapsed": false
   }
  },
  {
   "cell_type": "code",
   "execution_count": 8,
   "outputs": [
    {
     "name": "stdout",
     "output_type": "stream",
     "text": [
      "           RandomForestClassifier\n",
      "Precision                0.937178\n",
      "Recall                   0.910000\n",
      "F1-Score                 0.923389\n"
     ]
    }
   ],
   "source": [
    "y_pred = (c.predict_proba(test_embeddings)[:,1] >= 0.8).astype(bool)\n",
    "\n",
    "name  = classifier.__name__\n",
    "index = [\"Precision\", \"Recall\", \"F1-Score\"]\n",
    "score = {}\n",
    "\n",
    "score[name] = [\n",
    "    metrics.precision_score(test_labels, y_pred),\n",
    "    metrics.recall_score(test_labels, y_pred),\n",
    "    metrics.f1_score(test_labels, y_pred)\n",
    "]\n",
    "\n",
    "df = pd.DataFrame(score, index=index)\n",
    "print(df)"
   ],
   "metadata": {
    "collapsed": false,
    "pycharm": {
     "name": "#%%\n"
    }
   }
  },
  {
   "cell_type": "markdown",
   "source": [
    "## 8.4 Test mit Mitarbieter X ohne Organisation"
   ],
   "metadata": {
    "collapsed": false
   }
  },
  {
   "cell_type": "code",
   "execution_count": 9,
   "outputs": [
    {
     "name": "stdout",
     "output_type": "stream",
     "text": [
      "Graph dimensions:\n",
      "  order : 12000 (number of nodes)\n",
      "  size  : 16000 (number of edges)\n"
     ]
    }
   ],
   "source": [
    "graph, test_graph, test_samples, test_labels, train_graph, train_samples, train_labels\\\n",
    "    = TestTrainDataFactory().create_testdata(n, add_id=False, add_predict_edges=True, add_org=False)\n",
    "\n",
    "graph.print_dimemsions()"
   ],
   "metadata": {
    "collapsed": false,
    "pycharm": {
     "name": "#%%\n"
    }
   }
  },
  {
   "cell_type": "code",
   "execution_count": 10,
   "outputs": [
    {
     "data": {
      "text/plain": "Computing transition probabilities:   0%|          | 0/12000 [00:00<?, ?it/s]",
      "application/vnd.jupyter.widget-view+json": {
       "version_major": 2,
       "version_minor": 0,
       "model_id": "baf25e324da24cd49398eebd9208e52c"
      }
     },
     "metadata": {},
     "output_type": "display_data"
    },
    {
     "name": "stderr",
     "output_type": "stream",
     "text": [
      "\n",
      "Generating walks (CPU: 1):   0%|          | 0/10 [00:00<?, ?it/s]\u001B[A\n",
      "Generating walks (CPU: 1):  20%|██        | 2/10 [00:03<00:13,  1.63s/it]\u001B[A\n",
      "Generating walks (CPU: 1):  30%|███       | 3/10 [00:06<00:16,  2.34s/it]\u001B[A\n",
      "Generating walks (CPU: 1):  40%|████      | 4/10 [00:09<00:16,  2.71s/it]\u001B[A\n",
      "Generating walks (CPU: 1):  50%|█████     | 5/10 [00:13<00:14,  2.91s/it]\u001B[A\n",
      "Generating walks (CPU: 1):  60%|██████    | 6/10 [00:16<00:12,  3.07s/it]\u001B[A\n",
      "Generating walks (CPU: 1):  70%|███████   | 7/10 [00:20<00:09,  3.18s/it]\u001B[A\n",
      "Generating walks (CPU: 1):  80%|████████  | 8/10 [00:23<00:06,  3.24s/it]\u001B[A\n",
      "Generating walks (CPU: 1):  90%|█████████ | 9/10 [00:26<00:03,  3.29s/it]\u001B[A\n",
      "Generating walks (CPU: 1): 100%|██████████| 10/10 [00:33<00:00,  3.36s/it]\u001B[A\n"
     ]
    },
    {
     "name": "stdout",
     "output_type": "stream",
     "text": [
      "Embedding shape:\n",
      "Nodes    = 12000 (number of nodes)\n",
      "Features = 64 (number of features per node)\n"
     ]
    }
   ],
   "source": [
    "window = 8\n",
    "dimensions = 64\n",
    "embeddings =  EdgeEmbedding(graph.graph, window=window, dimensions=dimensions).embeddings\n",
    "\n",
    "test_embeddings  = [embeddings[str(x[0]),str(x[1])] for x in test_samples]\n",
    "train_embeddings = [embeddings[str(x[0]),str(x[1])] for x in train_samples]\n",
    "\n",
    "print(\"Embedding shape:\")\n",
    "print(\"Nodes    =\", str(embeddings.kv.vectors.shape[0]), \"(number of nodes)\")\n",
    "print(\"Features =\", embeddings.kv.vectors.shape[1], \"(number of features per node)\")"
   ],
   "metadata": {
    "collapsed": false,
    "pycharm": {
     "name": "#%%\n"
    }
   }
  },
  {
   "cell_type": "code",
   "execution_count": 11,
   "outputs": [
    {
     "name": "stdout",
     "output_type": "stream",
     "text": [
      "New Testdata set with EM and EMx\n",
      "[('EM664', 'DC664'), ('DC259', 'EM259'), ('EM958', 'DC958'), ('DC359', 'EM359x'), ('EM670', 'DC670'), ('DC1011', 'EM1011'), ('EM1756x', 'DC1756'), ('DC1167', 'EM1167x'), ('EM196x', 'DC196'), ('DC905', 'EM905x')] ...\n",
      "[1, 1, 1, 0, 1, 1, 0, 0, 0, 0] ...\n"
     ]
    }
   ],
   "source": [
    "# Filter positive edges\n",
    "pos_samples = []\n",
    "for i in range(len(test_labels)):\n",
    "    sample = test_samples[i]\n",
    "    label = test_labels[i]\n",
    "    if label == 1:\n",
    "        pos_samples.append(sample)\n",
    "\n",
    "# Generate negative samples by appending an x to the employee\n",
    "neg_samples = []\n",
    "for sample in pos_samples:\n",
    "    from_node = sample[0]\n",
    "    to_node = sample[1]\n",
    "    if from_node.startswith(\"EM\"):\n",
    "        from_node = from_node + \"x\"\n",
    "    if to_node.startswith(\"EM\"):\n",
    "        to_node = to_node + \"x\"\n",
    "    neg_samples.append((from_node, to_node))\n",
    "\n",
    "\n",
    "# Generate new test data set\n",
    "pos_labels = [1 for _ in range(len(pos_samples))]\n",
    "neg_labels = [0 for _ in range(len(neg_samples))]\n",
    "\n",
    "# Combine and shuffle samples\n",
    "samples = pos_samples\n",
    "samples.extend(neg_samples)\n",
    "labels = pos_labels\n",
    "labels.extend(neg_labels)\n",
    "test_samples, test_labels = EdgeLabelFactory().shuffle(samples, labels)\n",
    "\n",
    "# Generate new test embeddings\n",
    "test_embeddings  = [embeddings[str(x[0]),str(x[1])] for x in test_samples]\n",
    "\n",
    "print(\"New Testdata set with EM and EMx\")\n",
    "print(test_samples[:10], \"...\")\n",
    "print(test_labels[:10], \"...\")"
   ],
   "metadata": {
    "collapsed": false,
    "pycharm": {
     "name": "#%%\n"
    }
   }
  },
  {
   "cell_type": "code",
   "execution_count": 12,
   "outputs": [
    {
     "name": "stdout",
     "output_type": "stream",
     "text": [
      "           RandomForestClassifier\n",
      "Precision                0.500504\n",
      "Recall                   0.993000\n",
      "F1-Score                 0.665550\n"
     ]
    }
   ],
   "source": [
    "classifier = RandomForestClassifier\n",
    "c = classifier(n_estimators=1000)\n",
    "c.fit(train_embeddings, train_labels)\n",
    "y_pred = c.predict(test_embeddings)\n",
    "\n",
    "name  = classifier.__name__\n",
    "index = [\"Precision\", \"Recall\", \"F1-Score\"]\n",
    "score = {}\n",
    "\n",
    "score[name] = [\n",
    "    metrics.precision_score(test_labels, y_pred),\n",
    "    metrics.recall_score(test_labels, y_pred),\n",
    "    metrics.f1_score(test_labels, y_pred)\n",
    "]\n",
    "\n",
    "df = pd.DataFrame(score, index=index)\n",
    "print(df)"
   ],
   "metadata": {
    "collapsed": false,
    "pycharm": {
     "name": "#%%\n"
    }
   }
  },
  {
   "cell_type": "markdown",
   "source": [
    "\n",
    "---\n",
    "_The end._"
   ],
   "metadata": {
    "collapsed": false
   }
  }
 ],
 "metadata": {
  "kernelspec": {
   "display_name": "Python 3",
   "language": "python",
   "name": "python3"
  },
  "language_info": {
   "codemirror_mode": {
    "name": "ipython",
    "version": 2
   },
   "file_extension": ".py",
   "mimetype": "text/x-python",
   "name": "python",
   "nbconvert_exporter": "python",
   "pygments_lexer": "ipython2",
   "version": "2.7.6"
  }
 },
 "nbformat": 4,
 "nbformat_minor": 0
}
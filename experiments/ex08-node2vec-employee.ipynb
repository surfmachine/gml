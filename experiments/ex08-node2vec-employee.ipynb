{
 "cells": [
  {
   "cell_type": "markdown",
   "source": [
    "Berner Fachhochschule BFH - MAS Data Science - Graph Machine Learning - Master Thesis FS/2022 Thomas Iten\n",
    "\n",
    "# Experiment 8 - Node2Vec Mitarbieter vs. Mitarbeiter X Tests\n",
    "\n",
    "**Referenzen**<br />\n",
    "[1] https://snap.stanford.edu/node2vec<br />\n",
    "[2] https://stellargraph.readthedocs.io/en/stable/demos/link-prediction/node2vec-link-prediction.html<br />\n",
    "\n"
   ],
   "metadata": {
    "collapsed": false
   }
  },
  {
   "cell_type": "code",
   "execution_count": 1,
   "metadata": {
    "collapsed": true
   },
   "outputs": [],
   "source": [
    "import pandas as pd\n",
    "from sklearn.ensemble import RandomForestClassifier\n",
    "from sklearn import metrics\n",
    "from gml.graph.data_factory import TestTrainDataFactory, EdgeLabelFactory\n",
    "from gml.graph.graph_embedding import EdgeEmbedding"
   ]
  },
  {
   "cell_type": "markdown",
   "source": [
    "## 8.1 Data Structure\n",
    "\n",
    "### Datensammlung - Mitarbeiter mit Organisation"
   ],
   "metadata": {
    "collapsed": false
   }
  },
  {
   "cell_type": "markdown",
   "source": [
    "<img src=\"img/test-6.png\" alt=\"Test Scenario 4\" width=\"800\"/>"
   ],
   "metadata": {
    "collapsed": false
   }
  },
  {
   "cell_type": "markdown",
   "source": [
    "## 8.2 Test Mitarbeiter\n"
   ],
   "metadata": {
    "collapsed": false
   }
  },
  {
   "cell_type": "code",
   "execution_count": 2,
   "outputs": [
    {
     "name": "stdout",
     "output_type": "stream",
     "text": [
      "Graph dimensions:\n",
      "  order : 12002 (number of nodes)\n",
      "  size  : 24000 (number of edges)\n"
     ]
    }
   ],
   "source": [
    "n = 2000\n",
    "\n",
    "graph, test_graph, test_samples, test_labels, train_graph, train_samples, train_labels \\\n",
    "    = TestTrainDataFactory().create_testdata(n, add_id=False, add_predict_edges=True)\n",
    "\n",
    "graph.print_dimemsions()"
   ],
   "metadata": {
    "collapsed": false,
    "pycharm": {
     "name": "#%%\n"
    }
   }
  },
  {
   "cell_type": "code",
   "execution_count": 3,
   "outputs": [
    {
     "data": {
      "text/plain": "Computing transition probabilities:   0%|          | 0/12002 [00:00<?, ?it/s]",
      "application/vnd.jupyter.widget-view+json": {
       "version_major": 2,
       "version_minor": 0,
       "model_id": "4203314002434c6b8bbfe360d2ef0ee5"
      }
     },
     "metadata": {},
     "output_type": "display_data"
    },
    {
     "name": "stderr",
     "output_type": "stream",
     "text": [
      "Generating walks (CPU: 1): 100%|██████████| 10/10 [14:03<00:00, 84.33s/it]\n"
     ]
    },
    {
     "name": "stdout",
     "output_type": "stream",
     "text": [
      "           RandomForestClassifier\n",
      "Precision                     1.0\n",
      "Recall                        1.0\n",
      "F1-Score                      1.0\n"
     ]
    }
   ],
   "source": [
    "window = 8\n",
    "dimensions = 64\n",
    "embeddings =  EdgeEmbedding(graph.graph, window=window, dimensions=dimensions).embeddings\n",
    "\n",
    "test_embeddings  = [embeddings[str(x[0]),str(x[1])] for x in test_samples]\n",
    "train_embeddings = [embeddings[str(x[0]),str(x[1])] for x in train_samples]\n",
    "\n",
    "classifier = RandomForestClassifier\n",
    "c = classifier(n_estimators=1000)\n",
    "c.fit(train_embeddings, train_labels)\n",
    "y_pred = c.predict(test_embeddings)\n",
    "\n",
    "name  = classifier.__name__\n",
    "index = [\"Precision\", \"Recall\", \"F1-Score\"]\n",
    "score = {}\n",
    "\n",
    "score[name] = [\n",
    "    metrics.precision_score(test_labels, y_pred),\n",
    "    metrics.recall_score(test_labels, y_pred),\n",
    "    metrics.f1_score(test_labels, y_pred)\n",
    "]\n",
    "\n",
    "df = pd.DataFrame(score, index=index)\n",
    "print(df)"
   ],
   "metadata": {
    "collapsed": false,
    "pycharm": {
     "name": "#%%\n"
    }
   }
  },
  {
   "cell_type": "markdown",
   "source": [
    "## 8.3 Test mit Mitarbeiter X\n",
    "\n",
    "### Generate link predictions EM-DC (positive) and EMx-DC (negative)"
   ],
   "metadata": {
    "collapsed": false
   }
  },
  {
   "cell_type": "code",
   "execution_count": 4,
   "outputs": [
    {
     "name": "stdout",
     "output_type": "stream",
     "text": [
      "New Testdata set with EM and EMx\n",
      "[('DC1325', 'EM1325x'), ('DC1735', 'EM1735'), ('DC1217', 'EM1217x'), ('DC1279', 'EM1279x'), ('EM1684', 'DC1684'), ('DC1383', 'EM1383x'), ('EM670x', 'DC670'), ('EM1688x', 'DC1688'), ('DC1613', 'EM1613x'), ('EM1466x', 'DC1466')] ...\n",
      "[0, 1, 0, 0, 1, 0, 0, 0, 0, 0] ...\n"
     ]
    }
   ],
   "source": [
    "# Filter positive edges\n",
    "pos_samples = []\n",
    "for i in range(len(test_labels)):\n",
    "    sample = test_samples[i]\n",
    "    label = test_labels[i]\n",
    "    if label == 1:\n",
    "        pos_samples.append(sample)\n",
    "\n",
    "# Generate negative samples by appending an x to the employee\n",
    "neg_samples = []\n",
    "for sample in pos_samples:\n",
    "    from_node = sample[0]\n",
    "    to_node = sample[1]\n",
    "    if from_node.startswith(\"EM\"):\n",
    "        from_node = from_node + \"x\"\n",
    "    if to_node.startswith(\"EM\"):\n",
    "        to_node = to_node + \"x\"\n",
    "    neg_samples.append((from_node, to_node))\n",
    "\n",
    "\n",
    "# Generate new test data set\n",
    "pos_labels = [1 for _ in range(len(pos_samples))]\n",
    "neg_labels = [0 for _ in range(len(neg_samples))]\n",
    "\n",
    "# Combine and shuffle samples\n",
    "samples = pos_samples\n",
    "samples.extend(neg_samples)\n",
    "labels = pos_labels\n",
    "labels.extend(neg_labels)\n",
    "test_samples, test_labels = EdgeLabelFactory().shuffle(samples, labels)\n",
    "\n",
    "# Generate new test embeddings\n",
    "test_embeddings  = [embeddings[str(x[0]),str(x[1])] for x in test_samples]\n",
    "\n",
    "print(\"New Testdata set with EM and EMx\")\n",
    "print(test_samples[:10], \"...\")\n",
    "print(test_labels[:10], \"...\")"
   ],
   "metadata": {
    "collapsed": false,
    "pycharm": {
     "name": "#%%\n"
    }
   }
  },
  {
   "cell_type": "markdown",
   "source": [
    "### Train and Test"
   ],
   "metadata": {
    "collapsed": false
   }
  },
  {
   "cell_type": "code",
   "execution_count": 5,
   "outputs": [
    {
     "name": "stdout",
     "output_type": "stream",
     "text": [
      "           RandomForestClassifier\n",
      "Precision                0.604961\n",
      "Recall                   1.000000\n",
      "F1-Score                 0.753864\n"
     ]
    }
   ],
   "source": [
    "classifier = RandomForestClassifier\n",
    "c = classifier(n_estimators=1000)\n",
    "c.fit(train_embeddings, train_labels)\n",
    "y_pred = c.predict(test_embeddings)\n",
    "\n",
    "name  = classifier.__name__\n",
    "index = [\"Precision\", \"Recall\", \"F1-Score\"]\n",
    "score = {}\n",
    "\n",
    "score[name] = [\n",
    "    metrics.precision_score(test_labels, y_pred),\n",
    "    metrics.recall_score(test_labels, y_pred),\n",
    "    metrics.f1_score(test_labels, y_pred)\n",
    "]\n",
    "\n",
    "df = pd.DataFrame(score, index=index)\n",
    "print(df)"
   ],
   "metadata": {
    "collapsed": false,
    "pycharm": {
     "name": "#%%\n"
    }
   }
  },
  {
   "cell_type": "markdown",
   "source": [
    "## 8.4 Test mit Mitarbieter X ohne Organisation"
   ],
   "metadata": {
    "collapsed": false
   }
  },
  {
   "cell_type": "code",
   "execution_count": 6,
   "outputs": [
    {
     "name": "stdout",
     "output_type": "stream",
     "text": [
      "Graph dimensions:\n",
      "  order : 12000 (number of nodes)\n",
      "  size  : 16000 (number of edges)\n"
     ]
    }
   ],
   "source": [
    "graph, test_graph, test_samples, test_labels, train_graph, train_samples, train_labels\\\n",
    "    = TestTrainDataFactory().create_testdata(n, add_id=False, add_predict_edges=True, add_org=False)\n",
    "\n",
    "graph.print_dimemsions()"
   ],
   "metadata": {
    "collapsed": false,
    "pycharm": {
     "name": "#%%\n"
    }
   }
  },
  {
   "cell_type": "code",
   "execution_count": 7,
   "outputs": [
    {
     "data": {
      "text/plain": "Computing transition probabilities:   0%|          | 0/12000 [00:00<?, ?it/s]",
      "application/vnd.jupyter.widget-view+json": {
       "version_major": 2,
       "version_minor": 0,
       "model_id": "664c6bc595a342e59f707270d3d53b6b"
      }
     },
     "metadata": {},
     "output_type": "display_data"
    },
    {
     "name": "stderr",
     "output_type": "stream",
     "text": [
      "Generating walks (CPU: 1): 100%|██████████| 10/10 [00:35<00:00,  3.60s/it]\n"
     ]
    },
    {
     "name": "stdout",
     "output_type": "stream",
     "text": [
      "Embedding shape:\n",
      "Nodes    = 12000 (number of nodes)\n",
      "Features = 64 (number of features per node)\n"
     ]
    }
   ],
   "source": [
    "window = 8\n",
    "dimensions = 64\n",
    "embeddings =  EdgeEmbedding(graph.graph, window=window, dimensions=dimensions).embeddings\n",
    "\n",
    "test_embeddings  = [embeddings[str(x[0]),str(x[1])] for x in test_samples]\n",
    "train_embeddings = [embeddings[str(x[0]),str(x[1])] for x in train_samples]\n",
    "\n",
    "print(\"Embedding shape:\")\n",
    "print(\"Nodes    =\", str(embeddings.kv.vectors.shape[0]), \"(number of nodes)\")\n",
    "print(\"Features =\", embeddings.kv.vectors.shape[1], \"(number of features per node)\")"
   ],
   "metadata": {
    "collapsed": false,
    "pycharm": {
     "name": "#%%\n"
    }
   }
  },
  {
   "cell_type": "code",
   "execution_count": 8,
   "outputs": [
    {
     "name": "stdout",
     "output_type": "stream",
     "text": [
      "New Testdata set with EM and EMx\n",
      "[('DC1157', 'EM1157x'), ('DC555', 'EM555'), ('EM1878', 'DC1878'), ('DC125', 'EM125x'), ('DC341', 'EM341'), ('EM616x', 'DC616'), ('DC769', 'EM769x'), ('DC771', 'EM771'), ('EM1366x', 'DC1366'), ('EM1302', 'DC1302')] ...\n",
      "[0, 1, 1, 0, 1, 0, 0, 1, 0, 1] ...\n"
     ]
    }
   ],
   "source": [
    "# Filter positive edges\n",
    "pos_samples = []\n",
    "for i in range(len(test_labels)):\n",
    "    sample = test_samples[i]\n",
    "    label = test_labels[i]\n",
    "    if label == 1:\n",
    "        pos_samples.append(sample)\n",
    "\n",
    "# Generate negative samples by appending an x to the employee\n",
    "neg_samples = []\n",
    "for sample in pos_samples:\n",
    "    from_node = sample[0]\n",
    "    to_node = sample[1]\n",
    "    if from_node.startswith(\"EM\"):\n",
    "        from_node = from_node + \"x\"\n",
    "    if to_node.startswith(\"EM\"):\n",
    "        to_node = to_node + \"x\"\n",
    "    neg_samples.append((from_node, to_node))\n",
    "\n",
    "\n",
    "# Generate new test data set\n",
    "pos_labels = [1 for _ in range(len(pos_samples))]\n",
    "neg_labels = [0 for _ in range(len(neg_samples))]\n",
    "\n",
    "# Combine and shuffle samples\n",
    "samples = pos_samples\n",
    "samples.extend(neg_samples)\n",
    "labels = pos_labels\n",
    "labels.extend(neg_labels)\n",
    "test_samples, test_labels = EdgeLabelFactory().shuffle(samples, labels)\n",
    "\n",
    "# Generate new test embeddings\n",
    "test_embeddings  = [embeddings[str(x[0]),str(x[1])] for x in test_samples]\n",
    "\n",
    "print(\"New Testdata set with EM and EMx\")\n",
    "print(test_samples[:10], \"...\")\n",
    "print(test_labels[:10], \"...\")"
   ],
   "metadata": {
    "collapsed": false,
    "pycharm": {
     "name": "#%%\n"
    }
   }
  },
  {
   "cell_type": "code",
   "execution_count": 9,
   "outputs": [
    {
     "name": "stdout",
     "output_type": "stream",
     "text": [
      "           RandomForestClassifier\n",
      "Precision                0.500753\n",
      "Recall                   0.997000\n",
      "F1-Score                 0.666667\n"
     ]
    }
   ],
   "source": [
    "classifier = RandomForestClassifier\n",
    "c = classifier(n_estimators=1000)\n",
    "c.fit(train_embeddings, train_labels)\n",
    "y_pred = c.predict(test_embeddings)\n",
    "\n",
    "name  = classifier.__name__\n",
    "index = [\"Precision\", \"Recall\", \"F1-Score\"]\n",
    "score = {}\n",
    "\n",
    "score[name] = [\n",
    "    metrics.precision_score(test_labels, y_pred),\n",
    "    metrics.recall_score(test_labels, y_pred),\n",
    "    metrics.f1_score(test_labels, y_pred)\n",
    "]\n",
    "\n",
    "df = pd.DataFrame(score, index=index)\n",
    "print(df)"
   ],
   "metadata": {
    "collapsed": false,
    "pycharm": {
     "name": "#%%\n"
    }
   }
  },
  {
   "cell_type": "markdown",
   "source": [
    "\n",
    "---\n",
    "_The end._"
   ],
   "metadata": {
    "collapsed": false
   }
  }
 ],
 "metadata": {
  "kernelspec": {
   "display_name": "Python 3",
   "language": "python",
   "name": "python3"
  },
  "language_info": {
   "codemirror_mode": {
    "name": "ipython",
    "version": 2
   },
   "file_extension": ".py",
   "mimetype": "text/x-python",
   "name": "python",
   "nbconvert_exporter": "python",
   "pygments_lexer": "ipython2",
   "version": "2.7.6"
  }
 },
 "nbformat": 4,
 "nbformat_minor": 0
}
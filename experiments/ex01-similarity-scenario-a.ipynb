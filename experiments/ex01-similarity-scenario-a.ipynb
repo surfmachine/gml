{
 "cells": [
  {
   "cell_type": "markdown",
   "source": [
    "Berner Fachhochschule BFH - MAS Data Science - Graph Machine Learning - Master Thesis FS/2022 Thomas Iten\n",
    "\n",
    "# Experiment 1 - Similarity Scenario A\n",
    "\n",
    "**Referenzen**<br />\n",
    "[1] https://networkx.org/documentation/stable/reference/algorithms/link_prediction.html<br />\n",
    "[2] Stamile, Marzullo, Deusebio. Graph Machine Learning. Packt Publishing 2021. ISBN 978-1-80020-449-2\n",
    "\n"
   ],
   "metadata": {
    "collapsed": false
   }
  },
  {
   "cell_type": "code",
   "execution_count": 1,
   "metadata": {
    "collapsed": true
   },
   "outputs": [],
   "source": [
    "from gml.graph.graph_link import GraphLink, Algorithm\n",
    "from gml.graph.graph_viz import GraphViz\n",
    "from gml.graph.data_factory import DataFactory, EdgeLabelFactory"
   ]
  },
  {
   "cell_type": "markdown",
   "source": [],
   "metadata": {
    "collapsed": false
   }
  },
  {
   "cell_type": "markdown",
   "source": [
    "## 1.1 Data Structure\n",
    "### Matching Cluster - Mitarbeiter"
   ],
   "metadata": {
    "collapsed": false
   }
  },
  {
   "cell_type": "markdown",
   "source": [
    "<img src=\"img/test-scenario1.png\" alt=\"Test Scenario 1\" width=\"800\"/>"
   ],
   "metadata": {
    "collapsed": false
   }
  },
  {
   "cell_type": "markdown",
   "source": [
    "## 1.2 Exploration\n",
    "\n",
    "### Create graph and link predictions for all missing edges"
   ],
   "metadata": {
    "collapsed": false
   }
  },
  {
   "cell_type": "code",
   "execution_count": 2,
   "outputs": [
    {
     "data": {
      "text/plain": "<Figure size 432x432 with 1 Axes>",
      "image/png": "[encoded data removed]"
     },
     "metadata": {},
     "output_type": "display_data"
    },
    {
     "name": "stdout",
     "output_type": "stream",
     "text": [
      "Link Predictions:\n",
      "          Edge        CN  PA        JC        AA\n",
      "0    (GR, EM0)  2.100000   8  0.200000  0.910239\n",
      "1     (GR, I0)  0.866667   4  0.000000  0.000000\n",
      "2     (GR, F0)  0.866667   4  0.000000  0.000000\n",
      "3     (GR, L0)  0.866667   4  0.000000  0.000000\n",
      "4    (GR, MC0)  2.100000   8  0.200000  0.910239\n",
      "5    (GR, EM1)  2.100000   8  0.200000  0.910239\n",
      "6     (GR, I1)  0.866667   4  0.000000  0.000000\n",
      "7     (GR, F1)  0.866667   4  0.000000  0.000000\n",
      "8     (GR, L1)  0.866667   4  0.000000  0.000000\n",
      "9    (GR, MC1)  2.100000   8  0.200000  0.910239\n",
      "10    (OR, DR)  2.100000   9  0.200000  1.442695\n",
      "11    (OR, I0)  2.100000   6  0.250000  0.721348\n",
      "12    (OR, F0)  2.100000   6  0.250000  0.721348\n",
      "13    (OR, L0)  2.100000   6  0.250000  0.721348\n",
      "14   (OR, MC0)  0.866667  12  0.000000  0.000000\n",
      "15    (OR, I1)  2.100000   6  0.250000  0.721348\n",
      "16    (OR, F1)  2.100000   6  0.250000  0.721348\n",
      "17    (OR, L1)  2.100000   6  0.250000  0.721348\n",
      "18   (OR, MC1)  0.866667  12  0.000000  0.000000\n",
      "19   (DR, EM0)  0.866667  12  0.000000  0.000000\n",
      "20    (DR, I0)  2.100000   6  0.250000  0.721348\n",
      "21    (DR, F0)  2.100000   6  0.250000  0.721348\n",
      "22    (DR, L0)  2.100000   6  0.250000  0.721348\n",
      "23   (DR, EM1)  0.866667  12  0.000000  0.000000\n",
      "24    (DR, I1)  2.100000   6  0.250000  0.721348\n",
      "25    (DR, F1)  2.100000   6  0.250000  0.721348\n",
      "26    (DR, L1)  2.100000   6  0.250000  0.721348\n",
      "27  (EM0, MC0)  3.700000  16  0.600000  4.328085\n",
      "28  (EM0, EM1)  2.100000  16  0.142857  0.910239\n",
      "29   (EM0, I1)  0.866667   8  0.000000  0.000000\n",
      "30   (EM0, F1)  0.866667   8  0.000000  0.000000\n",
      "31   (EM0, L1)  0.866667   8  0.000000  0.000000\n",
      "32  (EM0, MC1)  0.650000  16  0.000000  0.000000\n",
      "33    (I0, F0)  2.900000   4  1.000000  1.442695\n",
      "34    (I0, L0)  2.900000   4  1.000000  1.442695\n",
      "35   (I0, EM1)  0.866667   8  0.000000  0.000000\n",
      "36    (I0, I1)  0.650000   4  0.000000  0.000000\n",
      "37    (I0, F1)  0.650000   4  0.000000  0.000000\n",
      "38    (I0, L1)  0.650000   4  0.000000  0.000000\n",
      "39   (I0, MC1)  0.866667   8  0.000000  0.000000\n",
      "40    (F0, L0)  2.900000   4  1.000000  1.442695\n",
      "41   (F0, EM1)  0.866667   8  0.000000  0.000000\n",
      "42    (F0, I1)  0.650000   4  0.000000  0.000000\n",
      "43    (F0, F1)  0.650000   4  0.000000  0.000000\n",
      "44    (F0, L1)  0.650000   4  0.000000  0.000000\n",
      "45   (F0, MC1)  0.866667   8  0.000000  0.000000\n",
      "46   (L0, EM1)  0.866667   8  0.000000  0.000000\n",
      "47    (L0, I1)  0.650000   4  0.000000  0.000000\n",
      "48    (L0, F1)  0.650000   4  0.000000  0.000000\n",
      "49    (L0, L1)  0.650000   4  0.000000  0.000000\n",
      "50   (L0, MC1)  0.866667   8  0.000000  0.000000\n",
      "51  (MC0, EM1)  0.650000  16  0.000000  0.000000\n",
      "52   (MC0, I1)  0.866667   8  0.000000  0.000000\n",
      "53   (MC0, F1)  0.866667   8  0.000000  0.000000\n",
      "54   (MC0, L1)  0.866667   8  0.000000  0.000000\n",
      "55  (MC0, MC1)  2.100000  16  0.142857  0.910239\n",
      "56  (EM1, MC1)  3.700000  16  0.600000  4.328085\n",
      "57    (I1, F1)  2.900000   4  1.000000  1.442695\n",
      "58    (I1, L1)  2.900000   4  1.000000  1.442695\n",
      "59    (F1, L1)  2.900000   4  1.000000  1.442695\n",
      "\n",
      "Legend:\n",
      "  CN  = Common Neighbor Centrality\n",
      "  PA  = Preferential Attachment\n",
      "  JC  = Jaccard Coefficient\n",
      "  AA  = Adamic Adar Index\n"
     ]
    }
   ],
   "source": [
    "graph = DataFactory().create_graph(n=2, connected=True)\n",
    "graph.draw(layout=GraphViz.SPIRAL_LAYOUT)\n",
    "\n",
    "possible_edges = graph.missing_edges()\n",
    "\n",
    "gl = GraphLink(graph, possible_edges)\\\n",
    "    .predict(Algorithm.COMMON_NEIGHBOR_CENTRALITY)\\\n",
    "    .predict(Algorithm.PREFERENTIAL_ATTACHMENT)\\\n",
    "    .predict(Algorithm.JACCARD_COEFFICIENT)\\\n",
    "    .predict(Algorithm.ADAMIC_ADAR_INDEX)\n",
    "\n",
    "gl.print_results(title=\"Link Predictions:\")"
   ],
   "metadata": {
    "collapsed": false,
    "pycharm": {
     "name": "#%%\n"
    }
   }
  },
  {
   "cell_type": "markdown",
   "source": [
    "### Normalize results, filter edges of interest, label results and show metrics"
   ],
   "metadata": {
    "collapsed": false
   }
  },
  {
   "cell_type": "code",
   "execution_count": 3,
   "outputs": [
    {
     "name": "stdout",
     "output_type": "stream",
     "text": [
      "Predictions normalized:\n",
      "         Edge        CN   PA   JC   AA\n",
      "0  (EM0, MC0)  1.000000  1.0  0.6  1.0\n",
      "1  (EM0, MC1)  0.175676  1.0  0.0  0.0\n",
      "2  (EM1, MC0)  0.175676  1.0  0.0  0.0\n",
      "3  (EM1, MC1)  1.000000  1.0  0.6  1.0\n",
      "\n",
      "Prediction labels with threshold 0.8:\n",
      "         Edge  CN  PA  JC  AA\n",
      "0  (EM0, MC0)   1   1   0   1\n",
      "1  (EM0, MC1)   0   1   0   0\n",
      "2  (EM1, MC0)   0   1   0   0\n",
      "3  (EM1, MC1)   1   1   0   1\n",
      "\n",
      "Metrics:\n",
      "      Metric   CN        PA   JC   AA\n",
      "0  Precision  1.0  0.500000  0.0  1.0\n",
      "1     Recall  1.0  1.000000  0.0  1.0\n",
      "2   F1-Score  1.0  0.666667  0.0  1.0\n",
      "\n",
      "Legend:\n",
      "  CN  = Common Neighbor Centrality\n",
      "  PA  = Preferential Attachment\n",
      "  JC  = Jaccard Coefficient\n",
      "  AA  = Adamic Adar Index\n"
     ]
    }
   ],
   "source": [
    "# First normalize, then filter edges of interest\n",
    "gl.normalize()\n",
    "gl.filter([(\"EM0\",\"MC0\"),(\"EM0\", \"MC1\"),(\"EM1\",\"MC0\"),(\"EM1\", \"MC1\")])\n",
    "\n",
    "gl.print_results(title=\"Predictions normalized:\", incl_legend=False)\n",
    "print()\n",
    "\n",
    "gl.label(threshold=0.8)\n",
    "gl.print_results(title=\"Prediction labels with threshold 0.8:\", incl_legend=False)\n",
    "print()\n",
    "\n",
    "y_true = [1,0,0,1]\n",
    "gl.print_metrics(y_true, title=\"Metrics:\")"
   ],
   "metadata": {
    "collapsed": false,
    "pycharm": {
     "name": "#%%\n"
    }
   }
  },
  {
   "cell_type": "markdown",
   "source": [
    "## 1.3 Tests\n",
    "\n",
    "### Create link predictions for edge samples of interest"
   ],
   "metadata": {
    "collapsed": false
   }
  },
  {
   "cell_type": "code",
   "execution_count": 4,
   "outputs": [
    {
     "name": "stdout",
     "output_type": "stream",
     "text": [
      "Metrics\n",
      "      Metric   CN        PA   JC   AA\n",
      "0  Precision  1.0  0.500000  1.0  1.0\n",
      "1     Recall  1.0  1.000000  1.0  1.0\n",
      "2   F1-Score  1.0  0.666667  1.0  1.0\n",
      "\n",
      "Legend:\n",
      "  CN  = Common Neighbor Centrality\n",
      "  PA  = Preferential Attachment\n",
      "  JC  = Jaccard Coefficient\n",
      "  AA  = Adamic Adar Index\n"
     ]
    }
   ],
   "source": [
    "n = 100\n",
    "graph = DataFactory().create_graph(n=n, connected=True)\n",
    "\n",
    "edges, labels = EdgeLabelFactory().sample(\"MC\", \"EM\", n, p=0.1, shuffle=True)\n",
    "\n",
    "gl = GraphLink(graph, edges)\\\n",
    "    .predict(Algorithm.COMMON_NEIGHBOR_CENTRALITY)\\\n",
    "    .predict(Algorithm.PREFERENTIAL_ATTACHMENT)\\\n",
    "    .predict(Algorithm.JACCARD_COEFFICIENT)\\\n",
    "    .predict(Algorithm.ADAMIC_ADAR_INDEX)\n",
    "\n",
    "gl.normalize()\n",
    "gl.label(threshold=0.8)\n",
    "gl.print_metrics(labels)"
   ],
   "metadata": {
    "collapsed": false,
    "pycharm": {
     "name": "#%%\n"
    }
   }
  },
  {
   "cell_type": "markdown",
   "source": [
    "###  Create link predcitions for all possible edges and then filter edge samples of interest"
   ],
   "metadata": {
    "collapsed": false
   }
  },
  {
   "cell_type": "code",
   "execution_count": 5,
   "outputs": [
    {
     "name": "stdout",
     "output_type": "stream",
     "text": [
      "Metrics\n",
      "      Metric   CN   PA   JC   AA\n",
      "0  Precision  1.0  0.0  0.0  1.0\n",
      "1     Recall  1.0  0.0  0.0  1.0\n",
      "2   F1-Score  1.0  0.0  0.0  1.0\n",
      "\n",
      "Legend:\n",
      "  CN  = Common Neighbor Centrality\n",
      "  PA  = Preferential Attachment\n",
      "  JC  = Jaccard Coefficient\n",
      "  AA  = Adamic Adar Index\n"
     ]
    }
   ],
   "source": [
    "n = 100\n",
    "graph = DataFactory().create_graph(n=n, connected=True)\n",
    "\n",
    "possible_edges = graph.missing_edges()\n",
    "\n",
    "gl = GraphLink(graph, possible_edges)\\\n",
    "    .predict(Algorithm.COMMON_NEIGHBOR_CENTRALITY)\\\n",
    "    .predict(Algorithm.PREFERENTIAL_ATTACHMENT)\\\n",
    "    .predict(Algorithm.JACCARD_COEFFICIENT)\\\n",
    "    .predict(Algorithm.ADAMIC_ADAR_INDEX)\n",
    "\n",
    "gl.normalize()\n",
    "\n",
    "edges, labels = EdgeLabelFactory().sample(\"MC\", \"EM\", n, p=0.1, shuffle=True)\n",
    "gl.filter(edges)\n",
    "\n",
    "gl.label(threshold=0.8)\n",
    "gl.print_metrics(labels)"
   ],
   "metadata": {
    "collapsed": false,
    "pycharm": {
     "name": "#%%\n"
    }
   }
  },
  {
   "cell_type": "markdown",
   "source": [
    "---\n",
    "_The end._"
   ],
   "metadata": {
    "collapsed": false
   }
  }
 ],
 "metadata": {
  "kernelspec": {
   "display_name": "Python 3",
   "language": "python",
   "name": "python3"
  },
  "language_info": {
   "codemirror_mode": {
    "name": "ipython",
    "version": 2
   },
   "file_extension": ".py",
   "mimetype": "text/x-python",
   "name": "python",
   "nbconvert_exporter": "python",
   "pygments_lexer": "ipython2",
   "version": "2.7.6"
  }
 },
 "nbformat": 4,
 "nbformat_minor": 0
}